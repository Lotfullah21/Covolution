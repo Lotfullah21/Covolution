{
  "cells": [
    {
      "cell_type": "markdown",
      "metadata": {
        "id": "view-in-github",
        "colab_type": "text"
      },
      "source": [
        "<a href=\"https://colab.research.google.com/github/Lotfullah21/Covolution/blob/main/9_4_1ConvolutionalNeralNetworkSimple_example.ipynb\" target=\"_parent\"><img src=\"https://colab.research.google.com/assets/colab-badge.svg\" alt=\"Open In Colab\"/></a>"
      ]
    },
    {
      "cell_type": "markdown",
      "metadata": {
        "id": "53T0yAO591u4"
      },
      "source": [
        "<p style=\"text-align:center\">\n",
        "    <a href=\"https://skills.network/?utm_medium=Exinfluencer&utm_source=Exinfluencer&utm_content=000026UJ&utm_term=10006555&utm_id=NA-SkillsNetwork-Channel-SkillsNetworkCoursesIBMDeveloperSkillsNetworkDL0110ENSkillsNetwork20647811-2022-01-01\" target=\"_blank\">\n",
        "    <img src=\"https://cf-courses-data.s3.us.cloud-object-storage.appdomain.cloud/assets/logos/SN_web_lightmode.png\" width=\"200\" alt=\"Skills Network Logo\"  />\n",
        "    </a>\n",
        "</p>\n",
        "<h1 align=center><font size = 5>Convolutional Neral Network Simple example </font></h1> \n"
      ]
    },
    {
      "cell_type": "markdown",
      "metadata": {
        "id": "t14q6CyX91vB"
      },
      "source": [
        "<h3>Objective for this Notebook<h3>    \n",
        "<h5> 1. Learn Convolutional Neral Network</h5>\n",
        "<h5> 2. Define Softmax , Criterion function, Optimizer and Train the  Model</h5>    \n"
      ]
    },
    {
      "cell_type": "markdown",
      "metadata": {
        "id": "a8tvi_Vl91vD"
      },
      "source": [
        "# Table of Contents\n",
        "\n",
        "In this lab, we will use a Convolutional Neral Networks to classify horizontal an vertical Lines\n",
        "\n",
        "<div class=\"alert alert-block alert-info\" style=\"margin-top: 20px\">\n",
        "<li><a href=\"https://#ref0\">Helper functions </a></li>\n",
        "\n",
        "<li><a href=\"https://#ref1\"> Prepare Data </a></li>\n",
        "<li><a href=\"https://#ref2\">Convolutional Neral Network </a></li>\n",
        "<li><a href=\"https://#ref3\">Define Softmax , Criterion function, Optimizer and Train the  Model</a></li>\n",
        "<li><a href=\"https://#ref4\">Analyse Results</a></li>\n",
        "\n",
        "<br>\n",
        "<p></p>\n",
        "Estimated Time Needed: <strong>25 min</strong>\n",
        "</div>\n",
        "\n",
        "<hr>\n"
      ]
    },
    {
      "cell_type": "markdown",
      "metadata": {
        "id": "kgu-jSTn91vE"
      },
      "source": [
        "<a id=\"ref0\"></a>\n",
        "\n",
        "<h2 align=center>Helper functions </h2>\n"
      ]
    },
    {
      "cell_type": "code",
      "execution_count": 3,
      "metadata": {
        "id": "ZT6SfyRa91vF"
      },
      "outputs": [],
      "source": [
        "import torch \n",
        "import torch.nn as nn\n",
        "import torchvision.transforms as transforms\n",
        "import torchvision.datasets as dsets\n",
        "import matplotlib.pylab as plt\n",
        "import numpy as np\n",
        "import pandas as pd"
      ]
    },
    {
      "cell_type": "code",
      "execution_count": 4,
      "metadata": {
        "colab": {
          "base_uri": "https://localhost:8080/"
        },
        "id": "cLw9AY2N91vH",
        "outputId": "5fce7d52-6916-4f9b-cf56-e4e43ed391d6"
      },
      "outputs": [
        {
          "output_type": "execute_result",
          "data": {
            "text/plain": [
              "<torch._C.Generator at 0x7f0112756070>"
            ]
          },
          "metadata": {},
          "execution_count": 4
        }
      ],
      "source": [
        "torch.manual_seed(4)"
      ]
    },
    {
      "cell_type": "markdown",
      "metadata": {
        "id": "jTgy9xSm91vH"
      },
      "source": [
        "function to plot out the parameters of the Convolutional layers\n"
      ]
    },
    {
      "cell_type": "code",
      "execution_count": 5,
      "metadata": {
        "id": "cqoKpbNL91vI"
      },
      "outputs": [],
      "source": [
        "def plot_channels(W):\n",
        "    #number of output channels \n",
        "    n_out=W.shape[0]\n",
        "    #number of input channels \n",
        "    n_in=W.shape[1]\n",
        "    w_min=W.min().item()\n",
        "    w_max=W.max().item()\n",
        "    fig, axes = plt.subplots(n_out,n_in)\n",
        "    fig.subplots_adjust(hspace = 0.1)\n",
        "    out_index=0\n",
        "    in_index=0\n",
        "    #plot outputs as rows inputs as columns \n",
        "    for ax in axes.flat:\n",
        "    \n",
        "        if in_index>n_in-1:\n",
        "            out_index=out_index+1\n",
        "            in_index=0\n",
        "              \n",
        "        ax.imshow(W[out_index,in_index,:,:], vmin=w_min, vmax=w_max, cmap='seismic')\n",
        "        ax.set_yticklabels([])\n",
        "        ax.set_xticklabels([])\n",
        "        in_index=in_index+1\n",
        "\n",
        "    plt.show()"
      ]
    },
    {
      "cell_type": "markdown",
      "metadata": {
        "id": "YXjLWxEr91vJ"
      },
      "source": [
        "<code>show_data</code>: plot out data sample\n"
      ]
    },
    {
      "cell_type": "code",
      "execution_count": 6,
      "metadata": {
        "id": "TAXrVvOV91vK"
      },
      "outputs": [],
      "source": [
        "def show_data(dataset,sample):\n",
        "\n",
        "    plt.imshow(dataset.x[sample,0,:,:].numpy(),cmap='gray')\n",
        "    plt.title('y='+str(dataset.y[sample].item()))\n",
        "    plt.show()"
      ]
    },
    {
      "cell_type": "markdown",
      "metadata": {
        "id": "h_ScM-Qk91vL"
      },
      "source": [
        "create some toy data\n"
      ]
    },
    {
      "cell_type": "code",
      "execution_count": 7,
      "metadata": {
        "id": "JORvl8Kd91vM"
      },
      "outputs": [],
      "source": [
        "from torch.utils.data import Dataset, DataLoader\n",
        "class Data(Dataset):\n",
        "    def __init__(self,N_images=100,offset=0,p=0.9, train=False):\n",
        "        \"\"\"\n",
        "        p:portability that pixel is wight  \n",
        "        N_images:number of images \n",
        "        offset:set a random vertical and horizontal offset images by a sample should be less than 3 \n",
        "        \"\"\"\n",
        "        if train==True:\n",
        "            np.random.seed(1)  \n",
        "        \n",
        "        #make images multiple of 3 \n",
        "        N_images=2*(N_images//2)\n",
        "        images=np.zeros((N_images,1,11,11))\n",
        "        start1=3\n",
        "        start2=1\n",
        "        self.y=torch.zeros(N_images).type(torch.long)\n",
        "\n",
        "        for n in range(N_images):\n",
        "            if offset>0:\n",
        "        \n",
        "                low=int(np.random.randint(low=start1, high=start1+offset, size=1))\n",
        "                high=int(np.random.randint(low=start2, high=start2+offset, size=1))\n",
        "            else:\n",
        "                low=4\n",
        "                high=1\n",
        "        \n",
        "            if n<=N_images//2:\n",
        "                self.y[n]=0\n",
        "                images[n,0,high:high+9,low:low+3]= np.random.binomial(1, p, (9,3))\n",
        "            elif  n>N_images//2:\n",
        "                self.y[n]=1\n",
        "                images[n,0,low:low+3,high:high+9] = np.random.binomial(1, p, (3,9))\n",
        "           \n",
        "        \n",
        "        \n",
        "        self.x=torch.from_numpy(images).type(torch.FloatTensor)\n",
        "        self.len=self.x.shape[0]\n",
        "        del(images)\n",
        "        np.random.seed(0)\n",
        "    def __getitem__(self,index):      \n",
        "        return self.x[index],self.y[index]\n",
        "    def __len__(self):\n",
        "        return self.len"
      ]
    },
    {
      "cell_type": "markdown",
      "metadata": {
        "id": "7ZSd6oeL91vM"
      },
      "source": [
        "<code>plot_activation</code>: plot out the activations of the Convolutional layers\n"
      ]
    },
    {
      "cell_type": "code",
      "execution_count": 8,
      "metadata": {
        "id": "UkBIcB9K91vN"
      },
      "outputs": [],
      "source": [
        "def plot_activations(A,number_rows= 1,name=\"\"):\n",
        "    A=A[0,:,:,:].detach().numpy()\n",
        "    n_activations=A.shape[0]\n",
        "    \n",
        "    \n",
        "    print(n_activations)\n",
        "    A_min=A.min().item()\n",
        "    A_max=A.max().item()\n",
        "\n",
        "    if n_activations==1:\n",
        "\n",
        "        # Plot the image.\n",
        "        plt.imshow(A[0,:], vmin=A_min, vmax=A_max, cmap='seismic')\n",
        "\n",
        "    else:\n",
        "        fig, axes = plt.subplots(number_rows, n_activations//number_rows)\n",
        "        fig.subplots_adjust(hspace = 0.4)\n",
        "        for i,ax in enumerate(axes.flat):\n",
        "            if i< n_activations:\n",
        "                # Set the label for the sub-plot.\n",
        "                ax.set_xlabel( \"activation:{0}\".format(i+1))\n",
        "\n",
        "                # Plot the image.\n",
        "                ax.imshow(A[i,:], vmin=A_min, vmax=A_max, cmap='seismic')\n",
        "                ax.set_xticks([])\n",
        "                ax.set_yticks([])\n",
        "    plt.show()"
      ]
    },
    {
      "cell_type": "markdown",
      "metadata": {
        "id": "0hek2SGQ91vO"
      },
      "source": [
        "Utility function for computing output of convolutions\n",
        "takes a tuple of (h,w) and returns a tuple of (h,w)\n"
      ]
    },
    {
      "cell_type": "code",
      "execution_count": 9,
      "metadata": {
        "id": "3S2gfcd591vO"
      },
      "outputs": [],
      "source": [
        "\n",
        "def conv_output_shape(h_w, kernel_size=1, stride=1, pad=0, dilation=1):\n",
        "    #by Duane Nielsen\n",
        "    from math import floor\n",
        "    if type(kernel_size) is not tuple:\n",
        "        kernel_size = (kernel_size, kernel_size)\n",
        "    h = floor( ((h_w[0] + (2 * pad) - ( dilation * (kernel_size[0] - 1) ) - 1 )/ stride) + 1)\n",
        "    w = floor( ((h_w[1] + (2 * pad) - ( dilation * (kernel_size[1] - 1) ) - 1 )/ stride) + 1)\n",
        "    return h, w"
      ]
    },
    {
      "cell_type": "markdown",
      "metadata": {
        "id": "53fD8Dg391vP"
      },
      "source": [
        "<a id=\"ref1\"></a>\n",
        "\n",
        "<h2 align=center>Prepare Data </h2> \n"
      ]
    },
    {
      "cell_type": "markdown",
      "metadata": {
        "id": "X07uBSAp91vP"
      },
      "source": [
        "Load the training dataset with 10000 samples\n"
      ]
    },
    {
      "cell_type": "code",
      "execution_count": 10,
      "metadata": {
        "id": "bSSGyI-x91vQ"
      },
      "outputs": [],
      "source": [
        "N_images=10000\n",
        "train_dataset=Data(N_images=N_images)"
      ]
    },
    {
      "cell_type": "markdown",
      "metadata": {
        "id": "lix1bBTc91vQ"
      },
      "source": [
        "Load the testing dataset\n"
      ]
    },
    {
      "cell_type": "code",
      "execution_count": 11,
      "metadata": {
        "colab": {
          "base_uri": "https://localhost:8080/"
        },
        "id": "WrTQhEiW91vR",
        "outputId": "467df173-2aba-4a06-f966-b6a4f1d8cdee"
      },
      "outputs": [
        {
          "output_type": "execute_result",
          "data": {
            "text/plain": [
              "<__main__.Data at 0x7f0107f7bb10>"
            ]
          },
          "metadata": {},
          "execution_count": 11
        }
      ],
      "source": [
        "validation_dataset=Data(N_images=1000,train=False)\n",
        "validation_dataset"
      ]
    },
    {
      "cell_type": "markdown",
      "metadata": {
        "id": "SihG-4FT91vR"
      },
      "source": [
        "we can see the data type is long\n"
      ]
    },
    {
      "cell_type": "markdown",
      "metadata": {
        "id": "BVf5XIQs91vR"
      },
      "source": [
        "### Data Visualization\n"
      ]
    },
    {
      "cell_type": "markdown",
      "metadata": {
        "id": "XhppGRmr91vS"
      },
      "source": [
        "Each element in the rectangular  tensor corresponds to a number representing a pixel intensity  as demonstrated by  the following image.\n"
      ]
    },
    {
      "cell_type": "markdown",
      "metadata": {
        "id": "VJc9Vg1H91vS"
      },
      "source": [
        "We can print out the third label\n"
      ]
    },
    {
      "cell_type": "code",
      "execution_count": 12,
      "metadata": {
        "colab": {
          "base_uri": "https://localhost:8080/",
          "height": 281
        },
        "id": "FZ8Tuvyw91vT",
        "outputId": "12222bb9-dc52-498f-9eb5-e58aedb42c14"
      },
      "outputs": [
        {
          "output_type": "display_data",
          "data": {
            "text/plain": [
              "<Figure size 432x288 with 1 Axes>"
            ],
            "image/png": "[encoded data removed]"
          },
          "metadata": {
            "needs_background": "light"
          }
        }
      ],
      "source": [
        "show_data(train_dataset,0)"
      ]
    },
    {
      "cell_type": "code",
      "execution_count": 13,
      "metadata": {
        "colab": {
          "base_uri": "https://localhost:8080/",
          "height": 281
        },
        "id": "JoKdhThi91vT",
        "outputId": "283a9e1b-37ad-45e8-ff82-7e489141b1f4"
      },
      "outputs": [
        {
          "output_type": "display_data",
          "data": {
            "text/plain": [
              "<Figure size 432x288 with 1 Axes>"
            ],
            "image/png": "[encoded data removed]"
          },
          "metadata": {
            "needs_background": "light"
          }
        }
      ],
      "source": [
        "show_data(train_dataset,N_images//2+2)"
      ]
    },
    {
      "cell_type": "markdown",
      "metadata": {
        "id": "acsqoky191vT"
      },
      "source": [
        "we can plot the 3rd  sample\n"
      ]
    },
    {
      "cell_type": "code",
      "source": [],
      "metadata": {
        "id": "AmPI3fKT6ogL"
      },
      "execution_count": null,
      "outputs": []
    },
    {
      "cell_type": "markdown",
      "metadata": {
        "id": "HCIVwV_R91vU"
      },
      "source": [
        "<a id=\"ref3\"></a>\n",
        "\n",
        "### Build a Convolutional Neral Network Class\n"
      ]
    },
    {
      "cell_type": "markdown",
      "metadata": {
        "id": "8v4tY7em91vU"
      },
      "source": [
        "The input image is 11 x11, the following will change the size of the activations:\n",
        "\n",
        "<ul>\n",
        "<il>convolutional layer</il> \n",
        "</ul>\n",
        "<ul>\n",
        "<il>max pooling layer</il> \n",
        "</ul>\n",
        "<ul>\n",
        "<il>convolutional layer </il>\n",
        "</ul>\n",
        "<ul>\n",
        "<il>max pooling layer </il>\n",
        "</ul>\n",
        "\n",
        "with the following parameters <code>kernel_size</code>, <code>stride</code> and <code> pad</code>.\n",
        "We use the following  lines of code to change the image before we get tot he fully connected layer\n"
      ]
    },
    {
      "cell_type": "code",
      "execution_count": 14,
      "metadata": {
        "colab": {
          "base_uri": "https://localhost:8080/"
        },
        "id": "Nv4yW7VN91vU",
        "outputId": "e9c4f590-95ca-430c-eac9-53d37e12a4ed"
      },
      "outputs": [
        {
          "output_type": "stream",
          "name": "stdout",
          "text": [
            "(10, 10)\n",
            "(9, 9)\n",
            "(8, 8)\n",
            "(7, 7)\n"
          ]
        }
      ],
      "source": [
        "out=conv_output_shape((11,11), kernel_size=2, stride=1, pad=0, dilation=1)\n",
        "print(out)\n",
        "out1=conv_output_shape(out, kernel_size=2, stride=1, pad=0, dilation=1)\n",
        "print(out1)\n",
        "out2=conv_output_shape(out1, kernel_size=2, stride=1, pad=0, dilation=1)\n",
        "print(out2)\n",
        "\n",
        "out3=conv_output_shape(out2, kernel_size=2, stride=1, pad=0, dilation=1)\n",
        "print(out3)"
      ]
    },
    {
      "cell_type": "markdown",
      "source": [],
      "metadata": {
        "id": "0zJojHYI6ph8"
      }
    },
    {
      "cell_type": "markdown",
      "source": [
        "n Pytroch, you can create a Conv2d object with multiple outputs. For each channel, a kernel is created, and each kernel performs a convolution independently. As a result, the number of outputs is equal to the number of channels"
      ],
      "metadata": {
        "id": "f94dhC8G6pnO"
      }
    },
    {
      "cell_type": "code",
      "source": [
        "class CNN(nn.Module):\n",
        "  def __init__(self, out_chan1 = 2, out_chan2 = 1):\n",
        "    super(CNN,self).__init__()\n",
        "    self.cnn1 = nn.Conv2d(in_channels = 1, out_channels = out_chan1, kernel_size = 2, stride = 1, padding = 0)\n",
        "    self.maxpool1 = nn.MaxPool2d(kernel_size = 2, stride = 1)\n",
        "\n",
        "    # second Convolutional layer\n",
        "    self.cnn2 = nn.Conv2d(in_channels = out_chan1, out_channels = out_chan2, kernel_size = 2, stride =1 , padding = 0)\n",
        "    self.maxpool2 = nn.MaxPool2d(kernel_size = 2, stride = 1)\n",
        "\n",
        "    # fully connected layer\n",
        "    self.fc1 = nn.Linear(out_chan2*7*7,2)\n",
        "\n",
        "  def forward(self, x):\n",
        "  #  first layer\n",
        "    x = self.cnn1(x)\n",
        "    x = torch.relu(x)\n",
        "    x = self.maxpool1(x)\n",
        "\n",
        "    # 2nd layer\n",
        "    x = self.cnn2(x)\n",
        "    x = torch.relu(x)\n",
        "    x = self.maxpool2(x)\n",
        "\n",
        "    # flattening the output before giving it to final layer\n",
        "    x = x.view(x.size(0),-1)\n",
        "    # fully connected layer\n",
        "    x = self.fc1(x)\n",
        "    return x\n",
        "  \n",
        "  def activations(self, x):\n",
        "    z1 = self.cnn1(x)\n",
        "    a1 = torch.relu(z1)\n",
        "    out = self.maxpool1(a1)\n",
        "\n",
        "    z2=self.cnn2(out)\n",
        "    a2=torch.relu(z2)\n",
        "    out=self.maxpool2(a2)\n",
        "    out=out.view(out.size(0),-1)\n",
        "    return z1,a1,z2,a2,out        "
      ],
      "metadata": {
        "id": "2mtd_MnJ95Ck"
      },
      "execution_count": 15,
      "outputs": []
    },
    {
      "cell_type": "markdown",
      "metadata": {
        "id": "0cLOySbt91vV"
      },
      "source": [
        "Build a Convolutional Network class with two Convolutional layers and one fully connected layer. Pre-determine the size of the final output matrix. The parameters in the constructor are the number of output channels for the first and second layer.\n"
      ]
    },
    {
      "cell_type": "markdown",
      "metadata": {
        "id": "dUnaZUMp91vW"
      },
      "source": [
        "<a id=\"ref3\"></a>\n",
        "\n",
        "<h2> Define the Convolutional Neral Network Classifier , Criterion function, Optimizer and Train the  Model  </h2> \n"
      ]
    },
    {
      "cell_type": "markdown",
      "metadata": {
        "id": "dqOUK_bY91vX"
      },
      "source": [
        "There are 2 output channels for the first layer, and 1 outputs channel for the second layer\n"
      ]
    },
    {
      "cell_type": "code",
      "source": [
        "model = CNN(2,1)"
      ],
      "metadata": {
        "id": "qWBZ0QTx6Iwd"
      },
      "execution_count": 16,
      "outputs": []
    },
    {
      "cell_type": "code",
      "execution_count": 17,
      "metadata": {
        "id": "qvEoJs4z91vX"
      },
      "outputs": [],
      "source": [
        "model=CNN(2,1)"
      ]
    },
    {
      "cell_type": "markdown",
      "metadata": {
        "id": "DGBOF4mE91vY"
      },
      "source": [
        "we can see the model parameters with the object\n"
      ]
    },
    {
      "cell_type": "code",
      "execution_count": 18,
      "metadata": {
        "colab": {
          "base_uri": "https://localhost:8080/"
        },
        "id": "lpAPZjoB91vY",
        "outputId": "52525b6f-5a44-4a8c-9165-360ec2d37eff"
      },
      "outputs": [
        {
          "output_type": "execute_result",
          "data": {
            "text/plain": [
              "CNN(\n",
              "  (cnn1): Conv2d(1, 2, kernel_size=(2, 2), stride=(1, 1))\n",
              "  (maxpool1): MaxPool2d(kernel_size=2, stride=1, padding=0, dilation=1, ceil_mode=False)\n",
              "  (cnn2): Conv2d(2, 1, kernel_size=(2, 2), stride=(1, 1))\n",
              "  (maxpool2): MaxPool2d(kernel_size=2, stride=1, padding=0, dilation=1, ceil_mode=False)\n",
              "  (fc1): Linear(in_features=49, out_features=2, bias=True)\n",
              ")"
            ]
          },
          "metadata": {},
          "execution_count": 18
        }
      ],
      "source": [
        "model"
      ]
    },
    {
      "cell_type": "markdown",
      "metadata": {
        "id": "0GOw1ZTy91vZ"
      },
      "source": [
        "Plot the model parameters for the kernels before training the kernels. The kernels are initialized randomly.\n"
      ]
    },
    {
      "cell_type": "code",
      "execution_count": 19,
      "metadata": {
        "colab": {
          "base_uri": "https://localhost:8080/",
          "height": 252
        },
        "id": "s9zA4N7D91vZ",
        "outputId": "2e375cc9-a758-4aad-f4e2-d69f17a0e197"
      },
      "outputs": [
        {
          "output_type": "display_data",
          "data": {
            "text/plain": [
              "<Figure size 432x288 with 2 Axes>"
            ],
            "image/png": "[encoded data removed]"
          },
          "metadata": {
            "needs_background": "light"
          }
        }
      ],
      "source": [
        "\n",
        "plot_channels(model.state_dict()['cnn1.weight'])\n"
      ]
    },
    {
      "cell_type": "markdown",
      "metadata": {
        "id": "y6A-t8Xs91vZ"
      },
      "source": [
        "Loss function\n"
      ]
    },
    {
      "cell_type": "code",
      "execution_count": 20,
      "metadata": {
        "colab": {
          "base_uri": "https://localhost:8080/",
          "height": 187
        },
        "id": "FIL0Gsb491va",
        "outputId": "583d341c-115d-4fa9-db68-9d2e9781b437"
      },
      "outputs": [
        {
          "output_type": "display_data",
          "data": {
            "text/plain": [
              "<Figure size 432x288 with 2 Axes>"
            ],
            "image/png": "[encoded data removed]"
          },
          "metadata": {
            "needs_background": "light"
          }
        }
      ],
      "source": [
        "plot_channels(model.state_dict()['cnn2.weight'])"
      ]
    },
    {
      "cell_type": "markdown",
      "metadata": {
        "id": "cviGwt0K91va"
      },
      "source": [
        "Define the loss function\n"
      ]
    },
    {
      "cell_type": "code",
      "execution_count": 21,
      "metadata": {
        "id": "JKpqcCjW91va"
      },
      "outputs": [],
      "source": [
        "criterion=nn.CrossEntropyLoss()"
      ]
    },
    {
      "cell_type": "markdown",
      "metadata": {
        "id": "01kqOsPJ91vb"
      },
      "source": [
        "optimizer class\n"
      ]
    },
    {
      "cell_type": "code",
      "execution_count": 22,
      "metadata": {
        "collapsed": true,
        "id": "3UZ_WU1W91vb"
      },
      "outputs": [],
      "source": [
        "learning_rate=0.001\n",
        "\n",
        "optimizer = torch.optim.Adam(model.parameters(), lr=learning_rate)"
      ]
    },
    {
      "cell_type": "markdown",
      "metadata": {
        "id": "WMQxbrxc91vb"
      },
      "source": [
        "Define the optimizer class\n"
      ]
    },
    {
      "cell_type": "code",
      "execution_count": 23,
      "metadata": {
        "collapsed": true,
        "id": "kyiCX-nS91vb"
      },
      "outputs": [],
      "source": [
        "\n",
        "train_loader=torch.utils.data.DataLoader(dataset=train_dataset,batch_size=10)\n",
        "validation_loader=torch.utils.data.DataLoader(dataset=validation_dataset,batch_size=20)"
      ]
    },
    {
      "cell_type": "markdown",
      "metadata": {
        "id": "Zwp4Ai2891vc"
      },
      "source": [
        "Train the model and determine validation accuracy technically test accuracy **(This may take a long time)**\n"
      ]
    },
    {
      "cell_type": "code",
      "execution_count": 24,
      "metadata": {
        "collapsed": true,
        "id": "OhMNNg_q91vc"
      },
      "outputs": [],
      "source": [
        "n_epochs=10\n",
        "cost_list=[]\n",
        "accuracy_list=[]\n",
        "N_test=len(validation_dataset)\n",
        "cost=0\n",
        "#n_epochs\n",
        "for epoch in range(n_epochs):\n",
        "    cost=0    \n",
        "    for x, y in train_loader:\n",
        "      \n",
        "\n",
        "        #clear gradient \n",
        "        optimizer.zero_grad()\n",
        "        #make a prediction \n",
        "        z=model(x)\n",
        "        # calculate loss \n",
        "        loss=criterion(z,y)\n",
        "        # calculate gradients of parameters \n",
        "        loss.backward()\n",
        "        # update parameters \n",
        "        optimizer.step()\n",
        "        cost+=loss.item()\n",
        "    cost_list.append(cost)\n",
        "        \n",
        "        \n",
        "    correct=0\n",
        "    #perform a prediction on the validation  data  \n",
        "    for x_test, y_test in validation_loader:\n",
        "\n",
        "        z=model(x_test)\n",
        "        _,yhat=torch.max(z.data,1)\n",
        "\n",
        "        correct+=(yhat==y_test).sum().item()\n",
        "        \n",
        "\n",
        "    accuracy=correct/N_test\n",
        "\n",
        "    accuracy_list.append(accuracy)\n",
        "    \n",
        "\n"
      ]
    },
    {
      "cell_type": "markdown",
      "metadata": {
        "id": "-k1iAhew91vc"
      },
      "source": [
        "#### <a id=\"ref3\"></a>\n",
        "\n",
        "<h2 align=center>Analyse Results</h2> \n"
      ]
    },
    {
      "cell_type": "markdown",
      "metadata": {
        "id": "tp9s-av991vd"
      },
      "source": [
        "Plot the loss and accuracy on the validation data:\n"
      ]
    },
    {
      "cell_type": "code",
      "execution_count": 25,
      "metadata": {
        "colab": {
          "base_uri": "https://localhost:8080/",
          "height": 0
        },
        "id": "pOredKtH91vd",
        "outputId": "5be6dfae-7d69-45c1-cce2-046166cd467d"
      },
      "outputs": [
        {
          "output_type": "display_data",
          "data": {
            "text/plain": [
              "<Figure size 432x288 with 2 Axes>"
            ],
            "image/png": "[encoded data removed]"
          },
          "metadata": {
            "needs_background": "light"
          }
        }
      ],
      "source": [
        "fig, ax1 = plt.subplots()\n",
        "color = 'tab:red'\n",
        "ax1.plot(cost_list,color=color)\n",
        "ax1.set_xlabel('epoch',color=color)\n",
        "ax1.set_ylabel('total loss',color=color)\n",
        "ax1.tick_params(axis='y', color=color)\n",
        "    \n",
        "ax2 = ax1.twinx()  \n",
        "color = 'tab:blue'\n",
        "ax2.set_ylabel('accuracy', color=color)  \n",
        "ax2.plot( accuracy_list, color=color)\n",
        "ax2.tick_params(axis='y', labelcolor=color)\n",
        "fig.tight_layout()"
      ]
    },
    {
      "cell_type": "markdown",
      "metadata": {
        "id": "QqC3Z6Wv91vd"
      },
      "source": [
        "View the results of the parameters for the Convolutional layers\n"
      ]
    },
    {
      "cell_type": "code",
      "execution_count": 26,
      "metadata": {
        "colab": {
          "base_uri": "https://localhost:8080/"
        },
        "id": "HuRMEqTa91ve",
        "outputId": "db6c0c76-a1ef-423e-b6b4-edfe4c3dad25"
      },
      "outputs": [
        {
          "output_type": "execute_result",
          "data": {
            "text/plain": [
              "tensor([[[[ 0.3610,  0.3168],\n",
              "          [-0.3096,  0.2110]]],\n",
              "\n",
              "\n",
              "        [[[ 0.4348,  0.6798],\n",
              "          [ 0.0395,  0.1652]]]])"
            ]
          },
          "metadata": {},
          "execution_count": 26
        }
      ],
      "source": [
        "model.state_dict()['cnn1.weight']"
      ]
    },
    {
      "cell_type": "code",
      "execution_count": 27,
      "metadata": {
        "colab": {
          "base_uri": "https://localhost:8080/",
          "height": 0
        },
        "id": "VNIAF2Rl91ve",
        "outputId": "098a69a2-68cd-4a74-b306-d7609b96ab18"
      },
      "outputs": [
        {
          "output_type": "display_data",
          "data": {
            "text/plain": [
              "<Figure size 432x288 with 2 Axes>"
            ],
            "image/png": "[encoded data removed]"
          },
          "metadata": {
            "needs_background": "light"
          }
        }
      ],
      "source": [
        "plot_channels(model.state_dict()['cnn1.weight'])"
      ]
    },
    {
      "cell_type": "code",
      "execution_count": 28,
      "metadata": {
        "colab": {
          "base_uri": "https://localhost:8080/"
        },
        "id": "Al3Fj9Vd91ve",
        "outputId": "bd0fd20a-499a-4e8b-b208-626fcd545da2"
      },
      "outputs": [
        {
          "output_type": "execute_result",
          "data": {
            "text/plain": [
              "tensor([[[[ 0.3610,  0.3168],\n",
              "          [-0.3096,  0.2110]]],\n",
              "\n",
              "\n",
              "        [[[ 0.4348,  0.6798],\n",
              "          [ 0.0395,  0.1652]]]])"
            ]
          },
          "metadata": {},
          "execution_count": 28
        }
      ],
      "source": [
        "model.state_dict()['cnn1.weight']"
      ]
    },
    {
      "cell_type": "code",
      "execution_count": 29,
      "metadata": {
        "colab": {
          "base_uri": "https://localhost:8080/",
          "height": 0
        },
        "id": "xjnRQzBK91ve",
        "outputId": "6b64717e-9f33-44b9-93e6-18428383abec"
      },
      "outputs": [
        {
          "output_type": "display_data",
          "data": {
            "text/plain": [
              "<Figure size 432x288 with 2 Axes>"
            ],
            "image/png": "[encoded data removed]"
          },
          "metadata": {
            "needs_background": "light"
          }
        }
      ],
      "source": [
        "plot_channels(model.state_dict()['cnn2.weight'])"
      ]
    },
    {
      "cell_type": "markdown",
      "metadata": {
        "id": "ZUh1oTZP91vf"
      },
      "source": [
        "Consider the following sample\n"
      ]
    },
    {
      "cell_type": "code",
      "execution_count": 30,
      "metadata": {
        "colab": {
          "base_uri": "https://localhost:8080/",
          "height": 0
        },
        "id": "0OwFWQtp91vf",
        "outputId": "61335347-1e67-4bc3-b0d8-beee3eea8be7"
      },
      "outputs": [
        {
          "output_type": "display_data",
          "data": {
            "text/plain": [
              "<Figure size 432x288 with 1 Axes>"
            ],
            "image/png": "[encoded data removed]"
          },
          "metadata": {
            "needs_background": "light"
          }
        }
      ],
      "source": [
        "show_data(train_dataset,N_images//2+2)"
      ]
    },
    {
      "cell_type": "markdown",
      "metadata": {
        "id": "iheeN8Zy91vg"
      },
      "source": [
        "Determine the activations\n"
      ]
    },
    {
      "cell_type": "code",
      "execution_count": 31,
      "metadata": {
        "id": "LAsvZk0M91vg"
      },
      "outputs": [],
      "source": [
        "out=model.activations(train_dataset[N_images//2+2][0].view(1,1,11,11))\n",
        "out=model.activations(train_dataset[0][0].view(1,1,11,11))"
      ]
    },
    {
      "cell_type": "markdown",
      "metadata": {
        "id": "ZqcITUaZ91vg"
      },
      "source": [
        "Plot them out\n"
      ]
    },
    {
      "cell_type": "code",
      "execution_count": 32,
      "metadata": {
        "colab": {
          "base_uri": "https://localhost:8080/",
          "height": 0
        },
        "id": "IplyOvh_91vh",
        "outputId": "aa062b1f-18bc-4234-f271-21857278e433"
      },
      "outputs": [
        {
          "output_type": "stream",
          "name": "stdout",
          "text": [
            "2\n"
          ]
        },
        {
          "output_type": "display_data",
          "data": {
            "text/plain": [
              "<Figure size 432x288 with 2 Axes>"
            ],
            "image/png": "[encoded data removed]"
          },
          "metadata": {}
        }
      ],
      "source": [
        "plot_activations(out[0],number_rows=1,name=\" feature map\")\n",
        "plt.show()\n"
      ]
    },
    {
      "cell_type": "code",
      "execution_count": 33,
      "metadata": {
        "colab": {
          "base_uri": "https://localhost:8080/",
          "height": 0
        },
        "id": "szd0hWc791vh",
        "outputId": "77b6f807-f9a8-4762-f69b-e3f66b4e6653"
      },
      "outputs": [
        {
          "output_type": "stream",
          "name": "stdout",
          "text": [
            "1\n"
          ]
        },
        {
          "output_type": "display_data",
          "data": {
            "text/plain": [
              "<Figure size 432x288 with 1 Axes>"
            ],
            "image/png": "[encoded data removed]"
          },
          "metadata": {
            "needs_background": "light"
          }
        }
      ],
      "source": [
        "plot_activations(out[2],number_rows=1,name=\"2nd feature map\")\n",
        "plt.show()"
      ]
    },
    {
      "cell_type": "code",
      "execution_count": 34,
      "metadata": {
        "colab": {
          "base_uri": "https://localhost:8080/",
          "height": 0
        },
        "id": "20XdtIu291vi",
        "outputId": "9e41c74a-ba85-4244-b7a5-58fca75bf217"
      },
      "outputs": [
        {
          "output_type": "stream",
          "name": "stdout",
          "text": [
            "1\n"
          ]
        },
        {
          "output_type": "display_data",
          "data": {
            "text/plain": [
              "<Figure size 432x288 with 1 Axes>"
            ],
            "image/png": "[encoded data removed]"
          },
          "metadata": {
            "needs_background": "light"
          }
        }
      ],
      "source": [
        "plot_activations(out[3],number_rows=1,name=\"first feature map\")\n",
        "plt.show()"
      ]
    },
    {
      "cell_type": "markdown",
      "metadata": {
        "id": "kA7M1U7p91vi"
      },
      "source": [
        "we save the output of the activation after flattening\n"
      ]
    },
    {
      "cell_type": "code",
      "execution_count": 35,
      "metadata": {
        "id": "5kd-IBRE91vj"
      },
      "outputs": [],
      "source": [
        "out1=out[4][0].detach().numpy()"
      ]
    },
    {
      "cell_type": "markdown",
      "metadata": {
        "id": "Vf8XtduJ91vj"
      },
      "source": [
        "we can do the same for a sample  where y=0\n"
      ]
    },
    {
      "cell_type": "code",
      "execution_count": 36,
      "metadata": {
        "colab": {
          "base_uri": "https://localhost:8080/"
        },
        "id": "KPtnKoNY91vk",
        "outputId": "22db4831-01d6-43e4-a766-75f0268f3d81"
      },
      "outputs": [
        {
          "output_type": "execute_result",
          "data": {
            "text/plain": [
              "array([1.0361316 , 2.3321967 , 2.6073341 , 2.6073341 , 2.6073341 ,\n",
              "       1.6266572 , 0.33059195, 1.0361316 , 2.3321967 , 2.6073341 ,\n",
              "       2.6073341 , 2.6073341 , 1.6266572 , 0.33059195, 1.0361316 ,\n",
              "       2.3321967 , 2.6073341 , 2.6073341 , 2.6073341 , 1.6266572 ,\n",
              "       0.33059195, 1.0361316 , 2.3321967 , 2.6073341 , 2.6073341 ,\n",
              "       2.6073341 , 1.6266572 , 0.33059195, 1.0361316 , 2.3321967 ,\n",
              "       2.6073341 , 2.6073341 , 2.6073341 , 1.6623017 , 0.45950344,\n",
              "       1.0361316 , 2.3321967 , 2.6073341 , 2.6073341 , 2.6073341 ,\n",
              "       1.6623017 , 0.51614094, 1.0361316 , 2.3435555 , 2.6597724 ,\n",
              "       2.6597724 , 2.4667811 , 1.5105337 , 0.51614094], dtype=float32)"
            ]
          },
          "metadata": {},
          "execution_count": 36
        }
      ],
      "source": [
        "out0=model.activations(train_dataset[100][0].view(1,1,11,11))[4][0].detach().numpy()\n",
        "out0"
      ]
    },
    {
      "cell_type": "code",
      "execution_count": 37,
      "metadata": {
        "colab": {
          "base_uri": "https://localhost:8080/",
          "height": 0
        },
        "id": "6zk1P7_p91vk",
        "outputId": "edc4d79c-ccce-4817-8106-09fb89c5b6a7"
      },
      "outputs": [
        {
          "output_type": "execute_result",
          "data": {
            "text/plain": [
              "Text(0, 0.5, 'Activation')"
            ]
          },
          "metadata": {},
          "execution_count": 37
        },
        {
          "output_type": "display_data",
          "data": {
            "text/plain": [
              "<Figure size 432x288 with 2 Axes>"
            ],
            "image/png": "[encoded data removed]"
          },
          "metadata": {
            "needs_background": "light"
          }
        }
      ],
      "source": [
        "plt.subplot(2, 1, 1)\n",
        "plt.plot( out1, 'b')\n",
        "plt.title('Flatted Activation Values  ')\n",
        "plt.ylabel('Activation')\n",
        "plt.xlabel('index')\n",
        "plt.subplot(2, 1, 2)\n",
        "plt.plot(out0, 'r')\n",
        "plt.xlabel('index')\n",
        "plt.ylabel('Activation')"
      ]
    },
    {
      "cell_type": "markdown",
      "metadata": {
        "id": "MSD6DtwX91vl"
      },
      "source": [
        "<a href=\"https://dataplatform.cloud.ibm.com/registration/stepone?utm_medium=Exinfluencer&utm_source=Exinfluencer&utm_content=000026UJ&utm_term=10006555&utm_id=NA-SkillsNetwork-Channel-SkillsNetworkCoursesIBMDeveloperSkillsNetworkDL0110ENSkillsNetwork20647811-2022-01-01&context=cpdaas&apps=data_science_experience%2Cwatson_machine_learning\"><img src=\"https://cf-courses-data.s3.us.cloud-object-storage.appdomain.cloud/IBMDeveloperSkillsNetwork-DL0110EN-SkillsNetwork/Template/module%201/images/Watson_Studio.png\"/></a>\n"
      ]
    },
    {
      "cell_type": "markdown",
      "metadata": {
        "id": "12S0jBbl91vl"
      },
      "source": [
        "### About the Authors:\n",
        "\n",
        "[Joseph Santarcangelo](https://www.linkedin.com/in/joseph-s-50398b136/?utm_medium=Exinfluencer&utm_source=Exinfluencer&utm_content=000026UJ&utm_term=10006555&utm_id=NA-SkillsNetwork-Channel-SkillsNetworkCoursesIBMDeveloperSkillsNetworkDL0110ENSkillsNetwork20647811-2022-01-01) has a PhD in Electrical Engineering. His research focused on using machine learning, signal processing, and computer vision to determine how videos impact human cognition.\n",
        "\n",
        "Other contributors: [Michelle Carey](https://www.linkedin.com/in/michelleccarey/?utm_medium=Exinfluencer&utm_source=Exinfluencer&utm_content=000026UJ&utm_term=10006555&utm_id=NA-SkillsNetwork-Channel-SkillsNetworkCoursesIBMDeveloperSkillsNetworkDL0110ENSkillsNetwork20647811-2022-01-01)\n"
      ]
    },
    {
      "cell_type": "markdown",
      "metadata": {
        "id": "Fnn_MHmR91vl"
      },
      "source": [
        "## Change Log\n",
        "\n",
        "| Date (YYYY-MM-DD) | Version | Changed By | Change Description                                          |\n",
        "| ----------------- | ------- | ---------- | ----------------------------------------------------------- |\n",
        "| 2020-09-23        | 2.0     | Srishti    | Migrated Lab to Markdown and added to course repo in GitLab |\n",
        "\n",
        "<hr>\n",
        "\n",
        "## <h3 align=\"center\"> © IBM Corporation 2020. All rights reserved. <h3/>\n"
      ]
    }
  ],
  "metadata": {
    "kernelspec": {
      "display_name": "Python 3",
      "language": "python",
      "name": "python3"
    },
    "language_info": {
      "codemirror_mode": {
        "name": "ipython",
        "version": 3
      },
      "file_extension": ".py",
      "mimetype": "text/x-python",
      "name": "python",
      "nbconvert_exporter": "python",
      "pygments_lexer": "ipython3",
      "version": "3.7.6"
    },
    "colab": {
      "provenance": [],
      "include_colab_link": true
    }
  },
  "nbformat": 4,
  "nbformat_minor": 0
}