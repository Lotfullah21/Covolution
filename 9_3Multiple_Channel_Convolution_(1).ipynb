{
  "cells": [
    {
      "cell_type": "markdown",
      "metadata": {
        "id": "view-in-github",
        "colab_type": "text"
      },
      "source": [
        "<a href=\"https://colab.research.google.com/github/Lotfullah21/Covolution/blob/main/9_3Multiple_Channel_Convolution_(1).ipynb\" target=\"_parent\"><img src=\"https://colab.research.google.com/assets/colab-badge.svg\" alt=\"Open In Colab\"/></a>"
      ]
    },
    {
      "cell_type": "markdown",
      "metadata": {
        "id": "PPSWbqebbPx7"
      },
      "source": [
        "<p style=\"text-align:center\">\n",
        "    <a href=\"https://skills.network/?utm_medium=Exinfluencer&utm_source=Exinfluencer&utm_content=000026UJ&utm_term=10006555&utm_id=NA-SkillsNetwork-Channel-SkillsNetworkCoursesIBMDeveloperSkillsNetworkDL0110ENSkillsNetwork20647811-2022-01-01\" target=\"_blank\">\n",
        "    <img src=\"https://cf-courses-data.s3.us.cloud-object-storage.appdomain.cloud/assets/logos/SN_web_lightmode.png\" width=\"200\" alt=\"Skills Network Logo\"  />\n",
        "    </a>\n",
        "</p>\n",
        "\n",
        "<h1>Multiple Input and Output Channels</h1> \n"
      ]
    },
    {
      "cell_type": "markdown",
      "metadata": {
        "id": "znwlEbEybPyG"
      },
      "source": [
        "<h3>Objective for this Notebook<h3>    \n",
        "<h5> 1. Learn on Multiple Input and Multiple Output Channels.</h5>    \n"
      ]
    },
    {
      "cell_type": "markdown",
      "metadata": {
        "id": "cA7bxS_ubPyH"
      },
      "source": [
        "# Table of Contents\n",
        "\n",
        "In this lab, you will study convolution and review how the different operations change the relationship between input and output.\n",
        "\n",
        "<div class=\"alert alert-block alert-info\" style=\"margin-top: 20px\">\n",
        "<li><a href=\"https://#ref0\">Multiple Output Channels </a></li>\n",
        "\n",
        "<li><a href=\"https://#ref1\">Multiple Inputs</a></li>\n",
        "<li><a href=\"https://#ref2\">Multiple Input and Multiple Output Channels </a></li>\n",
        "<li><a href=\"https://#ref3\">Practice Questions </a></li>\n",
        "\n",
        "<br>\n",
        "<p></p>\n",
        "Estimated Time Needed: <strong>25 min</strong>\n",
        "</div>\n",
        "\n",
        "<hr>\n"
      ]
    },
    {
      "cell_type": "markdown",
      "metadata": {
        "id": "ZEQKxJvxbPyI"
      },
      "source": [
        "Import the following libraries:\n"
      ]
    },
    {
      "cell_type": "code",
      "source": [
        "import torch \n",
        "import torch.nn as nn\n",
        "import matplotlib.pyplot as plt\n",
        "import numpy as np\n",
        "from scipy import ndimage, misc"
      ],
      "metadata": {
        "id": "LYkjbYeKjGru"
      },
      "execution_count": 3,
      "outputs": []
    },
    {
      "cell_type": "code",
      "execution_count": null,
      "metadata": {
        "id": "DJ7wSF_ibPyI"
      },
      "outputs": [],
      "source": [
        "import torch \n",
        "import torch.nn as nn\n",
        "import matplotlib.pyplot as plt\n",
        "import numpy as np\n",
        "from scipy import ndimage, misc"
      ]
    },
    {
      "cell_type": "markdown",
      "metadata": {
        "id": "dGhoGB7lbPyK"
      },
      "source": []
    },
    {
      "cell_type": "markdown",
      "metadata": {
        "id": "3wg-0nJFbPyK"
      },
      "source": [
        "<a id=\"ref0\"></a>\n",
        "\n",
        "<h2 align=center>Multiple Output Channels </h2>\n"
      ]
    },
    {
      "cell_type": "markdown",
      "metadata": {
        "id": "ax5TD-9UbPyL"
      },
      "source": [
        "In Pytroch, you can create a <code>Conv2d</code> object with multiple outputs. For each channel, a kernel is created, and each kernel performs a convolution independently. As a result, the number of outputs is equal to the number of channels. This is demonstrated in the following figure. The number 9 is convolved with three kernels: each of a different color. There are three different activation maps represented by the different colors.\n"
      ]
    },
    {
      "cell_type": "markdown",
      "metadata": {
        "id": "2GcLtKQcbPyM"
      },
      "source": [
        "<img src = \"https://s3-api.us-geo.objectstorage.softlayer.net/cf-courses-data/CognitiveClass/DL0110EN/notebook_images%20/chapter%206/6.1.2activationmaps.png\" width = 750, align = \"center\">\n"
      ]
    },
    {
      "cell_type": "markdown",
      "metadata": {
        "id": "5AFv81wpbPyN"
      },
      "source": [
        "Symbolically, this can be represented as follows:\n"
      ]
    },
    {
      "cell_type": "markdown",
      "metadata": {
        "id": "i7NVrnS0bPyO"
      },
      "source": [
        "<img src = \"https://s3-api.us-geo.objectstorage.softlayer.net/cf-courses-data/CognitiveClass/DL0110EN/notebook_images%20/chapter%206/6.1.2activationmap2.png\" width = 500, align = \"center\">\n"
      ]
    },
    {
      "cell_type": "markdown",
      "metadata": {
        "id": "_63sM5MdbPyS"
      },
      "source": [
        "Create a <code>Conv2d</code> with three channels:\n"
      ]
    },
    {
      "cell_type": "code",
      "execution_count": 19,
      "metadata": {
        "colab": {
          "base_uri": "https://localhost:8080/"
        },
        "id": "tl-hgg6mbPyV",
        "outputId": "e64d11b7-8374-4a74-c8c5-c13792ed6e48"
      },
      "outputs": [
        {
          "output_type": "execute_result",
          "data": {
            "text/plain": [
              "OrderedDict([('weight', tensor([[[[-0.1189,  0.0352,  0.0387],\n",
              "                        [-0.1614, -0.1429, -0.1627],\n",
              "                        [-0.2140, -0.3300,  0.0141]]],\n",
              "              \n",
              "              \n",
              "                      [[[ 0.0835, -0.2039, -0.2272],\n",
              "                        [ 0.0196, -0.2190,  0.1728],\n",
              "                        [-0.2675, -0.0934, -0.1654]]],\n",
              "              \n",
              "              \n",
              "                      [[[ 0.1419,  0.0148, -0.2483],\n",
              "                        [ 0.1355, -0.0823, -0.1471],\n",
              "                        [-0.0882,  0.0153,  0.0769]]]])),\n",
              "             ('bias', tensor([0.1802, 0.1017, 0.2763]))])"
            ]
          },
          "metadata": {},
          "execution_count": 19
        }
      ],
      "source": [
        "# each kernel will be having their own w and b's and the convolution operation will be done independent of each other\n",
        "conv1 = nn.Conv2d(in_channels = 1, out_channels = 3, kernel_size = 3)\n",
        "conv1.state_dict()['weight'].shape #(out__channels, in_channels, kernel_size)\n",
        "conv1.state_dict()"
      ]
    },
    {
      "cell_type": "markdown",
      "source": [
        "Pytorch randomly assigns values to each kernel. However, use kernels that have  been developed to detect edges:"
      ],
      "metadata": {
        "id": "pqBSXh98mIKE"
      }
    },
    {
      "cell_type": "code",
      "source": [
        "# as the kenels will be having their own w and b's ,we need to initilize them \n",
        "k1_w = torch.tensor([[3,1,2],[3,-1,0],[3,-1,1]])\n",
        "k2_w = torch.tensor([[3,2,1],[0,0,0],[-1,1,1]])\n",
        "k3_w = torch.ones(3,3)\n",
        "conv1.state_dict()['weight'][0][0] = k1_w\n",
        "conv1.state_dict()['weight'][1][0] = k2_w\n",
        "conv1.state_dict()['weight'][2][0] = k3_w\n",
        "conv1.state_dict()['bias'][:] = torch.tensor([0,0,0])"
      ],
      "metadata": {
        "id": "-3DYF2A_j5dg"
      },
      "execution_count": 20,
      "outputs": []
    },
    {
      "cell_type": "markdown",
      "metadata": {
        "id": "rnFH_L1mbPyb"
      },
      "source": [
        "Each kernel has its own bias, so set them all to zero:\n"
      ]
    },
    {
      "cell_type": "code",
      "execution_count": 21,
      "metadata": {
        "colab": {
          "base_uri": "https://localhost:8080/"
        },
        "id": "X8YKfROMbPyc",
        "outputId": "0ef13fea-0bc7-4dc7-a8bd-5f639cf3e418"
      },
      "outputs": [
        {
          "output_type": "execute_result",
          "data": {
            "text/plain": [
              "tensor([0., 0., 0.])"
            ]
          },
          "metadata": {},
          "execution_count": 21
        }
      ],
      "source": [
        "conv1.state_dict()['bias'][:]=torch.tensor([0.0,0.0,0.0])\n",
        "conv1.state_dict()['bias']"
      ]
    },
    {
      "cell_type": "markdown",
      "metadata": {
        "id": "10ZJ9XI-bPyc"
      },
      "source": [
        "Print out each kernel:\n"
      ]
    },
    {
      "cell_type": "code",
      "execution_count": 88,
      "metadata": {
        "colab": {
          "base_uri": "https://localhost:8080/"
        },
        "id": "vtjSwMyUbPyd",
        "outputId": "3f3f0fdd-ee6f-4cc0-9f8c-220f1cd53efe"
      },
      "outputs": [
        {
          "output_type": "stream",
          "name": "stdout",
          "text": [
            "tensor([[[ 3.,  1.,  2.],\n",
            "         [ 3., -1.,  0.],\n",
            "         [ 3., -1.,  1.]]])\n",
            "tensor([[[ 3.,  2.,  1.],\n",
            "         [ 0.,  0.,  0.],\n",
            "         [-1.,  1.,  1.]]])\n",
            "tensor([[[1., 1., 1.],\n",
            "         [1., 1., 1.],\n",
            "         [1., 1., 1.]]])\n"
          ]
        }
      ],
      "source": [
        "for each_kernel in conv1.state_dict()['weight']:\n",
        "  print(each_kernel)"
      ]
    },
    {
      "cell_type": "markdown",
      "metadata": {
        "id": "qW4h-GFRbPye"
      },
      "source": [
        "Create an input <code>image</code> to represent the input X:\n"
      ]
    },
    {
      "cell_type": "code",
      "execution_count": 86,
      "metadata": {
        "colab": {
          "base_uri": "https://localhost:8080/"
        },
        "id": "xCZIefb9bPyf",
        "outputId": "3b33aa27-b65d-4210-d93f-3ad5d9b4da6a"
      },
      "outputs": [
        {
          "output_type": "execute_result",
          "data": {
            "text/plain": [
              "torch.Size([1, 1, 5, 5])"
            ]
          },
          "metadata": {},
          "execution_count": 86
        }
      ],
      "source": [
        "image = torch.zeros(1,1,5,5)\n",
        "image[0,0,:,1] = 5\n",
        "image[0,0,2,:] = -1\n",
        "image.shape"
      ]
    },
    {
      "cell_type": "code",
      "source": [
        "plt.imshow(image[0,0,:,:].numpy(), interpolation='nearest',cmap = plt.cm.gray)\n",
        "plt.colorbar()\n",
        "plt.show()"
      ],
      "metadata": {
        "colab": {
          "base_uri": "https://localhost:8080/",
          "height": 269
        },
        "id": "5w3uzBXfnWtg",
        "outputId": "08aa1276-9cca-4b13-d065-e37aeef0e148"
      },
      "execution_count": 87,
      "outputs": [
        {
          "output_type": "display_data",
          "data": {
            "text/plain": [
              "<Figure size 432x288 with 2 Axes>"
            ],
            "image/png": "[encoded data removed]"
          },
          "metadata": {
            "needs_background": "light"
          }
        }
      ]
    },
    {
      "cell_type": "markdown",
      "metadata": {
        "id": "FLwmsswfbPyk"
      },
      "source": [
        "Perform convolution using each channel:\n"
      ]
    },
    {
      "cell_type": "code",
      "execution_count": 69,
      "metadata": {
        "id": "yeHe4Z9QbPyl"
      },
      "outputs": [],
      "source": [
        "out=conv1(image)"
      ]
    },
    {
      "cell_type": "code",
      "source": [
        "out.shape"
      ],
      "metadata": {
        "colab": {
          "base_uri": "https://localhost:8080/"
        },
        "id": "WEhaR5Wcpb1r",
        "outputId": "6871df98-24fd-470f-edee-21c06e8fe95b"
      },
      "execution_count": 77,
      "outputs": [
        {
          "output_type": "execute_result",
          "data": {
            "text/plain": [
              "torch.Size([1, 3, 3, 3])"
            ]
          },
          "metadata": {},
          "execution_count": 77
        }
      ]
    },
    {
      "cell_type": "markdown",
      "metadata": {
        "id": "I8kY-08dbPyl"
      },
      "source": [
        "The result is a 1x3x3x3 tensor. This represents one sample with three channels, and each channel contains a 3x3 image.  The same rules that govern the shape of each image were discussed in the last section.\n"
      ]
    },
    {
      "cell_type": "code",
      "execution_count": 97,
      "metadata": {
        "colab": {
          "base_uri": "https://localhost:8080/",
          "height": 965
        },
        "id": "Jn3VIDgDbPym",
        "outputId": "84c7d395-e421-4cf2-d33b-3f8ddeac375a"
      },
      "outputs": [
        {
          "output_type": "stream",
          "name": "stdout",
          "text": [
            "tensor([[ -3.,  27.,  -3.],\n",
            "        [ -2.,  28.,  -2.],\n",
            "        [-16.,  24.,  -6.]], grad_fn=<UnbindBackward0>)\n"
          ]
        },
        {
          "output_type": "display_data",
          "data": {
            "text/plain": [
              "<Figure size 432x288 with 2 Axes>"
            ],
            "image/png": "[encoded data removed]"
          },
          "metadata": {
            "needs_background": "light"
          }
        },
        {
          "output_type": "stream",
          "name": "stdout",
          "text": [
            "tensor([[  9.,  14.,  -1.],\n",
            "        [ 15.,  10.,   0.],\n",
            "        [ -1., -11.,  -6.]], grad_fn=<UnbindBackward0>)\n"
          ]
        },
        {
          "output_type": "display_data",
          "data": {
            "text/plain": [
              "<Figure size 432x288 with 2 Axes>"
            ],
            "image/png": "[encoded data removed]"
          },
          "metadata": {
            "needs_background": "light"
          }
        },
        {
          "output_type": "stream",
          "name": "stdout",
          "text": [
            "tensor([[ 7.,  7., -3.],\n",
            "        [ 7.,  7., -3.],\n",
            "        [ 7.,  7., -3.]], grad_fn=<UnbindBackward0>)\n"
          ]
        },
        {
          "output_type": "display_data",
          "data": {
            "text/plain": [
              "<Figure size 432x288 with 2 Axes>"
            ],
            "image/png": "[encoded data removed]"
          },
          "metadata": {
            "needs_background": "light"
          }
        }
      ],
      "source": [
        "for channel,image in enumerate(out[0]):\n",
        "  plt.imshow(image.detach().numpy(), cmap = plt.cm.gray)\n",
        "  print(image)\n",
        "  plt.title(\"channel {}\".format(channel))\n",
        "  plt.colorbar()\n",
        "  plt.show()\n",
        "  # plt.colorbar()"
      ]
    },
    {
      "cell_type": "markdown",
      "metadata": {
        "id": "I3Ze319wbPym"
      },
      "source": [
        "Print out each channel as a tensor or an image:\n"
      ]
    },
    {
      "cell_type": "code",
      "execution_count": 50,
      "metadata": {
        "colab": {
          "base_uri": "https://localhost:8080/",
          "height": 965
        },
        "id": "6WLiqHBobPyn",
        "outputId": "f90bf41e-4566-484f-8d1b-bf01194883b4"
      },
      "outputs": [
        {
          "output_type": "stream",
          "name": "stdout",
          "text": [
            "tensor([[15., 45., 15.],\n",
            "        [10., 40., 10.],\n",
            "        [20., 60., 30.]], grad_fn=<UnbindBackward0>)\n"
          ]
        },
        {
          "output_type": "display_data",
          "data": {
            "text/plain": [
              "<Figure size 432x288 with 2 Axes>"
            ],
            "image/png": "[encoded data removed]"
          },
          "metadata": {
            "needs_background": "light"
          }
        },
        {
          "output_type": "stream",
          "name": "stdout",
          "text": [
            "tensor([[15., 20.,  5.],\n",
            "        [15., 10.,  0.],\n",
            "        [35., 25., 30.]], grad_fn=<UnbindBackward0>)\n"
          ]
        },
        {
          "output_type": "display_data",
          "data": {
            "text/plain": [
              "<Figure size 432x288 with 2 Axes>"
            ],
            "image/png": "[encoded data removed]"
          },
          "metadata": {
            "needs_background": "light"
          }
        },
        {
          "output_type": "stream",
          "name": "stdout",
          "text": [
            "tensor([[25., 25., 15.],\n",
            "        [25., 25., 15.],\n",
            "        [25., 25., 15.]], grad_fn=<UnbindBackward0>)\n"
          ]
        },
        {
          "output_type": "display_data",
          "data": {
            "text/plain": [
              "<Figure size 432x288 with 2 Axes>"
            ],
            "image/png": "[encoded data removed]"
          },
          "metadata": {
            "needs_background": "light"
          }
        }
      ],
      "source": [
        "for channel,image in enumerate(out[0]):\n",
        "    plt.imshow(image.detach().numpy(), interpolation='nearest', cmap=plt.cm.gray)\n",
        "    print(image)\n",
        "    plt.title(\"channel {}\".format(channel))\n",
        "    plt.colorbar()\n",
        "    plt.show()"
      ]
    },
    {
      "cell_type": "code",
      "source": [
        "image1=torch.zeros(1,1,5,5)\n",
        "image1[0,0,2,:]=1\n",
        "print(image1)\n",
        "plt.imshow(image1[0,0,:,:].detach().numpy(), interpolation='nearest', cmap=plt.cm.gray)\n",
        "plt.show()"
      ],
      "metadata": {
        "colab": {
          "base_uri": "https://localhost:8080/",
          "height": 352
        },
        "id": "THGYQhfUrIuI",
        "outputId": "ed8d1f6d-3164-49ab-8f44-c89d87a03e16"
      },
      "execution_count": 98,
      "outputs": [
        {
          "output_type": "stream",
          "name": "stdout",
          "text": [
            "tensor([[[[0., 0., 0., 0., 0.],\n",
            "          [0., 0., 0., 0., 0.],\n",
            "          [1., 1., 1., 1., 1.],\n",
            "          [0., 0., 0., 0., 0.],\n",
            "          [0., 0., 0., 0., 0.]]]])\n"
          ]
        },
        {
          "output_type": "display_data",
          "data": {
            "text/plain": [
              "<Figure size 432x288 with 1 Axes>"
            ],
            "image/png": "[encoded data removed]"
          },
          "metadata": {
            "needs_background": "light"
          }
        }
      ]
    },
    {
      "cell_type": "code",
      "source": [
        "out1=conv1(image1)\n",
        "for channel,image in enumerate(out1[0]):\n",
        "    plt.imshow(image.detach().numpy(), interpolation='nearest', cmap=plt.cm.gray)\n",
        "    print(image)\n",
        "    plt.title(\"channel {}\".format(channel))\n",
        "    \n",
        "    plt.colorbar()\n",
        "    plt.show()"
      ],
      "metadata": {
        "colab": {
          "base_uri": "https://localhost:8080/",
          "height": 965
        },
        "id": "2gDc9qR5rNof",
        "outputId": "1e932e6e-22e4-47c8-a0b8-2c8d6f434f3d"
      },
      "execution_count": 99,
      "outputs": [
        {
          "output_type": "stream",
          "name": "stdout",
          "text": [
            "tensor([[3., 3., 3.],\n",
            "        [2., 2., 2.],\n",
            "        [6., 6., 6.]], grad_fn=<UnbindBackward0>)\n"
          ]
        },
        {
          "output_type": "display_data",
          "data": {
            "text/plain": [
              "<Figure size 432x288 with 2 Axes>"
            ],
            "image/png": "[encoded data removed]"
          },
          "metadata": {
            "needs_background": "light"
          }
        },
        {
          "output_type": "stream",
          "name": "stdout",
          "text": [
            "tensor([[1., 1., 1.],\n",
            "        [0., 0., 0.],\n",
            "        [6., 6., 6.]], grad_fn=<UnbindBackward0>)\n"
          ]
        },
        {
          "output_type": "display_data",
          "data": {
            "text/plain": [
              "<Figure size 432x288 with 2 Axes>"
            ],
            "image/png": "[encoded data removed]"
          },
          "metadata": {
            "needs_background": "light"
          }
        },
        {
          "output_type": "stream",
          "name": "stdout",
          "text": [
            "tensor([[3., 3., 3.],\n",
            "        [3., 3., 3.],\n",
            "        [3., 3., 3.]], grad_fn=<UnbindBackward0>)\n"
          ]
        },
        {
          "output_type": "display_data",
          "data": {
            "text/plain": [
              "<Figure size 432x288 with 2 Axes>"
            ],
            "image/png": "[encoded data removed]"
          },
          "metadata": {
            "needs_background": "light"
          }
        }
      ]
    },
    {
      "cell_type": "markdown",
      "metadata": {
        "id": "A4Kj3s-tbPyo"
      },
      "source": [
        "Different kernels can be used to detect various features in an image. You can see that the first channel fluctuates, and the second two channels produce a constant value. The following figure summarizes the process:\n"
      ]
    },
    {
      "cell_type": "markdown",
      "metadata": {
        "id": "088u3c93bPyo"
      },
      "source": [
        "<img src = \"https://s3-api.us-geo.objectstorage.softlayer.net/cf-courses-data/CognitiveClass/DL0110EN/notebook_images%20/chapter%206/6.1.2outputsgray.png\" width = 750, align = \"center\">\n"
      ]
    },
    {
      "cell_type": "markdown",
      "metadata": {
        "id": "3z-Ig9NXbPyo"
      },
      "source": [
        "If you use a different image, the result will be different:\n"
      ]
    },
    {
      "cell_type": "code",
      "execution_count": 51,
      "metadata": {
        "colab": {
          "base_uri": "https://localhost:8080/",
          "height": 352
        },
        "id": "wjR1Yd7sbPyp",
        "outputId": "048bdea9-f33e-4ca2-89e9-40d0d8dffea8"
      },
      "outputs": [
        {
          "output_type": "stream",
          "name": "stdout",
          "text": [
            "tensor([[[[0., 0., 0., 0., 0.],\n",
            "          [0., 0., 0., 0., 0.],\n",
            "          [1., 1., 1., 1., 1.],\n",
            "          [0., 0., 0., 0., 0.],\n",
            "          [0., 0., 0., 0., 0.]]]])\n"
          ]
        },
        {
          "output_type": "display_data",
          "data": {
            "text/plain": [
              "<Figure size 432x288 with 1 Axes>"
            ],
            "image/png": "[encoded data removed]"
          },
          "metadata": {
            "needs_background": "light"
          }
        }
      ],
      "source": [
        "image1=torch.zeros(1,1,5,5)\n",
        "image1[0,0,2,:]=1\n",
        "print(image1)\n",
        "plt.imshow(image1[0,0,:,:].detach().numpy(), interpolation='nearest', cmap=plt.cm.gray)\n",
        "plt.show()"
      ]
    },
    {
      "cell_type": "markdown",
      "metadata": {
        "id": "wZaoRcWEbPyp"
      },
      "source": [
        "In this case, the second channel fluctuates, and the first and the third channels produce a constant value.\n"
      ]
    },
    {
      "cell_type": "code",
      "execution_count": 52,
      "metadata": {
        "colab": {
          "base_uri": "https://localhost:8080/",
          "height": 965
        },
        "id": "UU3tIYIYbPyp",
        "outputId": "84690016-6136-409e-c5de-9faa57b7feb2"
      },
      "outputs": [
        {
          "output_type": "stream",
          "name": "stdout",
          "text": [
            "tensor([[3., 3., 3.],\n",
            "        [2., 2., 2.],\n",
            "        [6., 6., 6.]], grad_fn=<UnbindBackward0>)\n"
          ]
        },
        {
          "output_type": "display_data",
          "data": {
            "text/plain": [
              "<Figure size 432x288 with 2 Axes>"
            ],
            "image/png": "[encoded data removed]"
          },
          "metadata": {
            "needs_background": "light"
          }
        },
        {
          "output_type": "stream",
          "name": "stdout",
          "text": [
            "tensor([[1., 1., 1.],\n",
            "        [0., 0., 0.],\n",
            "        [6., 6., 6.]], grad_fn=<UnbindBackward0>)\n"
          ]
        },
        {
          "output_type": "display_data",
          "data": {
            "text/plain": [
              "<Figure size 432x288 with 2 Axes>"
            ],
            "image/png": "[encoded data removed]"
          },
          "metadata": {
            "needs_background": "light"
          }
        },
        {
          "output_type": "stream",
          "name": "stdout",
          "text": [
            "tensor([[3., 3., 3.],\n",
            "        [3., 3., 3.],\n",
            "        [3., 3., 3.]], grad_fn=<UnbindBackward0>)\n"
          ]
        },
        {
          "output_type": "display_data",
          "data": {
            "text/plain": [
              "<Figure size 432x288 with 2 Axes>"
            ],
            "image/png": "[encoded data removed]"
          },
          "metadata": {
            "needs_background": "light"
          }
        }
      ],
      "source": [
        "out1=conv1(image1)\n",
        "for channel,image in enumerate(out1[0]):\n",
        "    plt.imshow(image.detach().numpy(), interpolation='nearest', cmap=plt.cm.gray)\n",
        "    print(image)\n",
        "    plt.title(\"channel {}\".format(channel))\n",
        "    \n",
        "    plt.colorbar()\n",
        "    plt.show()"
      ]
    },
    {
      "cell_type": "markdown",
      "metadata": {
        "id": "RFC5f9AGbPyq"
      },
      "source": [
        "The following figure summarizes the process:\n"
      ]
    },
    {
      "cell_type": "markdown",
      "metadata": {
        "id": "oGllTffqbPyq"
      },
      "source": [
        "<img src = \"https://s3-api.us-geo.objectstorage.softlayer.net/cf-courses-data/CognitiveClass/DL0110EN/notebook_images%20/chapter%206/6.1.2ouputsgray2.png\" width = 750, align = \"center\">\n"
      ]
    },
    {
      "cell_type": "markdown",
      "metadata": {
        "id": "lG3yCjT4bPyr"
      },
      "source": [
        "<a id=\"ref1\"></a>\n",
        "\n",
        "<h2 align=center>Multiple Input Channels </h2>\n"
      ]
    },
    {
      "cell_type": "markdown",
      "metadata": {
        "id": "ja6mYquibPyr"
      },
      "source": [
        "For two inputs, you can create two kernels. Each kernel performs a convolution on its associated input channel. The resulting output is added together as shown:\n"
      ]
    },
    {
      "cell_type": "markdown",
      "metadata": {
        "id": "qjVvu6rLbPyu"
      },
      "source": [
        "<img src = \"https://s3-api.us-geo.objectstorage.softlayer.net/cf-courses-data/CognitiveClass/DL0110EN/notebook_images%20/chapter%206/6.1.22chanalsinput.png\" width = 750, align = \"center\">\n"
      ]
    },
    {
      "cell_type": "markdown",
      "metadata": {
        "id": "iLihfsz9bPyu"
      },
      "source": [
        "Create an input with two channels:\n"
      ]
    },
    {
      "cell_type": "code",
      "execution_count": 101,
      "metadata": {
        "colab": {
          "base_uri": "https://localhost:8080/"
        },
        "id": "GvOPVnUqbPyv",
        "outputId": "3f9e6f53-e692-4e75-c230-483fba231d58"
      },
      "outputs": [
        {
          "output_type": "execute_result",
          "data": {
            "text/plain": [
              "tensor([[[[ 0.,  0.,  0.,  0.,  0.],\n",
              "          [ 0.,  0.,  0.,  0.,  0.],\n",
              "          [-2., -2., -2., -2., -2.],\n",
              "          [ 0.,  0.,  0.,  0.,  0.],\n",
              "          [ 0.,  0.,  0.,  0.,  0.]],\n",
              "\n",
              "         [[ 0.,  0.,  0.,  0.,  0.],\n",
              "          [ 0.,  0.,  0.,  0.,  0.],\n",
              "          [ 1.,  1.,  1.,  1.,  1.],\n",
              "          [ 0.,  0.,  0.,  0.,  0.],\n",
              "          [ 0.,  0.,  0.,  0.,  0.]]]])"
            ]
          },
          "metadata": {},
          "execution_count": 101
        }
      ],
      "source": [
        "image2=torch.zeros(1,2,5,5)\n",
        "image2[0,0,2,:]=-2\n",
        "image2[0,1,2,:]=1\n",
        "image2"
      ]
    },
    {
      "cell_type": "markdown",
      "metadata": {
        "id": "PXAQsTfWbPyv"
      },
      "source": [
        "Plot out each image:\n"
      ]
    },
    {
      "cell_type": "code",
      "execution_count": 102,
      "metadata": {
        "colab": {
          "base_uri": "https://localhost:8080/",
          "height": 718
        },
        "id": "C3_r_vp4bPyv",
        "outputId": "40875132-fdcb-4d42-ebf6-2f6b56f35176"
      },
      "outputs": [
        {
          "output_type": "stream",
          "name": "stdout",
          "text": [
            "tensor([[ 0.,  0.,  0.,  0.,  0.],\n",
            "        [ 0.,  0.,  0.,  0.,  0.],\n",
            "        [-2., -2., -2., -2., -2.],\n",
            "        [ 0.,  0.,  0.,  0.,  0.],\n",
            "        [ 0.,  0.,  0.,  0.,  0.]])\n"
          ]
        },
        {
          "output_type": "display_data",
          "data": {
            "text/plain": [
              "<Figure size 432x288 with 2 Axes>"
            ],
            "image/png": "[encoded data removed]"
          },
          "metadata": {
            "needs_background": "light"
          }
        },
        {
          "output_type": "stream",
          "name": "stdout",
          "text": [
            "tensor([[0., 0., 0., 0., 0.],\n",
            "        [0., 0., 0., 0., 0.],\n",
            "        [1., 1., 1., 1., 1.],\n",
            "        [0., 0., 0., 0., 0.],\n",
            "        [0., 0., 0., 0., 0.]])\n"
          ]
        },
        {
          "output_type": "display_data",
          "data": {
            "text/plain": [
              "<Figure size 432x288 with 2 Axes>"
            ],
            "image/png": "[encoded data removed]"
          },
          "metadata": {
            "needs_background": "light"
          }
        }
      ],
      "source": [
        "for channel,image in enumerate(image2[0]):\n",
        "    plt.imshow(image.detach().numpy(), interpolation='nearest', cmap=plt.cm.gray)\n",
        "    print(image)\n",
        "    plt.title(\"channel {}\".format(channel))\n",
        "    plt.colorbar()\n",
        "    plt.show()"
      ]
    },
    {
      "cell_type": "markdown",
      "metadata": {
        "id": "ycj3Yqg3bPyw"
      },
      "source": [
        "Create a <code>Conv2d</code> object with two inputs:\n"
      ]
    },
    {
      "cell_type": "code",
      "execution_count": 103,
      "metadata": {
        "id": "5B7BE-frbPyz"
      },
      "outputs": [],
      "source": [
        "conv3 = nn.Conv2d(in_channels=2, out_channels=1,kernel_size=3)"
      ]
    },
    {
      "cell_type": "markdown",
      "metadata": {
        "id": "WLHvhvdpbPy0"
      },
      "source": [
        "Assign kernel values to make the math a little easier:\n"
      ]
    },
    {
      "cell_type": "code",
      "execution_count": 105,
      "metadata": {
        "id": "e_z_k0HzbPy0"
      },
      "outputs": [],
      "source": [
        "Gx1=torch.tensor([[0.0,0.0,0.0],[0,1.0,0],[0.0,0.0,0.0]])\n",
        "conv3.state_dict()['weight'][0][0]=1*Gx1\n",
        "conv3.state_dict()['weight'][0][1]=-2*Gx1\n",
        "conv3.state_dict()['bias'][:]=torch.tensor([0.0])"
      ]
    },
    {
      "cell_type": "code",
      "execution_count": 106,
      "metadata": {
        "colab": {
          "base_uri": "https://localhost:8080/"
        },
        "id": "UPcTDyZfbPy1",
        "outputId": "a2226afe-acef-4e15-d223-78b8c09e44f0"
      },
      "outputs": [
        {
          "output_type": "execute_result",
          "data": {
            "text/plain": [
              "tensor([[[[ 0.,  0.,  0.],\n",
              "          [ 0.,  1.,  0.],\n",
              "          [ 0.,  0.,  0.]],\n",
              "\n",
              "         [[-0., -0., -0.],\n",
              "          [-0., -2., -0.],\n",
              "          [-0., -0., -0.]]]])"
            ]
          },
          "metadata": {},
          "execution_count": 106
        }
      ],
      "source": [
        "conv3.state_dict()['weight']"
      ]
    },
    {
      "cell_type": "markdown",
      "metadata": {
        "id": "gCsIfqIEbPy2"
      },
      "source": [
        "Perform the convolution:\n"
      ]
    },
    {
      "cell_type": "code",
      "execution_count": 107,
      "metadata": {
        "colab": {
          "base_uri": "https://localhost:8080/"
        },
        "id": "ZIJxUW4DbPy2",
        "outputId": "5b032f56-fdff-4f77-d2b7-905041e9ff9f"
      },
      "outputs": [
        {
          "output_type": "execute_result",
          "data": {
            "text/plain": [
              "tensor([[[[ 0.,  0.,  0.],\n",
              "          [-4., -4., -4.],\n",
              "          [ 0.,  0.,  0.]]]], grad_fn=<ConvolutionBackward0>)"
            ]
          },
          "metadata": {},
          "execution_count": 107
        }
      ],
      "source": [
        "conv3(image2)"
      ]
    },
    {
      "cell_type": "markdown",
      "metadata": {
        "id": "t_t0NRtEbPy3"
      },
      "source": [
        "The following images summarize the process. The object performs Convolution.\n"
      ]
    },
    {
      "cell_type": "markdown",
      "metadata": {
        "id": "-U9UlJrebPy3"
      },
      "source": [
        "<img src = \"https://s3-api.us-geo.objectstorage.softlayer.net/cf-courses-data/CognitiveClass/DL0110EN/notebook_images%20/chapter%206/6.1.2_two_channal_example.png\" width = 750, align = \"center\">\n"
      ]
    },
    {
      "cell_type": "markdown",
      "metadata": {
        "id": "UkQyYF29bPy4"
      },
      "source": [
        "Then, it adds the result:\n"
      ]
    },
    {
      "cell_type": "markdown",
      "metadata": {
        "id": "yBcM2JQJbPy4"
      },
      "source": [
        "<img src = \"https://s3-api.us-geo.objectstorage.softlayer.net/cf-courses-data/CognitiveClass/DL0110EN/notebook_images%20/chapter%206/6.1.2_two_channal_example2.png\" width = 750, align = \"center\">\n"
      ]
    },
    {
      "cell_type": "markdown",
      "metadata": {
        "id": "yuoR26G8bPy5"
      },
      "source": [
        "<a id=\"ref2\"></a>\n",
        "\n",
        "<h2>Multiple Input and Multiple Output Channels</h2>\n"
      ]
    },
    {
      "cell_type": "markdown",
      "metadata": {
        "id": "_n0XbE50bPy6"
      },
      "source": [
        "When using multiple inputs and outputs, a kernel is created for each input, and the process is repeated for each output. The process is summarized in the following image.\n",
        "\n",
        "There are two input channels and 3 output channels. For each channel, the input in red and purple is convolved with an individual kernel that is colored differently. As a result, there are three outputs.\n"
      ]
    },
    {
      "cell_type": "markdown",
      "metadata": {
        "id": "wXlL4nrYbPy6"
      },
      "source": [
        "<img src = \"https://s3-api.us-geo.objectstorage.softlayer.net/cf-courses-data/CognitiveClass/DL0110EN/notebook_images%20/chapter%206/6.1.2mulit_input_output.png\" width = 750, align = \"center\">\n"
      ]
    },
    {
      "cell_type": "markdown",
      "metadata": {
        "id": "4MCCBKVIbPy7"
      },
      "source": [
        "Create an example with two inputs and three outputs and assign the kernel values to make the math a little easier:\n"
      ]
    },
    {
      "cell_type": "code",
      "execution_count": 109,
      "metadata": {
        "id": "dG2cGQJtbPy8"
      },
      "outputs": [],
      "source": [
        "conv4 = nn.Conv2d(in_channels=2, out_channels=3,kernel_size=3)\n",
        "conv4.state_dict()['weight'][0][0]=torch.tensor([[0.0,0.0,0.0],[0,0.5,0],[0.0,0.0,0.0]])\n",
        "conv4.state_dict()['weight'][0][1]=torch.tensor([[0.0,0.0,0.0],[0,0.5,0],[0.0,0.0,0.0]])\n",
        "\n",
        "\n",
        "conv4.state_dict()['weight'][1][0]=torch.tensor([[0.0,0.0,0.0],[0,1,0],[0.0,0.0,0.0]])\n",
        "conv4.state_dict()['weight'][1][1]=torch.tensor([[0.0,0.0,0.0],[0,-1,0],[0.0,0.0,0.0]])\n",
        "\n",
        "conv4.state_dict()['weight'][2][0]=torch.tensor([[1.0,0,-1.0],[2.0,0,-2.0],[1.0,0.0,-1.0]])\n",
        "conv4.state_dict()['weight'][2][1]=torch.tensor([[1.0,2.0,1.0],[0.0,0.0,0.0],[-1.0,-2.0,-1.0]])"
      ]
    },
    {
      "cell_type": "markdown",
      "metadata": {
        "id": "IHqjW2o0bPy9"
      },
      "source": [
        "For each output, there is a bias, so set them all to zero:\n"
      ]
    },
    {
      "cell_type": "code",
      "execution_count": 110,
      "metadata": {
        "id": "o2Uqi0nkbPy9"
      },
      "outputs": [],
      "source": [
        "conv4.state_dict()['bias'][:]=torch.tensor([0.0,0.0,0.0])"
      ]
    },
    {
      "cell_type": "markdown",
      "metadata": {
        "id": "5wdRC2u0bPy-"
      },
      "source": [
        "Create a two-channel image and plot the results:\n"
      ]
    },
    {
      "cell_type": "code",
      "execution_count": 111,
      "metadata": {
        "colab": {
          "base_uri": "https://localhost:8080/",
          "height": 718
        },
        "id": "nr_6UxSSbPzA",
        "outputId": "fd48a313-1b66-4af5-9c85-6d794d6d5a70"
      },
      "outputs": [
        {
          "output_type": "stream",
          "name": "stdout",
          "text": [
            "tensor([[1., 1., 1., 1., 1.],\n",
            "        [1., 1., 1., 1., 1.],\n",
            "        [1., 1., 1., 1., 1.],\n",
            "        [1., 1., 1., 1., 1.],\n",
            "        [1., 1., 1., 1., 1.]])\n"
          ]
        },
        {
          "output_type": "display_data",
          "data": {
            "text/plain": [
              "<Figure size 432x288 with 2 Axes>"
            ],
            "image/png": "[encoded data removed]"
          },
          "metadata": {
            "needs_background": "light"
          }
        },
        {
          "output_type": "stream",
          "name": "stdout",
          "text": [
            "tensor([[0., 0., 0., 0., 0.],\n",
            "        [0., 0., 0., 0., 0.],\n",
            "        [0., 0., 1., 0., 0.],\n",
            "        [0., 0., 0., 0., 0.],\n",
            "        [0., 0., 0., 0., 0.]])\n"
          ]
        },
        {
          "output_type": "display_data",
          "data": {
            "text/plain": [
              "<Figure size 432x288 with 2 Axes>"
            ],
            "image/png": "[encoded data removed]"
          },
          "metadata": {
            "needs_background": "light"
          }
        }
      ],
      "source": [
        "image4=torch.zeros(1,2,5,5)\n",
        "image4[0][0]=torch.ones(5,5)\n",
        "image4[0][1][2][2]=1\n",
        "for channel,image in enumerate(image4[0]):\n",
        "    plt.imshow(image.detach().numpy(), interpolation='nearest', cmap=plt.cm.gray)\n",
        "    print(image)\n",
        "    plt.title(\"channel {}\".format(channel))\n",
        "    plt.colorbar()\n",
        "    plt.show()"
      ]
    },
    {
      "cell_type": "markdown",
      "metadata": {
        "id": "x9Qze2cVbPzG"
      },
      "source": [
        "Perform the convolution:\n"
      ]
    },
    {
      "cell_type": "code",
      "execution_count": 112,
      "metadata": {
        "colab": {
          "base_uri": "https://localhost:8080/"
        },
        "id": "p4zpxIbPbPzG",
        "outputId": "5e81d7b4-5f96-4a45-9f0f-7430e6dcca55"
      },
      "outputs": [
        {
          "output_type": "execute_result",
          "data": {
            "text/plain": [
              "tensor([[[[ 0.5000,  0.5000,  0.5000],\n",
              "          [ 0.5000,  1.0000,  0.5000],\n",
              "          [ 0.5000,  0.5000,  0.5000]],\n",
              "\n",
              "         [[ 1.0000,  1.0000,  1.0000],\n",
              "          [ 1.0000,  0.0000,  1.0000],\n",
              "          [ 1.0000,  1.0000,  1.0000]],\n",
              "\n",
              "         [[-1.0000, -2.0000, -1.0000],\n",
              "          [ 0.0000,  0.0000,  0.0000],\n",
              "          [ 1.0000,  2.0000,  1.0000]]]], grad_fn=<ConvolutionBackward0>)"
            ]
          },
          "metadata": {},
          "execution_count": 112
        }
      ],
      "source": [
        "z=conv4(image4)\n",
        "z"
      ]
    },
    {
      "cell_type": "markdown",
      "metadata": {
        "id": "haE9CqJdbPzH"
      },
      "source": [
        "The output of the first channel is given by:\n"
      ]
    },
    {
      "cell_type": "markdown",
      "metadata": {
        "id": "DylISnwNbPzH"
      },
      "source": [
        "<img src = \"https://s3-api.us-geo.objectstorage.softlayer.net/cf-courses-data/CognitiveClass/DL0110EN/notebook_images%20/chapter%206/6.1.2_%20multi_channel_1.png\" width = 750, align = \"center\">\n"
      ]
    },
    {
      "cell_type": "markdown",
      "metadata": {
        "id": "jEUBCOODbPzH"
      },
      "source": [
        "The output of the second channel is given by:\n"
      ]
    },
    {
      "cell_type": "markdown",
      "metadata": {
        "id": "zAaxVrctbPzI"
      },
      "source": [
        "<img src = \"https://s3-api.us-geo.objectstorage.softlayer.net/cf-courses-data/CognitiveClass/DL0110EN/notebook_images%20/chapter%206/6.1.2_%20multi_channel_2.png\" width = 750, align = \"center\">\n"
      ]
    },
    {
      "cell_type": "markdown",
      "metadata": {
        "id": "ugnSB0lebPzI"
      },
      "source": [
        "The output of the third channel is given by:\n"
      ]
    },
    {
      "cell_type": "markdown",
      "metadata": {
        "id": "TFgHEbhWbPzI"
      },
      "source": [
        "<img src = \"https://s3-api.us-geo.objectstorage.softlayer.net/cf-courses-data/CognitiveClass/DL0110EN/notebook_images%20/chapter%206/6.1.2_%20multi_channel_3.png\" width = 750, align = \"center\">\n"
      ]
    },
    {
      "cell_type": "markdown",
      "metadata": {
        "id": "xV1IFnXMbPzJ"
      },
      "source": [
        "<a id=\"ref3\"></a>\n",
        "\n",
        "<h2>Practice Questions </h2>\n"
      ]
    },
    {
      "cell_type": "markdown",
      "metadata": {
        "id": "InnEVW-vbPzJ"
      },
      "source": [
        "Use the following two convolution objects to produce the same result as two input channel convolution on imageA and imageB as shown in the following image:\n"
      ]
    },
    {
      "cell_type": "code",
      "execution_count": null,
      "metadata": {
        "id": "CInT9TksbPzJ"
      },
      "outputs": [],
      "source": [
        "imageA=torch.zeros(1,1,5,5)\n",
        "imageB=torch.zeros(1,1,5,5)\n",
        "imageA[0,0,2,:]=-2\n",
        "imageB[0,0,2,:]=1\n",
        "\n",
        "\n",
        "conv5 = nn.Conv2d(in_channels=1, out_channels=1,kernel_size=3)\n",
        "conv6 = nn.Conv2d(in_channels=1, out_channels=1,kernel_size=3)\n",
        "\n",
        "\n",
        "Gx1=torch.tensor([[0.0,0.0,0.0],[0,1.0,0],[0.0,0.0,0.0]])\n",
        "conv5.state_dict()['weight'][0][0]=1*Gx1\n",
        "conv6.state_dict()['weight'][0][0]=-2*Gx1\n",
        "conv5.state_dict()['bias'][:]=torch.tensor([0.0])\n",
        "conv6.state_dict()['bias'][:]=torch.tensor([0.0])"
      ]
    },
    {
      "cell_type": "markdown",
      "metadata": {
        "id": "yeeF2J96bPzJ"
      },
      "source": [
        "<img src = \"https://s3-api.us-geo.objectstorage.softlayer.net/cf-courses-data/CognitiveClass/DL0110EN/notebook_images%20/chapter%206/6.1.2Practice%20Questions_1.png\" width = 750, align = \"center\">\n"
      ]
    },
    {
      "cell_type": "markdown",
      "metadata": {
        "id": "CpP-XcAbbPzK"
      },
      "source": [
        "<img src = \"https://s3-api.us-geo.objectstorage.softlayer.net/cf-courses-data/CognitiveClass/DL0110EN/notebook_images%20/chapter%206/6.1.2Practice%20Questions_2.png\" width = 750, align = \"center\">\n"
      ]
    },
    {
      "cell_type": "markdown",
      "metadata": {
        "id": "DY-tlHjQbPzL"
      },
      "source": [
        "Double-click **here** for the solution.\n",
        "\n",
        "<!-- Your answer is below:\n",
        "conv5(imageA)+conv6(imageB)\n",
        "-->\n"
      ]
    },
    {
      "cell_type": "markdown",
      "metadata": {
        "id": "2ltB6ablbPzL"
      },
      "source": [
        "<a href=\"https://dataplatform.cloud.ibm.com/registration/stepone?utm_medium=Exinfluencer&utm_source=Exinfluencer&utm_content=000026UJ&utm_term=10006555&utm_id=NA-SkillsNetwork-Channel-SkillsNetworkCoursesIBMDeveloperSkillsNetworkDL0110ENSkillsNetwork20647811-2022-01-01&context=cpdaas&apps=data_science_experience%2Cwatson_machine_learning\"><img src=\"https://cf-courses-data.s3.us.cloud-object-storage.appdomain.cloud/IBMDeveloperSkillsNetwork-DL0110EN-SkillsNetwork/Template/module%201/images/Watson_Studio.png\"/></a>\n"
      ]
    },
    {
      "cell_type": "markdown",
      "metadata": {
        "id": "fuHjkX6SbPzM"
      },
      "source": [
        "### About the Authors:\n",
        "\n",
        "[Joseph Santarcangelo](https://www.linkedin.com/in/joseph-s-50398b136/?utm_medium=Exinfluencer&utm_source=Exinfluencer&utm_content=000026UJ&utm_term=10006555&utm_id=NA-SkillsNetwork-Channel-SkillsNetworkCoursesIBMDeveloperSkillsNetworkDL0110ENSkillsNetwork20647811-2022-01-01) has a PhD in Electrical Engineering. His research focused on using machine learning, signal processing, and computer vision to determine how videos impact human cognition.\n",
        "\n",
        "Other contributors: [Michelle Carey](https://www.linkedin.com/in/michelleccarey/?utm_medium=Exinfluencer&utm_source=Exinfluencer&utm_content=000026UJ&utm_term=10006555&utm_id=NA-SkillsNetwork-Channel-SkillsNetworkCoursesIBMDeveloperSkillsNetworkDL0110ENSkillsNetwork20647811-2022-01-01), [Mavis Zhou](https://www.linkedin.com/in/jiahui-mavis-zhou-a4537814a/?utm_medium=Exinfluencer&utm_source=Exinfluencer&utm_content=000026UJ&utm_term=10006555&utm_id=NA-SkillsNetwork-Channel-SkillsNetworkCoursesIBMDeveloperSkillsNetworkDL0110ENSkillsNetwork20647811-2022-01-01)\n"
      ]
    },
    {
      "cell_type": "markdown",
      "metadata": {
        "id": "jHmd6kOybPzM"
      },
      "source": [
        "## Change Log\n",
        "\n",
        "| Date (YYYY-MM-DD) | Version | Changed By | Change Description                                          |\n",
        "| ----------------- | ------- | ---------- | ----------------------------------------------------------- |\n",
        "| 2020-09-23        | 2.0     | Srishti    | Migrated Lab to Markdown and added to course repo in GitLab |\n",
        "\n",
        "<hr>\n",
        "\n",
        "## <h3 align=\"center\"> © IBM Corporation 2020. All rights reserved. <h3/>\n"
      ]
    }
  ],
  "metadata": {
    "kernelspec": {
      "display_name": "Python 3",
      "language": "python",
      "name": "python3"
    },
    "language_info": {
      "codemirror_mode": {
        "name": "ipython",
        "version": 3
      },
      "file_extension": ".py",
      "mimetype": "text/x-python",
      "name": "python",
      "nbconvert_exporter": "python",
      "pygments_lexer": "ipython3",
      "version": "3.7.6"
    },
    "colab": {
      "provenance": [],
      "include_colab_link": true
    }
  },
  "nbformat": 4,
  "nbformat_minor": 0
}