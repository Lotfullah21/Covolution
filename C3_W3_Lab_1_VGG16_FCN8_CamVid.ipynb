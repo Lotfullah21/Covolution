{
  "nbformat": 4,
  "nbformat_minor": 0,
  "metadata": {
    "accelerator": "GPU",
    "colab": {
      "private_outputs": true,
      "provenance": [],
      "include_colab_link": true
    },
    "kernelspec": {
      "display_name": "Python 3",
      "language": "python",
      "name": "python3"
    },
    "language_info": {
      "codemirror_mode": {
        "name": "ipython",
        "version": 3
      },
      "file_extension": ".py",
      "mimetype": "text/x-python",
      "name": "python",
      "nbconvert_exporter": "python",
      "pygments_lexer": "ipython3",
      "version": "3.7.4"
    }
  },
  "cells": [
    {
      "cell_type": "markdown",
      "metadata": {
        "id": "view-in-github",
        "colab_type": "text"
      },
      "source": [
        "<a href=\"https://colab.research.google.com/github/Lotfullah21/Covolution/blob/main/C3_W3_Lab_1_VGG16_FCN8_CamVid.ipynb\" target=\"_parent\"><img src=\"https://colab.research.google.com/assets/colab-badge.svg\" alt=\"Open In Colab\"/></a>"
      ]
    },
    {
      "cell_type": "markdown",
      "metadata": {
        "id": "NSFfcSDxhIS7"
      },
      "source": [
        "# Ungraded Lab: Fully Convolutional Neural Networks for Image Segmentation\n",
        "\n",
        "This notebook illustrates how to build a Fully Convolutional Neural Network for semantic image segmentation.\n",
        "\n",
        "You will train the model on a [custom dataset](https://drive.google.com/file/d/0B0d9ZiqAgFkiOHR1NTJhWVJMNEU/view?usp=sharing) prepared by [divamgupta](https://github.com/divamgupta/image-segmentation-keras). This contains video frames from a moving vehicle and is a subsample of the [CamVid](http://mi.eng.cam.ac.uk/research/projects/VideoRec/CamVid/) dataset. \n",
        "\n",
        "You will be using a pretrained VGG-16 network for the feature extraction path, then followed by an FCN-8 network for upsampling and generating the predictions. The output will be a label map (i.e. segmentation mask) with predictions for 12 classes. Let's begin!"
      ]
    },
    {
      "cell_type": "code",
      "source": [
        "# Install this package to use Colab's GPU for training\n",
        "!apt install --allow-change-held-packages libcudnn8=8.4.1.50-1+cuda11.6"
      ],
      "metadata": {
        "id": "1Npv-7kDziWl"
      },
      "execution_count": null,
      "outputs": []
    },
    {
      "cell_type": "markdown",
      "source": [
        "### 1. Imports"
      ],
      "metadata": {
        "id": "zmdOueR1C8-B"
      }
    },
    {
      "cell_type": "code",
      "source": [
        "import os \n",
        "import zipfile\n",
        "import PIL.Image, PIL.ImageFont, PIL.ImageDraw\n",
        "import numpy as np\n",
        "\n",
        "try:\n",
        "  #% it exist only in colab\n",
        "  %tensorflow_version 2.x\n",
        "except Exception:\n",
        "  pass\n",
        "\n",
        "import tensorflow as tf\n",
        "import matplotlib.pyplot as plt\n",
        "import tensorflow_datasets as tfds\n",
        "import seaborn as sns\n",
        "\n",
        "print(\"tensorflow version\", tf.__version__)"
      ],
      "metadata": {
        "id": "9o_ZFZ7uC9FX"
      },
      "execution_count": null,
      "outputs": []
    },
    {
      "cell_type": "markdown",
      "metadata": {
        "id": "3sLz8mI2S62W"
      },
      "source": [
        "## Download the Dataset"
      ]
    },
    {
      "cell_type": "markdown",
      "metadata": {
        "id": "fwC8gfP6jTZC"
      },
      "source": [
        "We hosted the dataset in a Google bucket so you will need to download it first and unzip to a local directory."
      ]
    },
    {
      "cell_type": "code",
      "metadata": {
        "id": "1Z5V1XMBNJso"
      },
      "source": [
        "# download the dataset (zipped file)\n",
        "!gdown --id 0B0d9ZiqAgFkiOHR1NTJhWVJMNEU -O /tmp/fcnn-dataset.zip "
      ],
      "execution_count": null,
      "outputs": []
    },
    {
      "cell_type": "markdown",
      "source": [
        "*Troubleshooting: If you get a download error saying \"Cannot retrieve the public link of the file.\", please run the next two cells below to download the dataset. Otherwise, please skip them.*"
      ],
      "metadata": {
        "id": "Ls9hGczYWBwS"
      }
    },
    {
      "cell_type": "code",
      "source": [
        "%%writefile download.sh\n",
        "\n",
        "#!/bin/bash\n",
        "fileid=\"0B0d9ZiqAgFkiOHR1NTJhWVJMNEU\"\n",
        "filename=\"/tmp/fcnn-dataset.zip\"\n",
        "html=`curl -c ./cookie -s -L \"https://drive.google.com/uc?export=download&id=${fileid}\"`\n",
        "curl -Lb ./cookie \"https://drive.google.com/uc?export=download&`echo ${html}|grep -Po '(confirm=[a-zA-Z0-9\\-_]+)'`&id=${fileid}\" -o ${filename}"
      ],
      "metadata": {
        "id": "fjQKhE_3WFLF"
      },
      "execution_count": null,
      "outputs": []
    },
    {
      "cell_type": "code",
      "source": [
        "# NOTE: Please only run this if downloading with gdown did not work.\n",
        "# This will run the script created above.\n",
        "!bash download.sh"
      ],
      "metadata": {
        "id": "Nvl1E05nWMoc"
      },
      "execution_count": null,
      "outputs": []
    },
    {
      "cell_type": "markdown",
      "source": [
        "Extract the downloaded zip files\n"
      ],
      "metadata": {
        "id": "IHlYvgQWEKnJ"
      }
    },
    {
      "cell_type": "code",
      "source": [
        "# extract the downloaded dataset to a local directory \"/tmp/fcnn\"\n",
        "local_zip = \"/tmp/fcnn-dataset.zip\"\n",
        "zip_ref = zipfile.ZipFile(local_zip, \"r\")\n",
        "zip_ref.extractall(\"/tmp/fcnn\")\n",
        "zip_ref.close()"
      ],
      "metadata": {
        "id": "doK77lhREJf9"
      },
      "execution_count": null,
      "outputs": []
    },
    {
      "cell_type": "markdown",
      "metadata": {
        "id": "10uOBZzfMrqZ"
      },
      "source": [
        "The dataset you just downloaded contains folders for images and annotations. The *images* contain the video frames while the *annotations* contain the pixel-wise label maps. Each label map has the shape `(height, width , 1)` with each point in this space denoting the corresponding pixel's class. Classes are in the range `[0, 11]` (i.e. 12 classes) and the pixel labels correspond to these classes:\n",
        "\n",
        "| Value  | Class Name    |\n",
        "| -------| -------------| \n",
        "| 0      | sky |\n",
        "| 1      | building      |\n",
        "| 2      | column/pole      |\n",
        "| 3      | road |\n",
        "| 4      | side walk     |\n",
        "| 5      | vegetation      |\n",
        "| 6      | traffic light |\n",
        "| 7      | fence      |\n",
        "| 8      | vehicle     |\n",
        "| 9      | pedestrian |\n",
        "| 10      | byciclist      |\n",
        "| 11      | void      |\n",
        "\n",
        "For example, if a pixel is part of a road, then that point will be labeled `3` in the label map. Run the cell below to create a list containing the class names:\n",
        "- Note: bicyclist is mispelled as 'byciclist' in the dataset.  We won't handle data cleaning in this example, but you can inspect and clean the data if you want to use this as a starting point for a personal project."
      ]
    },
    {
      "cell_type": "code",
      "metadata": {
        "id": "OlK0lVK_-Z46"
      },
      "source": [
        "# pixel labels in the video frames\n",
        "class_names = ['sky', 'building','column/pole', 'road', 'side walk', 'vegetation', 'traffic light', 'fence', 'vehicle', 'pedestrian', 'byciclist', 'void']"
      ],
      "execution_count": null,
      "outputs": []
    },
    {
      "cell_type": "markdown",
      "source": [
        "## 2. Load and Prepare the Dataset\n",
        "Now, we will load and prepare the train and validation sets for training, There are some preprocessing steps needed before the data is fed into the model.\n",
        "- resizing the height and width of the input images and label maps (224x224px by default)\n",
        "- normalizing the input images pixel values to fall in the range [-1,1]\n",
        "- reshaping the maps from (height, width , 1) to (height, width, 12) with each slice along the third axis having 1 if it belongs to the class corresponding to that slice's index, else 0. for example, if a pixel is a part of road, then using the table above, the point at slice #3 will be labeled 1 and it will be 0 in all other slice."
      ],
      "metadata": {
        "id": "JChgksvfFYkO"
      }
    },
    {
      "cell_type": "code",
      "source": [
        "def map_filename_to_image_and_mask(t_filename, a_filename, height = 224, width =224):\n",
        "  \"\"\"\n",
        "  Preprocesses the dataset by:\n",
        "  * resizing the input image and label maps\n",
        "  * normalizing the input image pixels\n",
        "  * reshaping the label maps from (height, width, 1) to (height, width, 12)\n",
        "\n",
        "  Args:\n",
        "  t_filename -- path to the raw input image\n",
        "  a_filename -- path to the raw annotation (labl map) file\n",
        "  height(int) -- height in pixel to resize to\n",
        "  width(int) -- width in pixels to resize to\n",
        "\n",
        "  Returns:\n",
        "  image(tensors) -- preprocessed image\n",
        "  annotation(tensor) -- preprocessed annoatation\n",
        "\n",
        "  \"\"\"\n",
        "  # Convert image and mask files to tensors\n",
        "  img_raw = tf.io.read_file(t_filename)\n",
        "  anno_raw = tf.io.read_file(a_filename)\n",
        "  image = tf.image.decode_jpeg(img_raw)\n",
        "  annotation = tf.image.decode_jpeg(anno_raw)\n",
        "\n",
        "  # Reszie image and segmentation mask\n",
        "  image = tf.image.resize(image, (height, width,))\n",
        "  annotation = tf.image.resize(annotation, (height, width,))\n",
        "  image = tf.reshape(image, (height, width,3,))\n",
        "  annotation = tf.cast(annotation, dtype = tf.int32)\n",
        "  annotation = tf.reshape(annotation, (height, width,1,))\n",
        "  stack_list = []\n",
        "  \n",
        "  # Reshape segmentation task\n",
        "  for c in range(len(class_names)):\n",
        "    mask = tf.equal(annotation[:,:,0], tf.constant(c))\n",
        "    stack_list.append(tf.cast(mask, dtype = tf.int32))\n",
        "  \n",
        "  annotation = tf.stack(stack_list, axis = 2)\n",
        "\n",
        "  # Normalize pixels in the input image\n",
        "  image  = image/127.5\n",
        "  image -= 1\n",
        "  \n",
        "  return image, annotation\n",
        "    \n",
        "\n"
      ],
      "metadata": {
        "id": "1SNsW_FiFYq1"
      },
      "execution_count": null,
      "outputs": []
    },
    {
      "cell_type": "code",
      "metadata": {
        "id": "Lsc-_7Xu_twj"
      },
      "source": [],
      "execution_count": null,
      "outputs": []
    },
    {
      "cell_type": "markdown",
      "metadata": {
        "id": "fK9tYK28lUhx"
      },
      "source": [
        "The dataset also already has separate folders for train and test sets. As described earlier, these sets will have two folders: one corresponding to the images, and the other containing the annotations. "
      ]
    },
    {
      "cell_type": "code",
      "metadata": {
        "id": "k5Z8UbTQGRcC"
      },
      "source": [
        "# show folders inside the dataset you downloaded\n",
        "!ls /tmp/fcnn/dataset1"
      ],
      "execution_count": null,
      "outputs": []
    },
    {
      "cell_type": "markdown",
      "source": [
        "Lets create the given two functions to create the tensorflow datasets from the images in these folders. "
      ],
      "metadata": {
        "id": "NHNzvsz6PAlH"
      }
    },
    {
      "cell_type": "code",
      "source": [
        "# Utilities for preparing the datasets\n",
        "Batch_Size = 64\n",
        "\n",
        "def get_dataset_slice(image_dir, label_map_dir):\n",
        "  \"\"\"\n",
        "  generates the lists of image and label map paths\n",
        "\n",
        "  Args:\n",
        "    image_dir(string) -- path to the input images directory\n",
        "    label_map_dir(string) -- path to the label map directory \n",
        "\n",
        "  Returns:\n",
        "    image_paths (list of strings) -- paths to each image file\n",
        "    label_map_paths(list of strings) -- paths to each label map\n",
        "\n",
        "  \"\"\"\n",
        "  image_file_list = os.listdir(image_dir)\n",
        "  label_map_file_list = os.listdir(label_map_dir)\n",
        "  image_paths = [os.path.join(image_dir,fname) for fname in image_file_list]\n",
        "  label_paths = [os.path.join(label_map_dir, fname) for fname in label_map_file_list]\n",
        "\n",
        "  return image_paths, label_paths\n",
        "\n",
        "def get_training_dataset(image_paths, label_paths):\n",
        "  \"\"\"\n",
        "  Prepares shuffled batches of the training set.\n",
        "\n",
        "  Args:\n",
        "    image_paths (list of strings) -- paths to each image file in the train set\n",
        "    label_paths (list of strings) -- paths to each label map in the tranining set\n",
        "  Returns:\n",
        "    tf Dataset containing the preprocessed training set\n",
        "  \"\"\"\n",
        "  training_dataset = tf.data.Dataset.from_tensor_slices(image_paths, label_paths)\n",
        "  training_dataset = training_dataset.map(map_filename_to_image_and_mask)\n",
        "  training_dataset = training_dataset.shuffle(100, reshuffle_each_iteration = True)\n",
        "  training_dataset = training_dataset.batch(Batch_Size)\n",
        "  training_dataset = training_dataset.repeat()\n",
        "  training_dataset = training_dataset.prefetch(-1)\n",
        "\n",
        "  return training_dataset\n",
        "\n",
        "def get_validation_dataset(image_paths, label_paths):\n",
        "  \"\"\"\n",
        "  prepares batches of validation data\n",
        "\n",
        "  Args:\n",
        "    image_paths(list of strings) -- paths to each image files in validation set\n",
        "    label_paths(list of strings) -- paths to each label files in validation set\n",
        "\n",
        "  Returns:\n",
        "    tf Dataset containing preprocessed validation dataset\n",
        "  \n",
        "  \"\"\"\n",
        "  validation_dataset = tf.data.Dataset.from_tensor_slices((image_paths, label_paths))\n",
        "  validation_dataset = validation_dataset.map(map_filename_to_image_and_mask)\n",
        "  validation_dataset = validation_dataset.batch(Batch_Size)\n",
        "  validation_dataset = validation_dataset.repeat()\n",
        "\n",
        "  return validation_dataset\n",
        "\n",
        "\n"
      ],
      "metadata": {
        "id": "OXHX9MX3O5Qt"
      },
      "execution_count": null,
      "outputs": []
    },
    {
      "cell_type": "code",
      "metadata": {
        "id": "S8YE6w9g-ZEF"
      },
      "source": [
        "# Utilities for preparing the datasets\n",
        "\n",
        "BATCH_SIZE = 64\n",
        "\n",
        "def get_dataset_slice_paths(image_dir, label_map_dir):\n",
        "  '''\n",
        "  generates the lists of image and label map paths\n",
        "  \n",
        "  Args:\n",
        "    image_dir (string) -- path to the input images directory\n",
        "    label_map_dir (string) -- path to the label map directory\n",
        "\n",
        "  Returns:\n",
        "    image_paths (list of strings) -- paths to each image file\n",
        "    label_map_paths (list of strings) -- paths to each label map\n",
        "  '''\n",
        "  image_file_list = os.listdir(image_dir)\n",
        "  label_map_file_list = os.listdir(label_map_dir)\n",
        "  image_paths = [os.path.join(image_dir, fname) for fname in image_file_list]\n",
        "  label_map_paths = [os.path.join(label_map_dir, fname) for fname in label_map_file_list]\n",
        "\n",
        "  return image_paths, label_map_paths\n",
        "\n",
        "\n",
        "def get_training_dataset(image_paths, label_map_paths):\n",
        "  '''\n",
        "  Prepares shuffled batches of the training set.\n",
        "  \n",
        "  Args:\n",
        "    image_paths (list of strings) -- paths to each image file in the train set\n",
        "    label_map_paths (list of strings) -- paths to each label map in the train set\n",
        "\n",
        "  Returns:\n",
        "    tf Dataset containing the preprocessed train set\n",
        "  '''\n",
        "  training_dataset = tf.data.Dataset.from_tensor_slices((image_paths, label_map_paths))\n",
        "  training_dataset = training_dataset.map(map_filename_to_image_and_mask)\n",
        "  training_dataset = training_dataset.shuffle(100, reshuffle_each_iteration=True)\n",
        "  training_dataset = training_dataset.batch(BATCH_SIZE)\n",
        "  training_dataset = training_dataset.repeat()\n",
        "  training_dataset = training_dataset.prefetch(-1)\n",
        "\n",
        "  return training_dataset\n",
        "\n",
        "\n",
        "def get_validation_dataset(image_paths, label_map_paths):\n",
        "  '''\n",
        "  Prepares batches of the validation set.\n",
        "  \n",
        "  Args:\n",
        "    image_paths (list of strings) -- paths to each image file in the val set\n",
        "    label_map_paths (list of strings) -- paths to each label map in the val set\n",
        "\n",
        "  Returns:\n",
        "    tf Dataset containing the preprocessed validation set\n",
        "  '''\n",
        "  validation_dataset = tf.data.Dataset.from_tensor_slices((image_paths, label_map_paths))\n",
        "  validation_dataset = validation_dataset.map(map_filename_to_image_and_mask)\n",
        "  validation_dataset = validation_dataset.batch(BATCH_SIZE)\n",
        "  validation_dataset = validation_dataset.repeat()  \n",
        "\n",
        "  return validation_dataset\n"
      ],
      "execution_count": null,
      "outputs": []
    },
    {
      "cell_type": "markdown",
      "metadata": {
        "id": "FWnstwNEiXa0"
      },
      "source": [
        "You can now generate the training and validation sets by running the cell below."
      ]
    },
    {
      "cell_type": "code",
      "metadata": {
        "id": "skVGwEPmeiwz"
      },
      "source": [
        "# get the paths to the images\n",
        "training_image_paths, training_label_map_paths = get_dataset_slice_paths('/tmp/fcnn/dataset1/images_prepped_train/','/tmp/fcnn/dataset1/annotations_prepped_train/')\n",
        "validation_image_paths, validation_label_map_paths = get_dataset_slice_paths('/tmp/fcnn/dataset1/images_prepped_test/','/tmp/fcnn/dataset1/annotations_prepped_test/')\n",
        "\n",
        "# generate the train and val sets\n",
        "training_dataset = get_training_dataset(training_image_paths, training_label_map_paths)\n",
        "validation_dataset = get_validation_dataset(validation_image_paths, validation_label_map_paths)"
      ],
      "execution_count": null,
      "outputs": []
    },
    {
      "cell_type": "code",
      "source": [],
      "metadata": {
        "id": "N-NY9cTiDkra"
      },
      "execution_count": null,
      "outputs": []
    },
    {
      "cell_type": "markdown",
      "metadata": {
        "id": "gu9v343Pa4Eg"
      },
      "source": [
        "## Let's Take a Look at the Dataset"
      ]
    },
    {
      "cell_type": "markdown",
      "metadata": {
        "id": "ad3a1E7JjNXc"
      },
      "source": [
        "You will also need utilities to help visualize the dataset and the model predictions later. First, you need to assign a color mapping to the classes in the label maps. Since our dataset has 12 classes, you need to have a list of 12 colors. We can use the [color_palette()](https://seaborn.pydata.org/generated/seaborn.color_palette.html) from Seaborn to generate this."
      ]
    },
    {
      "cell_type": "code",
      "source": [
        "# lets generate a list of colors that contain one color for each class\n",
        "colors = sns.color_palette(None, len(class_names))\n",
        "\n",
        "# print the class names,to convert the (0,0,0) to RGB (255,255,255) we need to\n",
        "for class_names, color in zip(class_names, colors):\n",
        "  print(f\"{class_names} -- {color}\")"
      ],
      "metadata": {
        "id": "W9JFl0lcFxfa"
      },
      "execution_count": null,
      "outputs": []
    },
    {
      "cell_type": "code",
      "metadata": {
        "id": "d46YCbvPafbp"
      },
      "source": [
        "# Visualization Utilities\n",
        "\n",
        "def fuse_with_pil(images):\n",
        "  '''\n",
        "  Creates a blank image and pastes input images\n",
        "\n",
        "  Args:\n",
        "    images (list of numpy arrays) - numpy array representations of the images to paste\n",
        "  \n",
        "  Returns:\n",
        "    PIL Image object containing the images\n",
        "  '''\n",
        "\n",
        "  widths = (image.shape[1] for image in images)\n",
        "  heights = (image.shape[0] for image in images)\n",
        "  total_width = sum(widths)\n",
        "  max_height = max(heights)\n",
        "\n",
        "  new_im = PIL.Image.new('RGB', (total_width, max_height))\n",
        "\n",
        "  x_offset = 0\n",
        "  for im in images:\n",
        "    pil_image = PIL.Image.fromarray(np.uint8(im))\n",
        "    new_im.paste(pil_image, (x_offset,0))\n",
        "    x_offset += im.shape[1]\n",
        "  \n",
        "  return new_im\n",
        "\n",
        "\n",
        "def give_color_to_annotation(annotation):\n",
        "  '''\n",
        "  Converts a 2-D annotation to a numpy array with shape (height, width, 3) where\n",
        "  the third axis represents the color channel. The label values are multiplied by\n",
        "  255 and placed in this axis to give color to the annotation\n",
        "\n",
        "  Args:\n",
        "    annotation (numpy array) - label map array\n",
        "  \n",
        "  Returns:\n",
        "    the annotation array with an additional color channel/axis\n",
        "  '''\n",
        "  seg_img = np.zeros( (annotation.shape[0],annotation.shape[1], 3) ).astype('float')\n",
        "  \n",
        "  for c in range(12):\n",
        "    segc = (annotation == c)\n",
        "    seg_img[:,:,0] += segc*( colors[c][0] * 255.0)\n",
        "    seg_img[:,:,1] += segc*( colors[c][1] * 255.0)\n",
        "    seg_img[:,:,2] += segc*( colors[c][2] * 255.0)\n",
        "  \n",
        "  return seg_img\n",
        "\n",
        "\n",
        "def show_predictions(image, labelmaps, titles, iou_list, dice_score_list):\n",
        "  '''\n",
        "  Displays the images with the ground truth and predicted label maps\n",
        "\n",
        "  Args:\n",
        "    image (numpy array) -- the input image\n",
        "    labelmaps (list of arrays) -- contains the predicted and ground truth label maps\n",
        "    titles (list of strings) -- display headings for the images to be displayed\n",
        "    iou_list (list of floats) -- the IOU values for each class\n",
        "    dice_score_list (list of floats) -- the Dice Score for each vlass\n",
        "  '''\n",
        "\n",
        "  true_img = give_color_to_annotation(labelmaps[1])\n",
        "  pred_img = give_color_to_annotation(labelmaps[0])\n",
        "\n",
        "  image = image + 1\n",
        "  image = image * 127.5\n",
        "  images = np.uint8([image, pred_img, true_img])\n",
        "\n",
        "  metrics_by_id = [(idx, iou, dice_score) for idx, (iou, dice_score) in enumerate(zip(iou_list, dice_score_list)) if iou > 0.0]\n",
        "  metrics_by_id.sort(key=lambda tup: tup[1], reverse=True)  # sorts in place\n",
        "  \n",
        "  display_string_list = [\"{}: IOU: {} Dice Score: {}\".format(class_names[idx], iou, dice_score) for idx, iou, dice_score in metrics_by_id]\n",
        "  display_string = \"\\n\\n\".join(display_string_list) \n",
        "\n",
        "  plt.figure(figsize=(15, 4))\n",
        "\n",
        "  for idx, im in enumerate(images):\n",
        "    plt.subplot(1, 3, idx+1)\n",
        "    if idx == 1:\n",
        "      plt.xlabel(display_string)\n",
        "    plt.xticks([])\n",
        "    plt.yticks([])\n",
        "    plt.title(titles[idx], fontsize=12)\n",
        "    plt.imshow(im)\n",
        "\n",
        "\n",
        "def show_annotation_and_image(image, annotation):\n",
        "  '''\n",
        "  Displays the image and its annotation side by side\n",
        "\n",
        "  Args:\n",
        "    image (numpy array) -- the input image\n",
        "    annotation (numpy array) -- the label map\n",
        "  '''\n",
        "  new_ann = np.argmax(annotation, axis=2)\n",
        "  seg_img = give_color_to_annotation(new_ann)\n",
        "  \n",
        "  image = image + 1\n",
        "  image = image * 127.5\n",
        "  image = np.uint8(image)\n",
        "  images = [image, seg_img]\n",
        "  \n",
        "  images = [image, seg_img]\n",
        "  fused_img = fuse_with_pil(images)\n",
        "  plt.imshow(fused_img)\n",
        "\n",
        "\n",
        "def show_annotation(dataset):\n",
        "  \"\"\"\n",
        "  Displays images and its annotations side by side\n",
        "\n",
        "  Args:\n",
        "    dataset (tf Dataset) - btach of images and annotation\n",
        "  \"\"\"\n",
        "  ds = dataset.unbatch()\n",
        "  ds = ds.shuffle(buffer_size = 1000)\n",
        "  \n",
        "  plt.figure(figsize = (25, 15))\n",
        "  plt.title(\"Ïmage and annotation\")\n",
        "  plt.subplots_adjust(bottom = 0.1, top = 0.9, hspace = 0.005)\n",
        "\n",
        "  for idx, (image,annotation) in enumerate(ds.take(9)):\n",
        "    plt.subplot(3,3,idx+1)\n",
        "    plt.yticks([])\n",
        "    plt.xticks([])\n",
        "    show_annotation_and_image(image.numpy(), annotation.numpy())\n",
        " "
      ],
      "execution_count": null,
      "outputs": []
    },
    {
      "cell_type": "markdown",
      "metadata": {
        "id": "cK621Jm8bJyj"
      },
      "source": [
        "\n",
        "Please run the cells below to see sample images from the train and validation sets. You will see the image and the label maps side side by side."
      ]
    },
    {
      "cell_type": "code",
      "metadata": {
        "id": "AFO_hIhLWYT4"
      },
      "source": [
        "show_annotation(training_dataset)"
      ],
      "execution_count": null,
      "outputs": []
    },
    {
      "cell_type": "code",
      "metadata": {
        "id": "bdgVkp8wZua0"
      },
      "source": [
        "show_annotation(validation_dataset)"
      ],
      "execution_count": null,
      "outputs": []
    },
    {
      "cell_type": "markdown",
      "metadata": {
        "id": "QFv2k8xabRb8"
      },
      "source": [
        "## Define the Model\n",
        "\n",
        "You will now build the model and prepare it for training. AS mentioned earlier, this will use a VGG-16 network for the encoder and FCN-8 for the decoder. This is the diagram as shown in class:\n",
        "\n",
        "<img src='https://drive.google.com/uc?export=view&id=1lrqB4YegV8jXWNfyYAaeuFlwXIc54aRP' alt='fcn-8'>\n",
        "\n",
        "For this exercise, you will notice a slight difference from the lecture because the dataset images are 224x224 instead of 32x32. You'll see how this is handled in the next cells as you build the encoder."
      ]
    },
    {
      "cell_type": "markdown",
      "metadata": {
        "id": "HHB1BGmF965d"
      },
      "source": [
        "### Define Pooling Block of VGG"
      ]
    },
    {
      "cell_type": "markdown",
      "metadata": {
        "id": "TWnI0IcNxNRh"
      },
      "source": [
        "As you saw in Course 1 of this specialization, VGG networks have repeating blocks so to make the code neat, it's best to create a function to encapsulate this process. Each block has convolutional layers followed by a max pooling layer which downsamples the image."
      ]
    },
    {
      "cell_type": "code",
      "source": [
        "def block(x, n_convs, filters, kernel_size, activation, pool_size, pool_stride, block_name):\n",
        "  \"\"\"\"\n",
        "  Defines a block in the VGG network\n",
        "\n",
        "  Args:\n",
        "    x (tensor) -- input image\n",
        "    n_convs(int) -- number of convoolution layers to apppend\n",
        "    filters(int) -- number of filters for the convolution layer\n",
        "    activation(string or object) -- activation to use\n",
        "    pooling_size(int) -- size of the pooling layer\n",
        "    pooling_stride(int) -- stride of the pooling layer\n",
        "    block_name (string) -- name of the block\n",
        "\n",
        "    Returns:\n",
        "      tensors containing the max-pooled ouputs of the convolution\n",
        "  \"\"\"\n",
        "\n",
        "  for i in range(n_convs):\n",
        "    x = tf.keras.layers.Conv2D(filters = filters, kernel_size = kernel_size, activation = activation, padding = \"same\", name = \"{}_conv{}\".format(block_name,i+1))(x)\n",
        "    x = tf.keras.layers.MaxPooling2D(pool_size = pool_size, strides = pool_stride,name=\"{}_pool{}\".format(block_name, i+1 ))(x)\n",
        "    return x\n"
      ],
      "metadata": {
        "id": "OW7cF0Krct3g"
      },
      "execution_count": null,
      "outputs": []
    },
    {
      "cell_type": "markdown",
      "metadata": {
        "id": "Lm_8Jp4PbVV5"
      },
      "source": [
        "### Download VGG weights\n",
        "\n",
        "First, please run the cell below to get pre-trained weights for VGG-16. You will load this in the next section when you build the encoder network."
      ]
    },
    {
      "cell_type": "code",
      "metadata": {
        "id": "vKPpXapoYxAc"
      },
      "source": [
        "# download the weights\n",
        "!wget https://github.com/fchollet/deep-learning-models/releases/download/v0.1/vgg16_weights_tf_dim_ordering_tf_kernels_notop.h5\n",
        "\n",
        "# assign to a variable\n",
        "vgg_weights_path = \"vgg16_weights_tf_dim_ordering_tf_kernels_notop.h5\""
      ],
      "execution_count": null,
      "outputs": []
    },
    {
      "cell_type": "markdown",
      "metadata": {
        "id": "ZLeQCxf99_tn"
      },
      "source": [
        "### Define VGG-16\n",
        "\n",
        "You can build the encoder as shown below. \n",
        "\n",
        "* You will create 5 blocks with increasing number of filters at each stage. \n",
        "* The number of convolutions, filters, kernel size, activation, pool size and pool stride will remain constant.\n",
        "* You will load the pretrained weights after creating the VGG 16 network.\n",
        "* Additional convolution layers will be appended to extract more features.\n",
        "* The output will contain the output of the last layer and the previous four convolution blocks.\n",
        "![0_0M8CobXpNwFDCmOQ.jpg](data:image/jpeg;base64,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)\n",
        "![0_6VP81rFoLWp10FcG.jpg](data:image/jpeg;base64,/9j/2wCEAAMCAgMCAgMDAwMEAwMEBQgFBQQEBQoHBwYIDAoMDAsKCwsNDhIQDQ4RDgsLEBYQERMUFRUVDA8XGBYUGBIUFRQBAwQEBQQFCQUFCRQNCw0UFBQUFBQUFBQUFBQUFBQUFBQUFBQUFBQUFBQUFBQUFBQUFBQUFBQUFBQUFBQUFBQUFP/AABEIAOEDXQMBIgACEQEDEQH/xAGiAAABBQEBAQEBAQAAAAAAAAAAAQIDBAUGBwgJCgsQAAIBAwMCBAMFBQQEAAABfQECAwAEEQUSITFBBhNRYQcicRQygZGhCCNCscEVUtHwJDNicoIJChYXGBkaJSYnKCkqNDU2Nzg5OkNERUZHSElKU1RVVldYWVpjZGVmZ2hpanN0dXZ3eHl6g4SFhoeIiYqSk5SVlpeYmZqio6Slpqeoqaqys7S1tre4ubrCw8TFxsfIycrS09TV1tfY2drh4uPk5ebn6Onq8fLz9PX29/j5+gEAAwEBAQEBAQEBAQAAAAAAAAECAwQFBgcICQoLEQACAQIEBAMEBwUEBAABAncAAQIDEQQFITEGEkFRB2FxEyIygQgUQpGhscEJIzNS8BVictEKFiQ04SXxFxgZGiYnKCkqNTY3ODk6Q0RFRkdISUpTVFVWV1hZWmNkZWZnaGlqc3R1dnd4eXqCg4SFhoeIiYqSk5SVlpeYmZqio6Slpqeoqaqys7S1tre4ubrCw8TFxsfIycrS09TV1tfY2dri4+Tl5ufo6ery8/T19vf4+fr/2gAMAwEAAhEDEQA/AP1TooooAKKKKACiiigAooooAKKKKACiiigAooooAKKKKACiiigAooooAKKKKACiiigAooooAKKKKACiiigAooooAKKKKACiiigAooooAKKKKACiiigAooooAKKKzLm9t9Pt5bieVYraNXd5XfaqKv3mZqANOiuS8L/EDw144+0f8I5r2k68bfZ5qaZfRXHlbvu7jGzbfu1raxrGn6Bp1xf6nfW+mWVum+S7upViiiX/AGmb5VoA16K5vw94t0TxhYfbtC1ix16y3tF9o065W4i3L/BuRiu6q2v/ABI8KeEJUg8QeKNG0W4b7sWoajFbu3/AWagDraKx9E8QaZ4ks/telanZ6rb/APPWyuFmT/vpavTTJHGzu6oirl3c/doAtUVxEPxg8BSah9hi8beHXvfu/ZU1WDzf++d26utjmSSNHR96MNwdP46ALVFFFABRXLR+OvD8nih/Di+INLbxAq7m0lLuL7Wvy7s+Vu3/AHfm+705rqaACiue17xhovhO3W413WNP0W3b7s2o3UVuj/8AAmameF/F+heMLN7jw/rem6/bqdpn067S4QN/vKzYoA6SiiigAooooAKKKKACiiigAooooAKKKKACiiigAooooAKKKKACiiigAooooAKKKKACiiigAooooAKKKKACiiigAooooAKKKKACiiigAooooAKKKKACiiigAooooAKKKKACiiigAooooAKKKKACiiigAooooAKKKKACiiigAooooAKKKKACiiigAooooAKKKKACiiigAooooAKKKKACiiigAooooAKKKKACiiigAooooAKKKKACiiigArOubKG9t5be4iWeGRWSRHXcrK33lrRooA/Ij9lCeX9kT/go/wCKvhfds1toPiCWXTLXeNqFW/f2Df8AfP7v/gde0/8ABYn4tv4b+EHhz4eWM3/Ew8VX3m3UKfea1g+bb/wKVov++K4j/grz8N7rwf4o+HXxt8Pr9m1CxuU026nRfuyxN59o7f8AfMq/98V574Y8Uw/8FCP+ChnhTWIreSXwZ4dsbS9kgmT5UigVZZVZf9q6l2f7tAHsHxq8d6r/AME+P2D/AIf+DPDv/Et8d69E0Ul6ifPaXDr5t1Ln/nqm5Yl/+xrD/Ze/4Ji+H/ip8N9M8e/GDWNa1fxB4mhTUktIbtlMUUnzI0srbmlZ02t/s761f+C0fgbUNR8AeBPFUKSPYaXqFxZXRz8sfnojRM3/AAKJl/75r13whpum/tx/saeD9H8NeNbrwne2dvYRX13pPzT208EXlPCyq6Mu773+5toAy/hT/wAE74v2ePj/AOF/Gvw68Yao3hKFp01Lw/qU7bmVoXRWVk2rKu9k+V0/2t9fO/7YvxQ8cftX/teWv7PXgzWJNF8L2d5/Z928UrKlxKq+bcyy7fvLEu5VT/Y/2q5P4I6L4l+Df/BTPw58Mrjx3r3iXT9L1J4nmvrqVVuN9g8vzRea6/x1Ppuuxfs0f8FV9Y1LxW39maJqWsXUn9oz/cSC+ifypd393c2zd/CN9AH03F/wR5+Co8NrZNqHidtV8ra2qreorbv73leVt/4DXs37Hf7P3iL9mfwP4g8Ka34ok8UWX9sNcaTdFm3xWjxRIiNG27ymDK/yr8teK/tyfso6x44s/GHxi0r4ta1oMWm+H/tseiaYW+zS+RDu/wBasq/f/vba4H/gm1dfED4kfskfFq10HxdcW3jKbVXt9K1jU7qW4+yy/Z4tj7m3lV+8Pu0AfpxuryH9oPwp8TfG/wAP/wCzPhb4osfBPiU3cby6nfQecnkbX3ovyv8ANuKHdt/hr5L/AOGXv25f+jiNG/76l/8AkWvv3SIb230e0iu5RLdrCiTSp/FJt+dv++qAPx7/AGMdA8ReE/8Agp3d6L4w1r/hJfEti+p299q29m+0y/Z3+fc3zV+on7SPxfg+AfwT8W+O3iW5bR7TzYLdm+WWd2SKJP8Avtlr86vgb/ymQ8Yf9hDV/wD0nr64/wCCnmk3ut/sX+OF0/c32WSzup0T/nlFdRM//fP3v+AUAfAfwh8DfD/4+W938Xf2pfi7JbNq13LFpej/AG7ZNMkXyu2xFZoolb5URVX7jV+i37Gfwd+EHwz8L67qHwY8R/8ACQ+H9cnjad/ty3SxSRKybN23cv3vutXzD/wTy/ZS+Bvxw/ZbstV8S+ErHXPFH2u8stSu5riVZYmWVzF91xt/dPFXm3/BMiW48D/tsfEXwZ4UvZtS8FLa36u+7crxQXCJbzNj5d3zbd3+21AH7AUUUUAFFFFABRRRQAUUUUAFFFFABRRRQAUUUUAFFFFABRRRQAUUUUAFFFFABRRRQAUUUUAFFFFABRRRQAUUUUAFFFFABRRRQAUUUUAFFFFABRRRQAUUUUAFFFFABRRRQAUUUUAFFFFABRRRQAUUUUAFFFFABRVeW6ijO15Y1b0ZqPtlv/z3i/77FOwixRVf7Zb/APPeL/vsUfbLf/nvF/32KLDLFFV/tlv/AM94v++xR9st/wDnvF/32KLAWKKrfbbf/n4j/wC+1pgvbd/u3Ebf8DWk9NwLlFV/tUX95fzo+1Rf3l/Oub6zR/mQ7MsUVX+1R/8APRfzojmSQb0ZW9xTWIpvZjsWKKKrfbbf/n4i/wC+1roJLNFV/tlv/wA94v8AvsUfbLf/AJ7xf99inYCxRVf7Zb/894v++xR9st/+e8X/AH2KLAWKKr/bLf8A57xf99ij7Zb/APPeL/vsUWAsUVW+0R/3l/Ok+1Rf89F/77rk+sUu5XKyeioPtcP/AD0X/vul+1xf89V/76pfWKP8wuRlmiioJJkt497Oqp/fc11iJ6Kr/bLf/nvF/wB9ij7Zb/8APeL/AL7FOwFiiq/2y3/57xf99ij7Zb/894v++xRYCxRVf7Zb/wDPeL/vsUfbLf8A57xf99iiwFiiq3223/5+Iv8AvtaPttv/AM/EX/fa0gLNFV/tlv8A894v++xR9st/+e8X/fYp2A8u/aQ+B2n/ALRHwf8AEHgTUrj7GmoRK0F2ibnt5EZXR9v8XzLXkv7FX7DOmfsgDxRd/wDCQN4q1jWBFF9qay+z/Z4ot7bFXe/3mbd/wBa+phf27/duI/8AvtacbyMf8tV/76rCdaFP4wOa+IPgbRPiR4T1Lw/4j0+HVdH1CExXFrcISjr/AOyt/tfw18M6h/wSI0/Q/EFxqHw6+LvibwPFI3+rSLznVf7nmxSxM3/Aq/Qz7VD/AM9F/wC+6PtUP/PRf++6j6xR7lcp8c/s+/8ABNrwv8E/iRY/EPVfGHiDxt4zs5XljvNRl8qLc8TxOzr8zv8AK/8AE9ej/tOfsc+Af2pNHgXxLZXFjrtnE62Ot6YVW4iX+42/5ZE4+63/AI7X0GjrJHvRtyf7FTV0J3JPzfsv+CRup29nLon/AAvrxMvhSRdj6RDassTr/dZftGz/AMcr6x/Zo/Zi8M/sr+C7vw14Sl1C6t7y5+23d3qMu6Wafaibgqqqqu1furXsn263/wCfiP8A77Wn/bLf/nvF/wB9iqsIsV5T8fPhr4o+LHgtNE8KeOtQ+HmoLdx3D6xpib5WjVX3RfeX5W3L3/gr077Zb/8APeL/AL7FH2y3/wCe8X/fYosM/ObTv+CWPjLRviHceO7L9oXVrbxhcNK8mtw6RtuZGddr7pPtH8S19nfDP4W33h/4Pw+B/HHiKb4kytb3FvqOp6tF897FK7/I67n/AIW2/e/hr0v7Zb/894v++xR9st/+e8X/AH2KLAfnprX/AASL0zT9c1CX4f8AxX8SeCdEvjsutLRGm3x/88tyyxbl/wB7dX0f+y5+yL4N/ZT0O+i8OfatS1rUtn9oa1e7fOnVfuIqr8qxL/cWvfPtlv8A894v++xR9st/+e8X/fYosBYoqv8AbLf/AJ7xf99ij7Zb/wDPeL/vsUWAsUm0VU+22/8Az9x/99rT/tMX/PVf++6wnOMPiBaljIoyKg+1Rf3l/Oj7VF/eX86z+s0f5kOzLFFQpMko+Vlb/cNTV0pp7CCiqjXduhZXnjVl6o7LT/tlv/z3i/77FVYRYoqv9st/+e8X/fYo+2W//PeL/vsUWGWKKr/bLf8A57xf99ij7Zb/APPeL/vsUWAsUVX+2W//AD3i/wC+xR9st/8AnvF/32KLAWKKr/bLf/nvF/32KPtlv/z3i/77FFgLFFU/t1v/AM/cf/fa0/7XF/z1T/vqspzUPiBalmiq/wBqi/vL+dH2qL+8v51l9Zo/zIdmS07IqulzHISqurN/dzVgc1tGcZ7CDdRuqm97FGdryqre7Uz+0Lf/AJ+I/wDvsVZl7WJf3Ubqz/7Qt/8An4j/AO+hR/aFv/z8R/8AfQpC9rDuaG6jdVD+0Lf/AJ+I/wDvtaP7Qt/+fiP/AL7WmP2sS/uo3VQ/tC3/AOfiP/vtaP7Qt/8An4j/AO+1oD2sS/uo3Vn/ANoW/wDz8R/99Cl/tG3/AOe8f/fS0B7WHcu0YqkNQt/+e8f/AH0tTJNFcR/Iysv+zQUpwZaooooLCiiigAooooAKKKKACiiigAooooAKKKKACiiigAooooAKKKKACiiigD5x8c+DtF8YftAaxb6xp8OpxW/h2zlghuN22JmuJU3/AC1ZPwP8A/8AQr2H/kX/AOKq/qI/4yM8QDP/ADLdn/6US11Ofzr1oOSjGzPLspTlzROH/wCFH+Af+hYsP/Iv/wAVVTVfgl4Ej0+7lTw1Yq628ro/735Pl/3q9EwfWquq5/su+5/5YS/+gvW9n/MLlX8p5F8JfhL4P1z4Z+FNQvfD9nc3t1plvcSTTbt8rOvzv96uuPwP8Bf9CvYf+Rf/AIqn/BAf8Wf8E/8AYHt//Qa7XpRJPml7w4qPLH3Thx8D/AWefC9j/wCRf/iqzpPhj4U0PxR4ct9P0W1tYryaeKdId371Uid13fN/er0msDWjjxh4S/6+rj/0S9fGcWVJLKqlpdj0cBGP1iMo/wB40f8AhWXhr/oDw/8Aj1M/4Vl4a/6A8P8A49XXZHpRkelfyx9Zrdz6S7OQk+Gvhr/oDw/+PVrfCGzi0628R2sMXlW8eqypGi/wrtStZ/8AV1Q+FQz/AMJM3rrEv/oKV93wfWnUzKN39lmGJd6R29zzG/8AutXyj8G/hR4R1z4Z+GtQ1Dw/a3l7cWnmyTTbt8rbn+f71fV1zxA/+61fP/wF/wCSPeEv+vFP/Qnr+j8I5csreR8vXjGdSPMT/wDCj/AP/Qr2H/kX/wCKpP8AhSHgH/oV7H/yL/8AFV3O2jbXoWf8xjyr+U8T8efCjwjpev8Age3tNCs4ItQ1j7POibv3sXlSvsb5v7y12f8Awo/wFn/kWLD/AMi//FVD8Sf+Rn+HX/Yd/wDbeWu+T/V1ck+WPvERS5pe6cP/AMKP8Bf9CtY/+Rf/AIqkPwQ8Bf8AQrWP/kX/AOKruaSsWn/MVyr+U4bwb4B8PyXmvWj6VD9ns777PBD837qPykbZXUH4a+Gh/wAwqHH/AAKoPA/Or+Kv+wh/7SSuzPJ46V/Iec1q39oV9ftSPtItwjGMZfZX5HLf8Kz8Mn/mDwf+PVz/AMQPAug6X4L1W7tNMhguIYN0cqbt4avSvrXKfFH/AJELWv8Arh/7NXl0K1b2i1LjJ3Wp6rB/x7p/u15B+0xbRXnw8tLe4Tdb3Gs2EUkb/wAavcJuWvYIf9Uv0ryv9pP/AJETTP8AsO6d/wClCV/WmC2h8j5fE/w5HKv8DfAHmP8A8UvY/e/6a/8AxVL/AMKP8A/9CvYf+Rf/AIqu6cHzH5/ipuD6179n/McFl/KcN/wo/wAA/wDQr2H/AJF/+Kri9A+FHg+4+Kni7T5fD9nPZWtjYSwQvu2RNL5u9/vfxbUr2zniuB8O/wDJaPHH/YP0z/24qop2l7w5KPNH3Sf/AIUf4B/6Few/8i//ABVJ/wAKQ8A/9CvY/wDkX/4qu520bamz/mDlX8p4z8WvhJ4P0L4ZeK9QsvD9na31rplxcRzQ7t8TIvyP96ui0r4JeBJNPtJm8NWLu0ETu/735/l/3qvfG/8A5I/41/7A9x/6DXV6N/yCrL/rjF/6ClXZ8vxEWXN8JyP/AApDwD/0K9j/AORf/iqP+FIeAf8AoV7H/wAi/wDxVdzto21Fn/MXyr+U8bv/AIZ+F9H+LHgS00/Rbe2t7yDUfPhh3bJdkMWzd83+1Xqn/CtPDWNn9i2//j1cp4k/5LR8Of8Arlq//omKvU3OJN9fzx4g1mswjb+VHuZdeMZJfzHMf8Ky8Nf9AeH/AMepn/CsvDX/AEB4f/Hq67I9KMj0r8s+s1u57N2ZXwghit/D+oW8KeVFDqd1FGg/hVZTXUeLP+Rc1j/ryl/9Beuc+Eg/4lerf9hW8/8ARtdH4s/5FvWP+vKX/wBBev6e4fd8vof4UeHivjkfOnw6+D/g7VPh/wCHL678P2d1d3Gn28skz7t8rOvzv96uj/4Uf4BH/MsWH/kX/wCKq78J+fhl4R/7Blv/AOiq6zpmvvGneXvHjRS5Y+6cL/wpHwF/0K9j/wCRf/iq4zxj8KPCWn+OPAlpb6FZwWmoXV0l1Em7ZKqW+9N3zf3q9t6+9cB45/5KR8N/+vu//wDSWimpc3xBUUOX4Sf/AIUf4B/6Few/8i//ABVH/Cj/AAD/ANCvYf8AkX/4qu4wfWjB9adn/MKy/lOFT4G+AfMT/il7H/yL/wDFVxvwo+FHg/XPC93cXvh+zubhdTv7dJJt3+qiuHRE+9/Cte1p/rEx/frz74JnHg+7/wCw1qP/AKUPSs+WXvE8q5o+6Wf+FIeAf+hXsf8AyL/8VR/wpDwD/wBCvY/+Rf8A4qu520baLP8AmL5V/KeK/Ev4V+FfD9noNxpmhW9ncSa9pdu80O754nuER0+9/Etetn4aeFx/zBYf/Hq4z4xf8gbw5/2M+l/+lSV65If3eOhr8N8Q5unVoW/lZ7OBk1KUV7uxy3/CsvDX/QHh/wDHqP8AhWXhr/oDw/8Aj1dXkelGR6V+L/Wa3c9y7OX8EaFZaH8Qb+00+3W0t20+OV0T+95j16gxydvrXAaB/wAlMv8A/sGRf+jHrvvR6/oXg2bqZXFv+Znk4yXNV97sfNGkfDnw54w8cfEK41vR7fU7qHXnt455t3yL9nifb97/AGq2/wDhR3gL/oWLD/yL/wDFVJ4DB/4Sj4kf9jHL/wCk8Vdrnmv1CKfJ8R4EYqX2Thv+FH+Asf8AIsWH/kX/AOKrjfjP8KPCPh/4YeI9Q0/w/Z2d7bwo8c0O7fE3mp/tV7V0rz/4/f8AJHvFf/Xqv/o1K1inzR94ipFcsvdLP/Cj/AP/AEK9h/5F/wDiqP8AhR/gH/oV7D/yL/8AFV3GD60YPrRZ/wAxVl/KcN/wo/wF/wBCvYf+Rf8A4quM0f4UeD5Pix4m0yXw/ZtZW+n2FxBD82yJn83e/wB7+Late1ivP9A4+OHjD/sE6d/6FLRFP3veHJLmj7pZ/wCFH+Af+hXsP/Iv/wAVSf8ACkPAP/Qr2P8A5F/+KrudtG2iz/mDlX8p5r4k+DHge38P6rcReGrGCWO0uJY3TzfkZIn/ANqtT4a/D7w/d/Dvwvd3GlQzyzaZbyyO+752aJK6DxT/AMinrf8A14XH/ol6PhT/AMk28JH/AKhVv/6KSvyTxBnKnhKdv5j18BpVlye77pP/AMKy8M/9AiH/AMepv/CsfDP/AECIf/Hq62ivwD6zW7nvczPPr3wlo/h/xR4XuNPsY7SWTUNjvHu+dfJeva0IJ4ry/wAT/wDIweEP+wn/AO0nr0+Lqa/b+BqsqmEqX/m/Q8zGu/KfL/xq0ay134x3EV9aR3kUej27okn8LfaJa5b/AIQDw7/0B7X/AMe/+Lrt/ip/yWq9/wCwLb/+lEtZFezjpy9tI/PVTUqspSjze9I5/wD4QDw5/wBAe1/8f/8Ai6ZN4D8Px28rppVvvVX/AL3/AMVXR025/wCPa4/65P8A+g1wc9QVahT5fhRw3gnwZoWoeD9EuLjTIZbiS1R5Jn3b3atv/hAPDv8A0B7X/wAe/wDi6Ph1x4H8P/8AXlFXQUSnLmJw9KnKnH3fso5//hAPDn/QHtf/AB7/AOLrB8Q+D9Et9c8NW8WmQwRXF7LFOibv3q+U7/8AoVd9XMeKP+Rj8H/9f1x/6JerjORni6VOFP4ftIn/AOEA8Of9Ae1/8e/+Lo/4QDw5/wBAe1/8e/8Ai66Cio56h0/V4fyo59/AHhzy/wDkD2v/AI9/8XXrH7LlrFZ6L4qt7dPKij124SNP7q7Iq4V/9XXoH7Mp/wCJZ4v/AOw/cf8AoEVexlc/3xphqNOniabhHl3PcqKKK+sPrgooooAKKKKACiiigAooooAKKKKACiiigAooooAKKKKACiiigApD0paQ9KAPCdV/5OM8Qf8AYuWf/pRLXVHrXLar/wAnEeIP+xcs/wD0olrqT1r2obR9Dzo/FISquqf8gy+/64S/+gPVh3SOPe77UrJbWLHXPDdxd6Zd2t9aSQT7Li0mWWJ9qv8AxJVoZh/A/wD5I/4K/wCwPb/+g12lcX8D/wDkj/gr/sD2/wD6DW4njPQpNc/sRNb03+29u/8Asz7XF9o/79bt1EvikZ09om0Olc5rH/I3+Ev+vm4/9EvVnxL440LwX/Y/9u6rDpX9rahHpWneezf6XdS/6qJf9pqrax/yN/hL/r5uP/RL18Nxf/yJ6nyPWwH8aP8A28d/RRRX8rHvMjf/AFVUvhV/zNH/AGF5v/QUq6/+qql8Kv8AmaP+wvN/6ClfoHBX/I0j/hkc+I/gnaXP+qm/3WrwD4D/APJH/Cv/AF4p/wChPXv9z/qpv91q8A+A/wDyR/wr/wBeKf8AoT1/SuE+GXyPmK/8SJ31FFVdS1iy0uOKW9u7eximlS3je4nWLfK/3EXd/E39yusRxnxJ/wCRk+HP/Yd/9t5a9AT7grz/AOJP/IyfDn/sO/8AtvLXb3V5b6fBLcXFxHbW8a75Jpm2oi/32eqn8MTKPxyJqcOlZeg+J9H8UWb3GiarY6vbq2x5tPmWVEb/AHlqHSPG2g654k13w5Zaxb3mu6Glu+qafCzebbeau+Ld/vr81QzUf4F/5Cviv/sIf+0krs2+7XGeBf8AkK+K/wDsIf8AtJK7Nvu1/Hec/wDIyr/4pfmfW/Yj/hX5AegrlPih/wAiDrf/AFw/9mrqz0Fcp8UP+RB1v/rh/wCzV5tH4/mXHdHqcH3E+leWftKf8iPpn/Yd03/0oSvU4PuJ9K8s/aU/5EfTP+w7pv8A6UJX9c4L4YfI+ar/AAyL7/6x/wDeptD/AOsf/eor3jkHDqa4Dw9/yWnxx/2D9L/9r12g1ix/tU6Z9rt/7Q8n7R9k89fN8r+/s+/t/wBquL8Pf8lp8cf9g/S//a9VD4ZGU/iid7RWbr3ifR/C9mlxreq2OkW7NsSbULhYU3f3Nz1atr+3uLNLu3uI57dk81JoZdyOv9/ctSanJ/G7/kjvjb/sD3H/AKDXVaT/AMgmy/64x/8AoKV5x488Z6F8Rf2ffFuveGtVt9a0S40q6SC+tHZopdm9H+9/tLXo+k/8gmy/64x/+gpVf8uzL7ZaorKs/FWiahJepaaxp9y9j/x9JDdRN9n/AOuu1vl/4FVHwf8AEXwp8QI7uXwz4j0nxClq2yR9Lu4rjym/2tj/AC1JqZXiT/ktXw5/65av/wCiYq9TSvK/EX/Javh1/wBcdW/9ExV6mnWv518Qv+RhH/DH8z18u+GX+L9CSiiivys9kofCb/kF6t/2Fbz/ANG10Xiz/kW9Y/69Jf8A0Fq534Tf8gvVv+wref8Ao2ui8Wf8i3rH/XpL/wCgtX9R8P8A/Ivof4UeJit5Hknwn/5Jj4S/7Blv/wCiq6z+GuT+E/8AyTHwl/2DLf8A9FV1n8Nfey+KR41P+HEQ9BXBeOP+SkfDf/r7v/8A0lrs9Q1ix0t7RL27tbN7qVbeBJrhV82X+4u77zf7NcZ44/5KR8N/+vu//wDSWin8YVNjvKKr3l/b6fZy3d3cQ21pGu+SaaVVRF/2naquieJ9K8Uaf9r0TVrPVbTfs86yuFli/wC+lqTQ1E/1q/79eefBT/kT7v8A7DWo/wDpQ9dTofjXQvEHiDW9H0zVbe+1jRZYotRtIy/m2bSruRW/3l+euW+Cn/In3f8A2GtR/wDSh6cfgkKX8SJ6G1C1mSeJNKj1hNKfVbNdVmXeli8y/aHX+/5X36zLH4l+EdQ8WXHhm38UaPc+I4f9ZpEN9E1xF/2y3b6Q2Ynxk/5A/h3/ALGfS/8A0qSvXD9+vI/jJ/yB/Dv/AGM+l/8ApUleuH79fhHiN/Fof4WengPjl8haKKK/Fj3TJ0D/AJKbe/8AYOi/9Deu6b+hrgvD3/JTb3/sHRf+hPXev94f7pr+jeDP+RXH1f5nm4z+L/26eF+Bv+Rs+I//AGMbf+k8Vdoe9cX4G/5Gz4j/APYxt/6TxV2h71+oR+A+dpja4D4//wDJH/Ff/Xqv/o1K7e/v7fSrO4u7u4hs7SNfNnmml2xRL/fZm+7XB/HO5t7z4KeJbi3ljnt5rFJY5oW3JKrypsdXrVfFEVT4ZHo9FFY2leM9B1zULux0zXtNvr21/wBfb2l3FLLF/vKrblqSjYHU157oP/JcPGP/AGCdO/8AQpa6jUfHHh/S/FOkeGr3VYbbxBq0UkunafKzebcxxf61l/3a5fQv+S2+Lv8AsF6d/wChS1UPhkTL44noFFZ+seJNK8Px276rqdnpiSN5Ub3cyw+a39xd33qyvEnxO8JeD9QstP13xRo+h319/wAesGoX0VvLcf7qs3zVJqaPir/kUta/68Lj/wBEvU/wm/5Jn4S/7BVv/wCilqDxW/meEta2/wDPjcf+inqf4Tf8kz8Jf9gq3/8ARS1+P+In+6Uv8R6OA/iSOrooor+fz3zmPE//ACMHhH/sJ/8AtF69Pi6mvMPE/wDyMHhH/sJ/+0Xr0+Lqa/deBP8AdKn+L9DzcZ9k+bfiv/yWq8/7Adv/AOlEtZI61rfFf/ktV5/2A7f/ANKJayR1r2Mb/HkfC0/il/ikA6Gm3H/Hrcf9cn/9Bpw6Gm3H/Hrcf9cn/wDQa88mr8Bg/Dr/AJEfw/8A9eUVdBXP/Dr/AJEfw/8A9eUVdBVy+Izwn8GP+EK5jxR/yMfg/wD6/rj/ANEvXT1zHij/AJGPwf8A9f1x/wCiXoRGL+D/ALeR09FFFQdox/8AV16L+zN/yDfF/wD2H5//AECOvOn/ANXXon7M3/Hh4v8A+w/cf+gRV7mWfxhUv97p/wDbx7fRRRX1h9SFFFFABRRRQAUUUUAFFFFABRRRQAUUUUAFFFFABRRRQAUUmRS0AFFFFAHhOqf8nD+IP+xcs/8A0omr5e/aq+L/AO0N8O/jZ4X0LwDb6G3h/wAVFbLSn1G3iZ3ulXdLFK7N8nPzrX1Fqv8AycR4g/7Fyz/9KJa19V8PaVrE9jcX2n295cafL9otJpolZ7eX++v91q9fl54x+Rw0/jkfFF1qH7dH2e483T/BfleU+/5oPu7f9+vRv+Cef/Jk3hX7v+q1T7n/AF8XFeseG/jhoviz4y+Lvhpb6feR6t4dsorm6uJtn2aVZdmxF/j/AIq7CHw9pnhfwvdafo+n2+lafHDcPHb2kSxRJvV3f5U/2qUY+9zCnL3Th/BN/caX+zXpV7Zf8ftr4X+0Qf8AXVLd3T/x6vkD4PfsBeD/AI0fAPw747TxXrlt8Qtet/7VfxDDdbkjndn3xbevyt8rNu3V9s/BZEk+DXgxXTcraPboyf8AbGq66P4S/Zy+F+vXei6L/Zvh/SYJ9Yn0/T2+/sXzZfKVn+Vm206keeUrkUZe5E+CvEPxi8ZyeJ/hJ8Gvinbyf8LC8M/EPRriDU0XdFqlhudEl3f3vnX5/wCP/fRq/RjWf+Ru8H/9fNx/6JevONI8L/Dz9qDQPh18UNQ8OM13biLVdFmu28m5tW83em7yn+b5l3bPmSvRtZ48X+Ef+vmf/wBEvXxXFkeTJ6/yPYwX8WP/AG8d4OuKQ8VFNvjifZ97Hy18DeEvjx+1/wCPtHfWPDXgTwZqGjtdz20Fw5ZfN8qVondf3/zLuVvmr+dsuymrmMJTjOMeX+Z2PVlLkPvqThOKz/hX9zxN/wBhif8A9BSvgvwL+2t8cPDclvr/AMSvhzpP/CBLrL6DqmpaPI0d1pc6y+W/mxNK/wB1u21d3975lr70+FQSSPxK6HcraxOyf98pX33D2T4nKs0j7Xl96MvhdzCpUjOidzcf8e7/AO61fPPwb+1/8KK8P/YfLW+/sx/I877nm/Ps3f7O7bX0Nc/8ez/7rV4D8Bv+SP8AhT/rxT/0J6/d8J/Dl8j52p/FifFPg340ftl+PPGHjDwvpNl4TbWPCs1va6pHcQ28XlNKrtFtZn+ZWVHb5az/AIs3P7T1xefDxPi3a+GYPCn/AAmujfPpbQeb5v2j919xt+379ffmvPovw70jxX4tXSoYJo7SXUtRmtYlW4uVghd/nb+Jtq7F3VifDbxl4f8A2iPhf4c8Wpom7StQ2ahaQapBFLLFLFK6K/8Ad3Ky/erT2f2eYvmH/Ewf8VZ8PP8AsPP/AOk8teLft2aR/wAJxb/CLwJfaxNo3hzxV4ti03VZoH2vLFtd0i/4E3/j2yvaviSP+Ko+HP8A2Hf/AG3lrY8cfDjw58S9KtNP8UaPDrFpa3Ud7BDJu/czr92VXT7rLvrpqR54xMafxSPjjxx+xpr37L92nxI+AGsao1xpa+bqfhTUZvOi1G3T76r93c23+Bvn/uV1H7FHxX0/42fHH43eNtPtbixt9StdAzbXKfPFJFbyrLF/wFlZd1e7/Eb46aP8L/iB8OfBl9Y31zqHja6ntLG5ttvkxPF5W5pdzb/+Wq/drV8B/Bjwf8M/EHiXW/DWiQ6RqHiKVLjUXhZtksqb337PuJ95vu/36w5dfdNeb3feOh8Ec6z4r/7CH/tJK7MjpXGeCP8AkM+Kv+wh/wC0krz/APav+KHjL4R/CuHXfBFvYanrkmq21kLbUhuWVZW8rYqKy7m3slfyhjsJLGZvUw8filJ/mfUylywj/hX5HuCda5T4nn/ig9b/AOuH/s1fFPjv4+/thfDfw3d+IPEfgTwdY6TayxRT3GWZIvNdI1Zttx93cy/N/DXoHgT9o7xx4vuPFXw3+Kvg+Hwd41t9F/ta0fT5fNtby13ojMvzv83/AAJv467f9WsVSj9ZhOMox/ldwhVj7SMT7th/1Sf7teWftKf8iPpn/Yd03/0oSvU4f9Un+7Xln7Sn/Ij6Z/2HdN/9KEr+jMFtD5Hztf4ZHnf7TesfEPw38J9b1X4XxWMviixlS48m9RWR4E3vLtRvvNtr5M+HfxO/bT+KHgvR/Fvh+y8GyaTqkXm2rzJBG7ru2fdZ/l+7X6B3NrFcRXEUqrPFNvR0dPkda8s+Lnxc8L/sveC/D9xc6DMuj3mpwaLa2OixRRrFLLvdfk+RVX5K9eUPtcxhGR83/s+TfFiT9ti4b4xxaXH4l/4Qd/sqaU0XlfZ/tXy7tv8AFv319T+Gf+SyeOP+wfpf/tWuu/4R/TBrv9sf2fa/2wsP2f7b5S/aPK+/5W7723/ZrkvDv/JafHH/AGD9L/8Aa9bU48kZGNSXPKJ80/Fr4JaL+05+2hrHhfx3qF5/wj/h/wAKWt7p2jWd15RkaWVllm/4C/3v+A1ympaB4p/4Jz64l9a6hqXi/wCBWsS/Z7uC5/e3Giyv8iSrt+Xb/wB8o/3fv7a+1bn4b+Grzx5aeM7jR7VvFdnavZQap8y3KW/z/uv9pfmauKT4o+Efix8TPHvwZ1DRJrx9J0+KXVPtaK1pcxSqnyL/AB/x1j7M35zxr9mqVZ/+Cd8sqtuWTTNUYP8A7PnS17b8fNf1Pwv+zP421XR5Wi1Oz8M3FxBND9+JvK+//wAB+9UXij4eeH/hX+zf4o8LeF7L+zdEsdHuvIt/NaTyt+93+Zvn+9XoTaVaeIPCaaZqFot3Y3lilvPDN9yWJ4tjpW3L+65Tn/5eH54av+xJF4b+Dfw88QfC+78RXOt+LEtNP8UyWc3mpc6deQ77iVk/gVa9I/4UN4X/AGU/2sPgz/wrf7Vpll4sfUtK1XTpruW4S4iih3JL83+0N3/AK+lfFmu+Gv2X/gndalaaVcL4U8L2ieXp1lL50qRbtmxWlb/a/iepdH8H+F/ihrHgn4rPZXn9sWumO+ledcfJaRTxb3/dL8vm7X2b65vZxOjmLfiDj40fDr/rhqn/AKKir1QDpXlniL/ktHw6/wCuOrf+ioq7zxDc3Vp4e1O409Y21C3tpXgWY7UeRVbbu/2d1fgfH69pmdOP92J6eXfBL/EbdBFfn34K/aA/bE+Jng/TPFHh/wAA+ELvR9QiaW3mfcvmrudd21rj/ZrT+E37aPxdjfwlqXxT8CaTZeCvEGp/2NDrujsyvZ3XmvFslVpX2fMu3nbXzdThbExUnCcZSj9mMtT0vbxPuH4R/wDIM1X/ALCt5/6NrpPFf/Itax/15y/+gtXN/CX/AJBus/8AYWvP/RtdJ4r/AORa1j/rzl/9Bav2/h//AJF9D0PKxG8jw7wf/ap+BWlf2J5K63/YKf2d5/8AqvtHk/ut/wDs7tm6viz4ffGz9sj4mar4u0/QrLwm914X1D+ytThuYLeLyp/n+RdzfN9z71fc/wAKD/xbLwj/ANgy3/8ARVR+LtT0H4PeD/GHjP8AsmOCG1hn1jVP7OiVZbxoot7u/wDel2r/AB19tUjzM8ijL3Ynwv42uf2kLj4kfBJPjRa+HYPDn/Cd6d9lfSTF5v2r59m7Y33du+vtjxz/AMlH+G//AF93/wD6S1b8CeIfD/xw+H/hTxgmlK1leRRarp0OoRI0ts38D/7Mv+2lV/HP/JSfhv8A9fd//wCktXRjyyHXl7p4b+3B4fl+Ifij4KfDnUNQuNK8JeKNeuItVuLU7WfyoUaKLd/tfNXnfj/9k/xL+yXe/wDCzfgLqGoXcOnpnWPB17I0q3lv/Ft/v7V+bb99fvJ/dr7O8b/Dfw78SbbT7fxNo9vq0NjdJqFl527fb3CfclVl+61cv48+Omj/AA++KHw/8A31jfXWq+MmnSxuYdv2aLyvv+bv+f8A75rKcY/FI1jI8P8A2IPifpnxk+Knxw8ZaVDNBp+rX2lyxw3I2vEy2u1l/wCAsrV778Exnwbcf9hrUv8A0rerXw7+DPg/4Varrt74U0SPSJteukur7yXbZLL8/wA+37ifeb7tVfgh/wAifcf9hrUv/Sh62px5KRlP+JE+IPCX7NK/GTwN8Vvi7FqetT/GOx8R6pLo8lhcN/o09tL+6t1X+Pd8if7rpVf4qfsp6L8G/wBmbRPjBaNqmkfGDTZrDVb7UJruXzZbqe4RZYni+6vzS/w/3P8Abr788JfDfw18O5PEFx4f0mPTJdcvn1XUfJlZvtE7/fl2M+xWf/Z215r4U1zwJ+3B8L/t17pOqLoVjruz7FczeW8s9s25Xbym+aLc/wB2ub2cTXmOy+LUz3HhrwpM6bXm8R6Q7p/cb7QlevN1FeSfGL/kDeHP+xn0v/0qSvXT94V+JeIi/e0P8L/Q78B8Uv8At0MYJo6r6V8PeKPjj+0/q/xU8e6F4C8HeFtc0Tw3qv2FJrzdv2svmxKzeenzeUybv9+ua079rX9p/wAKap4rfxR8MfDOq2XhTyrjXLLTJmjureCVPNWVf9Ifcu3d82xvuV8XDhbFTj7tWO1+Xm1949X6xE+7PD//ACU2/wD+wdF/6G9ehdS9eOfCXxdY/EDWbHxLpbN/Z+q6BbX1sH+9slbd83+1XsicGv1rhOhPC5bGnPfml+ZyY1/vf+3UeD+Ax/xVnxH/AOxjf/0nir5F+KHxf/ai0/8AaU1X4deD7Tw3Pb3EM+raL9thi+ewRtm55Xb7y/xLX114E/5Gv4kf9jHL/wCk8VdK/h7TJ9Zt9Veyt21WO3e3gvniTzYonb50Rvv7f9mv0vl5oHg0/cPz0+Nd5+2LJ8H/ABqnjDT/AAjB4XbR7j+1XszB5qW+397s2t97bX06x/4wn0H/ALE/S/8A0Tb11nwx+Lvhz4/2/jvSrfR5vsnh/VZfD2o2+prE0Vyyff2p/FF/v1Z+OVnb6X8E/Edpb28draW9jFFBDCu1IlSWJERV/u06cffjIKkvdkc1+2X4h1bwl+zH8Q9Q0SWSHUIdP8pJI22vGruiSuv+6rNXzzN/wTj0rS/AWieJfhV4z1jRfiFa2UV7a6q93ut7+VlR/n2f6pWb/gP9/dX3B4i8PaZ4s0K+0fWLSO+0q+he3urWZfklif76NXnXxO+IHhT9kv4JNrH9j3n/AAi+hrb2sGl6Y254leXYiL5rfdXd/fqZRU/ekawkfJfwp+PWrfGT9rz4P6V4t0qTRfHvhOx1vStftXi2o8vk/LKn+8q/5SvsnQf+S2eMP+wPpv8A6FLS2vwl8E6/8QNH+Kf9hRweLlsUij1BGZZfKlh+46p8jfK+3c9Hh7n42eMf+wPpv/octXRjywkZVPiifNvxM+Cmj/tMftoeI/C/j671BvD/AId8KWd1penWczW6vJO372X/AICx/wDHErj/AIZfsF6f8SPD3j6X4tv4gu9a0u6n0Xw1qd9dPC8WnQRbLeZV+7Lu/wBr+5X20/w38OSfECLx2+lRnxXHY/2UmqJKyv8AZ92/ymXdsZd3+xXHW/xd8P8AxM+KHxA+Dj2mqQXui6bF/aN0kqxxSxTwp/qnVtyNtl+/WPs19o25pHG/smeJNT8WfsYeHLvVZZLu7XR7y18923NLFE0sUTf98qle/fCf/kmXhH/sFW//AKKSuX0zwFo/wz+Ej+F/D9o1po+l6VcW9rCZfMZF8p/vM33m/wBquo+E/wDyTLwj/wBgq3/9FJX5X4if7lT/AMR3YH+LI6ZA/mdak75r5X/aV+MXxq8J/Fzw14S+FHh/Q9ffVtKkvnTVd29Gil2P/wAtU2r8yV5HqP7RP7XnhvxpoXh/Uvh54O/tPWIp5dOgyy/afKRXlRZPtG3dtbdtr8rw3DVfE0ozjVj73ve9L3j2JVYxPt3xN/yH/Cv/AGE//aT16fH0WvlX4FfHV/j3oWgane6LJ4c8QaP4jl0nV9Lc7vs11FC+9Vb+781fVua/UOD8NVwdGvh6vxRl+hxYqXNynzV8V/8Aktl9/wBgS3/9KJaya1/ir/yW2+/7Alv/AOlEtYs0yRxvK7qsSpvd3b5EWu/Hf7zI+Eh8VT/E/wAx9Nuf+Pa4/wCuT/8AoNefaF+0B8PPFF5rFpo/i2x1KXSbV72++y7pUit0ZEeXcqfOq71+7XV6J4j03xf4ci1jR72PUtNvIneC6hb5XX50rklTnD44lVoyjEg+HX/IjeH/APryirfrA+HX/IjaB/15RUzxx8QPDvw30j+0vEur2ui2W7Yj3Uu3e39xU++1RyznLkiZ4P8Ahx/wo6LpXMeKP+Rk8H/9f1x/6JeqWm/GTwbqlv4auLTXYWi8Qs66Q7xsv2xkfY6L8n3qu+KP+Rh8Jf8AX9cf+iXo5JQn7xjjf4f/AG9E6f8ACimVxWpfG3wRpfje38JXHiWxXxLdXCW8enoWZvNf7qNt+7/wKiMJz+A7lGUjtn/1dehfsyf8gvxh/wBjBcf+gR15F4c8b6F40uNVi0fUob640mb7NfQx7leGT+6ytXr37Mv/AB4+MP8AsYLj/wBAir2csXJWIo/73T+Z7fRRRX1h9UFFJkUZFAFaSRbeNnd1RFGS7/w1meH/ABFpniTT0vdK1C11WyZmRLmymWaJ2X73zL8teB/toS/G+38B6f8A8KXt7O8u2lnTWEvREzra+U33fMb/AHvufP8Adr4K/ZBl/bH0T4KafZfCzQtJl8Hrd3DwDVo4IrjzPN/e/wCtdW+9QB+t+n+ItK1DULuwt9TtbnUrPZ9ptIZlea33fd3r95c/7Vb9fEf7GPwC+MXhv4yePfix8Y5dNg8ReJrKPTxp+mSo3yoyfO/lfKu1YkVfmZvv19uUAFFFFABRRRQAUUUUAcN8WfiHafCr4Z+I/F+pW9zd2Wh2j3skNkqtK6p/Cu75d1fmr4Q/4K3Wmn/HPxvrviC08Val8Or62gj0LQY7e182xlRU81n+ZfvfN/G33q/VieCK4jeKVFaFlw6ONystfnJ8Yfj7o/7PH7Tnjqbw9+zLqnifVbwWtve+IYLicW95H5MTp5UX2eWNP7vy/e2UAQ2P/BQ/W/2kP2g/hF4c+EWj+JNI0xdTZvE0OoWsDxXNm2zdu279qqqytv3L9+v0sr4G/Z1/4KD6h8WPjRpXgKL4H3nhC7vN8t7O91te2g2u3mtF9nRmXcqr/wACr71kfy48tQA3cPWvPfir4+X4fpot24X7LcajFDc7/wCCNlf5v+Attau0l1O3iTf5qf8AfdeDftg3MVx8PrBklVv9LX/0Fq7sHh3VrRpS+0exlODeMxtPDzWknY+hIZUuI0lU7hU2a8J/Zj+Ikvi/wl9iuJfMv7DbDIH+9t52t/3z/wCg17jn94ayxNCWGqypS+yc+PwdTAYmeFq7xPEtVP8AxkT4gP8A1Lln/wClEtdM5yM1zGqf8nEeIP8AsXLP/wBKJq+Uf2ufF/7QvhP44eD9H8BeKNP0zw14ulTTdOSeGFvKukXc3ms8TOu77613c3JGPyPApx55SPdPBnwJl8H/ALRHxA+KMutw3Np4m0+C2TTPJZXtvK2fO0u75vuf3a9D03xdonjTwfcax4f1Wz1zR7iGdI77Tp1uIpdm9H2sn+0uyvjm6+Hv7b32O4EvxD8KvF5T7/li+7t/6969E/4J6f8AJk3hX/rlqn/pRPUxl73KE4+6e2/BD/kj/gr/ALA9v/6DV34n+Em+IPw78UeF4bhbGXWNMuNPS5eLzUi82J037f4tu6sH4Yw3snwD8OW+lXEdnqcmgxJazTL8kVx5X7p3/wBlW218W/DjWv2yfiZqni3TLLx3odpdeFdV/snUUvYYFzLt3bl2xfMu2rqS5JSIox0ifZXww0XSf2d/hR4E8G694j0/zrNYtCtruY/Z0v7h2fZFErt95/7tdbrI/wCKw8Jf9fNx/wCiXr4A+Jfhn9ojQ/HPwXl+MHivRdc8ON8QtLSC30tYllS4875H+SJPl276/QHWznxh4P8A+vm4/wDRL18XxdL/AIRq/wAj1sF/Gj8ztpk8yN1f7jLtr4E8M6T+1L+y1BqHgfwZ4M0f4g+DVuZ5dE1B5VVrZZZWfa6+aj/ebO1v++q+/Jd3lNs+/j5a/Ov4UfsmePf2g9FuvG/ir42+LNG1261S8t59KsiyrYPFO0XlP+9Ta3y7tqqvyulfivDc6dKlWniJR9l7vxRcve6bHqVfI7/Tv2WviVrX7LHjrwv4gvtNuPH/AI514azqW+Tbb22+aB2VWRfvbYv4fl+evsP4Rr5SeJov7msSJ/5Ciryj9nL9nq7/AGfLDXYrnxvrnjf+1JIpVk1dtzW/lK6bV+dvvb//AByvXvhZz/wlH/YYn/8AQUr6bKcZLEZ17OEuaOr+Hl3S/wAjCUeWidpc/wDHvL/utXgXwG/5I/4U/wCvBP8A0N69+uP9RJ9Gr5y+Ek1xH8AtFmtPmu49HleBP+mqLLs/8e21+3Yb4JHgVf4sSP4hfETwD4ktvEPw0l+IHh3TPFWsafcaamnTX0X2iJpYniT91u3bvn37Pv1n/DHS9H/ZW+Cfgrwp4l12GdbW4j0WDUEtmVLueWV/KXb8+3du218ofsz/ALE3w0/aF/Zr0zxbrtxqVz431yW7uL3Xob1vNtrpZZU2eV91tuxG+b+/XLeL/iF47+G+oeB/gV8UPO1S90/xrol74d8TomU1Gxin2Dcx/iXcn+3/AAv/AHq09p9qRpy/ZPvr4kn/AIqj4c/9h3/23lrsNY1vT/DejXWp6te2+maZaxebPd3UqxRRL/fdm+VK474mH/irPh5/2Hn/APSeWvEf28dEsvGkfwf8Ja9qFxpnhLXvGMVlqrwnbvXa7RI7/wC03/xX8FdNSXJGJhT+KR0nirwf4a/ac+Knwq+IHg/4gaLqVp4B1Ce4nttOlW6e483yvk3K37r/AFX8Sfx17No/j/Qdc8Wa74WsdQW41vQUgfVLVEbfb+au+L5v9pa+Qvij+xLdfBOeL4kfs9XF1oPijRV82fw7NM0kWrQL9+L5m+9t/g/j/wBl60f2G/ixb/HD40/GrxnFZSaW19DoMU9jJ9+CeK3lilX/AHdytXKpa8sjbofXHgf/AJCnij/sIf8AtJK4X9rL4Qax8aPhR/ZXhjUI7HxPpuoW+s6bJJ9x54G3IrV3XgbjVPFf/YQ/9pJXk37breKx8EHi8GaxNoNzearY2V9qsB2mzs5ZfKlm3L91fmTd/s1/L8+b+35eylyy9p9r1PqKnw/9ur8jwLxov7XX7QnheX4b+I/AWh+E9J1LZb6r4jSVdssaMjMyr5r/AHtv3VSvavHXwR1i0+KWn+MxcWreGvD/AIGfw7Hvlb7VLOzJ8zLt+7t/2q89t/8Agm3rAjPm/H3xu8v8ZQsqO3/f2vpXWPDj+C/gf/YT6hcaq2m6ZFaPez/6242bE3P/ALTV72ZZhSw3JHByjb3rxUXH4t5amGHi/aR5/I9ztf8AUJ9K8t/aW/5ETTP+w7p3/pQlepWv/Hun0ry39pb/AJETTP8AsO6d/wClCV+3YPaHyPExHwyLGpX9vYW93d3dxHa28KPLPPNLtSJU++7M/wB1a+bf2k9P8CftKfCfT9Q0/wCJvhvTPDnhnXbfVbvW0mW6t08renlMyv8AKzb6f/wUNml/4Zz1C0e9ksdPvtd02y1GdG2+Vay3H73/AID9yvMvGf7AnhrTvi74C0zwpompL8LtS8yTxZZRX7tbySQJvtGl3Pv+Zmb7texKUvhMIn174F+I/hT4l6M+p+FPEGn+I9PWXynn06ZZFRv7rf3WrG8O/wDJaPHH/YP0v/2vXgHwW+GWhfAv9tjxR4S8E27WPhrVPBsWq3WmJKzJBOlw8SOu/wDvL/6G9e/+GefjJ44/7B+l/wDtWtqUueMjKp8UTZ8Y/Erwl8PktG8UeJdH8OLeS+VA+qX8Vv5rf3V3N89eDpa+Afgd+1B4t8d+KPib4d02+8aafa29pol1L5UsSJsRJfN3bWVtn91a5Pxx8F/Cn7Qn7cHiXRPiBbyarpmj+D7O40rS/OaJdrSuksvy/wB1v/Q65j4V/sE6FqnhP4gf8LW0fUL7U7e6uNN0DU9Qum82DS4ItlrLFsbb93+9/crmlKU5G/uH1x8apluPg14zmRlZG0e4dHRt2/5a67Rv3ej2P/XvF/6DXy18AtY1DXP+CeVrcahLJPcLoN5bxyP99reJ5Uib/vla9X/aH1XU9H/Zi8d32jzSQanbeF7iWOaH76N5X31/4DXTzfuuY5ftmV8YLzwZ+0Z8J/HfgTQfiB4fW4+yOuo3cN3FdfYFRt7vKqt8q/JW1+z78QvAniDwPpXhzwl410fxfceH9Nt7W6l0uXc/yLs83yvvKrba+O9V/Yi0e4+B/wALNY+Fmn6k2sa4lhb+I7yyvf8Aj80y5iR7p5VZtu1fl+5XoOt/A3wl+zv+158DJvh1YtoKeIpdR07VNOjnZori3it96Stu/wC+v+AVy80ubmOnQ+nPEXPxp+HX/XHVv/RMVd/rOlw+IND1DTJnZIry3ktGdPvKsi7f/Zq4DxDx8aPh1/1w1T/0VFXf6497H4f1NtKTfqa2sr2qP/FLsbZ/49tr8H46/wCRvT5f5Y/mell38KX+L9D4Q8G2/wC1v+zp4bX4deHPA+h+ONE03fBpHiRyqeVEzOy7kMqfd3fdZfl/2q7rQv2UPHX/AAzRovgfVr3T7rxPeeKo/EeuXE0v7qM/afNlWLYvzN8q/wCz8715b8Fv2OvGnx4+HemeOPFHxx8X2mtax5st1aWcjbbaVZXiaJ/3v3lZPmXau37tfX37O3wKuPgJ4X1LSLnxlq/jV7y7+0i81c7pYvlRPKX52+X5d1XmuMhhqcnSnH2sWpStFrma/vbf5nZTjzHqfwn/AOQbq/8A2Fbz/wBGmui8Wf8AItax/wBecv8A6C1c38JP+QZqv/YVvP8A0bXSeLP+Ra1f/rzl/wDQGr9F4fd8voPyOHFfFI8i+FbpH8LvCjuyqi6Zb73f/rlVD4s6JZfEz4YeK/CkWt2NjLrmmT6al08qyJH5sTpu27/m27qg8NeG4vGPwC0/QZbiS2h1Tw7/AGe80P34llt/K3r/ALS7q/OOD9i/wj8I/HH/AAi/xr1XxBpOjahNs0bxtpV0q6ZP/wBMp1ZH8iX/AHn219vWlyuR5tD4Yn3x+yzrfhrTPhXZeCtE8QQ61ceC5W8MX135X2fzbqD7+xWf5l+aup8c/wDJSPhv/wBfd/8A+ktfE/7Gn7Gng3VPGnivxWmt641x4F8fXVlpaRXKNFcR2zo8TS/L827+LbX2r45/5KR8N/8Ar7v/AP0lpUOYzrHcT39vZbPtdxDBu+550qrv/wC+q+cP2nNE8NaX48+HXxm17xbb6RoXw/luPtVpDD9qluftLJEu3a3y/N/stUX7cn7MGsftIeD9Fl8P6ktnr3huWe4g0+ZvKivllVNy+b/yyb918rfcr4O+IvwL+Flh+z/4t1iy1DxR4e+Jvh+W1i1Hwd4huV823ZriKJ3VdiebF8/yutZVJSNYRP2C07UrfUEWW0uI50+R/wBzKrbN9cb8E/8AkT7r/sNal/6UPXJ/sz/sv+HP2btM1OHw5qerXyas1vLP/acqy7GRP4Nq/wC1XV/BL/kULj/sNal/6UPXZH4DKX8U6651jT5I5ov7Qs0+V0/1y/8AxVfP37JOh+HfgfZeKPheviq317WtLvn1q7uUt/s8KR3n+qRHZn3t+6avkn4t/sY6V8Jvirqeu/EW48Rah8L9Yu5bhPEvh47W0WWWV323UW1/3Xzf61aufCv9hr4Y/EH4+eOvD+n+K9av/DWk6VpepadqlldxTPceeru+5tu1l+SuDmlzfCa8seU+/PjD+80fw5/2M+l/+lSV61/DXkfxbhS38N+F7dPmSHxJpESb/wDYuEr1z+GvxTxD/i0PRndl3xS+R8PeMPCP7QH7Pnxb8ca78KfDmm/EHwv4u1L+1bjTrxtstndOu1v+WqNt/wDZdlbXwf8Ag18YPEEfxf8AHHxIi03S/FnjTRf7G07RIJf3VpGsMqL5rLv/AL3+0/3/AO9XH6l+z18QP2kPjp8U5df+KviDwjp/h/VorLTdH0p2VfssqI8Uo/eIu1l/2fnbfXsn7Pv7Il38C/G9zr938TfEvjNZrSS0/s/VzuiTeyPv++3zfL/4/XPi8VSo4FKc4+15Y/Zd3s0uY9KMXzHf/sz+ALj4YaJ4a8K6hLHJqGj+GrOynkjfcrSKz79v+zur3xBjf9K8/wDD/wDyU2//AOwZH/6MevQA2RX2XC+JniMvjXqfFKUvzOXFfxPkeFeBOfFfxI/7GKT/ANJ4q2tB8Z6J4kuNWi0rVrfU5dHu2stRSGXd9mnT53ib+621qxPAnHij4k/9jG3/AKTxV8LeJP2kPCPwr8P/ALVHg+912bSvGeteI9Xl0qKG3lZ3823iiX96v3PmVkr9JcuSmeJTjzo9y/Zj8QfC/wCGfjz4h+H7T4t+G/Euu+LPE0+sR6fbN5bxM+//AEdXZnWVv92vZ/j/AP8AJGvFX/Xqv/o1K+QfFv7IPws8J/sRt4w0/TFtvFem+GoNbg8TxSyrLLdeSkn97ZtZn2ba+mfFGsXuu/slW2p6m+7U7zw5YXF07/8APV4Ynf8A8eaijzc0YjrfDI9Q8T+LNH8FeH7jW/EGp2+kaPa7PPvrttsUW9tibm/3mrx/9svw14f+IH7Peq6Pr3jXS/A+k31xbuNb1Rd0SbJUlVEXcjszf7NVv2+nRP2RviA7fdWK3f8A8mIq+dvE3j34ZftoftEfBrwfZaw2veEdL0u8vdR094pbdZbpYU2xfPs3fc/g/uVMpfZNIR+0faHwk+JXg/4ieF4H8JeKNL8S29jbxWs81jLu8plXb8y/eXft/iqDQP8AkuHjD/sFab/6FLXz/o/wp8Nfs/8A7bvgLTPh/p66DpXirw5qT6xpVtKzRfuPmil2s2V+Yfzr6A0D/ktnjD/sD6d/6HLW9P4ZGVT4onT23jPRNR8Uah4ct9Wt59esYYri70tJf3sUcv8AqnZf7rV826PrXwy+E/7XnxD8Uax8WvDcWseJre209/D00vlS2csSon72Xds3Ns+58v364/xb+0B4N+Af7a/xVvvFusf2Ul94U0uKxfyWm3you/Z8tYP7LX7KPwv+NH7M3/CZ+MNKj1fxR4iN/eXetvNKktvJul+782xduzdXLzc0jflPuLxOySeE9YdHVkbTbh0dP4/3L1a+FB/4tn4R/wCwVb/+ikr5/wD2RNb1DxB+xf4ZudTlkuZV0e8t45H++8ETSxRP/wB8qtfQPwo4+F3hE/8AUJt//RS1+V+IXv4Kh/iO3A/xJHz9+1F8M/irbfEjwp8V/hHFY6v4j0mxl0q+0HUX2pc2rtv+Xcyfxf7S/wAFcp4E8LfH/wCPHx38CeMPib4d03wB4S8Fy3F1Bp1rLuluZ5V8r+87/wDfW35N/wDfrV/an+HXjL4v/HjwL4C0/wAcal4D8K3mlXl9Jc6YWWW8uomTfF8rJuba6N/u76h8B/sAah4L8X6LrrfGrxfrEWm3cVy9leOzRXGxt+x/3v3Wr5fC4ilhsth7WcY1eWXL7rlLl16no8r5z0D4TfCvVfh5408RanrbWvm+J/HVxq1rHZS7lSB4CsSt8v3vl+avrD/lnXl/ib/kY/CH/YT/APaL16hjlRX1HB+LqY2hVrVd+b9EY4r3OU+bPip/yWy+/wCwLb/+j5a8k/aJ03VdY+B/jq00RZG1ObSpEjSP77/31X/aZdy1638VP+S2X3/YFt//AEfLXm/xk8cy/DP4X+KPFFvbx3Nxpdi9xHDJ9x5fuJu/2dzLXbW5/rkuX+Y+HofxZf4n+Z8hfDT4v/Br4aePbLW9EmtdN0f/AIV69vd2qRN5txqP2uJmilX+KRlRv+AV9A/si6Je6H+zh4at9Qt5LSWSK6uY4HXawjlllliP/fLV4J8XIZbfxf8AD/R/Dvwv8F6v8Ute0/8At3UZHsV+zp/HsWJm2fwP8zV9UfBj4jf8LY+EeleKHtF0+W8t5Ip7RPuRyRM8Uqp/s7lrvxv8HmidmJ/hHRfDn/kSPD//AF5RV89/tMWnhez+Pnw11X4kRRy/D9dPvLf/AEqJmtYr/dvXzdn95dn/AHxX0H8Ov+RH8P8A/XlFXnHxT8Ttrnxb8KfDWXStJ1DRdWsZ9V1j+1rX7Rst4m2KsS/d3/e+avLwMrVTgwO0f8J8zeD/ABzo/jz4f/AL4f8Ahq4/tDxRpviOPVLpIEb/AECCO4ldmZv911NfbXij954o8H/9f1x/6KevjH4E/Ft/Dnjy38RaP8OvDvh74a+INe/4RmC/sodt0krt+6ZnZ97Lj76fcr7M8T/u/EfhL/r/ALj/ANEvXfj/AHHyhmnwx/xR/M6dP9Yn+/X54aDqfgXwBqmjP4le10j4kWPxBa41q6vFZZfse6VllVv+efzL92v0Qzwgb7n8dfDnxO+I2n+NPg/qfxF8R+BfDOuaxdeIW0Tw2lxbN5u1Wdd87b90v3fufcqMB9qJ6GGPVP2adZh+IHxg+MvjrR1k/wCEV1a7s7axmeJlS5kiidJZV/z/AB19o/sxf8gzxj/2ME//AKKir5G/Zf8AHesahZ+IvAvijw7pvhrxL4RMAnsdJiWG3aKdd6sqL8i/7Wyvrr9mT/kG+Mf+w/P/AOioq7MP/vn/AG6Zf8xlP5ntVJtqKS7hgHzuq/Wof7Tt/wDnvH/33X0apt9D6VQk+hw2mfEPz/iprXhSULE0EMVxaf8ATVWT5/8Avltv/fdd8pztr4s+Nniq48IfH2LWbKXDWqwu4RvvLtO9P+BLX114V8QQeIfD9jqcD+ZBdRiWN/8AZavUxuB+r0qVVfDKJ9Jm+UywNDD4lfDUivvL+qx3Vxp93FaOsV20TpBI/wDCxT5W/Bq/PBv2e/29fMfb8cNF/wC/q/8AyLX6H6rFdXGl3cNpKsd20TLFMw+4+07W/Bq/O/U/g7+2/o+1Lv8AaH8K2jt9xLiaKJn/AO+rWvKPmDvP2BfHXxVvfHfxQ8H/ABj8Zza54t8Py28X9g3Fuqvbx/M32qOVFVZIpVdfyQ/x190V8c/sdfsleK/gZ4w8YfEX4keMo/GPjvxJEkVzcWzs0UcSNv8A9Y+3ezbU/gVUVK+xqACiiigAooooAKKKKACvij46/t7eLfg98WNe8Jaf8DPE3iyy014kGsWbyrFPvhSXcu23df49v3/4K+16/O34v/tMftD/ABY/aD8ZfDL9n3SLGztPCUqW+qaxfRRM4k/vM0/yKu/cqIqM7bHagDjNH+KPxV/a4/as+EXiPTPhJqnw30/wjdvLqOt3yS+bJaMU82JpWii3Kyo6LF83zSvX3z8f3aP4QeImVtrfZf6ivjL4ZftL/tEfBD45+Cvh/wDH/R7G+0zxdd/YtO1uzWJXSU7VX5oDsZdzLuRkVvn3V9mftAf8kg8Rf9ev9RXXhP8AeqX+JHqZVrjqP+KP5nwH/at3/wA/U3/f1qbNeXFxHsluJJ0/23qF/wDWU3ZX6/yQP7Np4aiuiO++CPj1vAHjyxu5ZcWFz+5nQ/3W/i/4C3zV+hUEqXCb0+ZWr8t3r7h/Zc8bTeL/AABHb3uWudLf7Mzv/wAtV2/K3/fPy/8AAa+N4iwfuxxUf+3j8Q8RMnSccxpf4ZfoR6p/ycbr/wD2Ldn/AOj5a6G60q01CW3lu7e3uZbeXzY5poVZ4m/vrv8AuNXPan/ycZr/AP2Lln/6US1W+MVt4zvPh5rEXw/u7Ox8YbYn06bUf9VuSVHdG/3l3LXz8do/4T+fI/FI7DaksY38Vlzada6N4fu7ext7WxtI4bjZDbQrDEnyv/AtfKFt+2p44+DYhtPj38LdU0OFW2P4l8NxfatMl/2mXd8v+5v/AOAV9MeGPiBoXxL+H/8AwkvhfU49X0S8tbh4LuFWVH2b0f7391l2VcJRmVOJW+CI/wCLP+Cf+wPb/wDoNdZbaZaWUl3cW9vbwS3UvmzzQxKryt/fZv4m/wB6uT+B/wDyR/wV/wBge3/9Arzj9oLW/jx4P8WaZrXwv0TSfF/heO02ajoN9KsV3Lcbn+eJvk/h2f8AfH3KVT3ZSJp/DE9zu9KtNQ+z/a7W3ufs8qXEfnRLL5Uqfcdd33W/2qyNZGPF/hL/AK+bj/0S9eE/DX9unwf4v8WWPgzxbomtfDnxxdslvHpWvWzKksrttVIpf9pvu7kWvdtZ/wCRv8Jev2m4/wDRL18VxdKM8nqcvkepgf40f+3jQ8RePfDvhzUNH0fWNbt9K1DXJZLfToJm2vcyKvzpF/e27lr86X+BH7OlveXTw/tQ6pZvNcNLIkOpxLvkZvnf7v3q/RPxZ8NvDfjPXPDusaxpMd9q3h+Z7jTLiR2V7aV9m512/wC4n/fNfnl448cfA2Pxhq+m+Av2Yrj4jafpM0tvd6vpkM/lbkb5tu1H/wC+mr8m4ZlT5ZRw/Nzfa5eXlvrb4j0K/wDePqH9i7wb4E8F6R4ti8C/E+8+J1vcTW7XU11drcfY2VX2Kv8AvfN/3xX0T8K+vib/ALDE/wD6CleB/sdax8KvEnw81DW/hh4VXwf5119k1fSiNssM8S/Isvzf3W+Vv9uvffhX/wAzN/2GJ/8A0FK7splKfEU+fmvy/a5b/wDko5fwTt5v9XN9DXz/APAb/kj/AIS/68U/9CavoCb/AFc30NfP/wAB/wDkj/hX/rxT/wBCev3fCfw5fI+cr/xInS+FfA/h/wAD21xb+H9HsdDtLi4e4kt7KDyUllf78u3+9Wf4z+FvhX4gXeiXfiPQrPV7jSbpLrTpriLc9tP8j71b+H7if98V5p+0Nqvxz8La5omt/CrStH8UaLb28qaroOoyrFLcNu+R4m+Ta235fv8A/AK5v4dft2eFdc8UWXg/x34f1r4aeNbopbx6drFq32eaV22qkUv+033d6VtzR+EfLI9c+JP/ACNHw5/7Dv8A7by1v+KvBPh/x5p9vZeI9HsdatI5kuI4b6FZUikX7sqf3WX+/WB8Sf8AkaPhz/2Hf/beWu6/uVtP4YmcfikLGmyPYn8Ncz4V+F/hTwPrGu6xoWhWekahrkvm6jNaxbftMvz/ADt/tfO//fdfMc3x5/aG+BeoXX/CyPhpH4/8JQys8eveEfnuY493y+av8Xy/7C17r8Cv2kPA/wC0Jo97e+ENRmkl0/Yl9ZXUDRXFszfcRl/4A/3P7lYuUZmnLI7TwL/yGPFf/YQ/9pJXjX7UuofCr4yeANa8H+JfibH4Rt9H1W3TUp7WZVlt5dkuyKXd/e+f/vivaPAoJ1nxV/2EP/aSV5Z8dvhx8GPh54H8Z+M/G/hezvbK+mjvdSTDs1/dLvSLau7/AFn711X/AH6/l3mhHPKk5c3Nze7y235vM+qqfwo/4V+R8hD4I/s9ZH/GV+uf+DRf/ia+7hYafpf7PllaaVfya3pUGixR22pzNue6jRU2ys3+196vgDSfib8ELO8tNQ8V/soal4a8JXT7E8QyW07Iiv8AddvlRW/4C9foh4htdHsPg48WgJCuhR6ZEmnJB/qvs+1PK2/7O3bX0HE0qnJRjU5t/tcv/tpz4fl9pE9tt/uJ9K8t/aU/5EfTP+w7pv8A6UJXqVv9xPpXlv7Sn/Ij6Z/2HdN/9KEr9owXww+R41f4ZFXxn4M0T4g6Je6F4j0q31jR7pk8+yuot0Uuxt6fL/vLWhbW1vZWcVvbrst44kijT+4qLsSrM5xI/wBa+VPHXxR/aI+Dfj3Xr248A2fxJ+G8l1LcWn9iS7dTs7f+BGT/AJa7P9xv9+vb5uQ5fjPoXTfh34f0vxprHi230yOPxLq0MVvd6h5rM8scX3Yvmfaqr/sVj+HRn40eOP8AsH6X/wC165X4EftZ+BP2hLy70zQpb7TPEVnF5t3omrWzR3EC/df/AGGrqvDpx8aPHH/YP0v/ANr1dPl5ZchNT4onQTeBPD8njSLxc+k2/wDwk0do+nx6pt/0hLfdv8rd/drQ1zR7TxHo97pN7b+fZX0L288O9l82J12Om5fn+7XOfF218YXnw61iL4f3FnY+MPKR9Om1H/j33Iyb0b5f4l3LXzXbftq+Ovg3JDafHv4WalocSvsfxT4bi+1aZL/tOu75f9zf/wAAqJSjErl5z3Tx/wCD9H8B/s9+I9C0Kyj0/R7HQriK1tIt2xF2v8nzV3sGm2+qeG4rK+t47m0uLRLeeGZdySq8Wx0evPPGPjzQviZ+zv4l8S+GtQj1XR7zRbgwXSIy7/l2P8j16XpX/IHsf+veL/0Gtf8Al0Y/bKvhjwvpXgrw9Y6LotlDpuk2cXlQWkP+qiX+4tUNS+HXh/VPGeleK7rTY7nxFpMMkNjezO2+COX/AFqqn3Pmrxj40eLv2gPh38QLjWvBXhfS/H/gBreLdonm+XqEUqL+9aJv/ZfmqT4M/tt+B/ix4nt/B+oWWseB/HEzeUnh7XrRopWb72yJv4vufx7ay5o/Cb8sj0zxEP8Ai9Hw6/646t/6Jirb+InjjwvYZ8K634it9F1LXrG6S2jeXbcPEsT+bLF/ur81YniI/wDF6Ph1/wBcdW/9ExVs+MPhV4S8X+JNN8ReINKhvNV0qGWK2vbmVl8iKVdkq/e2/Mu6vwrjT2X9r0/a83w/Z+dj1sD/AApf4v8AI/Pi0+A37OtpH5Vp+1Jq1qjO7ukN/Eqbm+Z2+7/FX17+xp4T8FeD/A+u2/gr4j3XxK0+bUN8+oXs3mPDL5Sfut3+783/AAKvjzXPiJ8DbzWL1vAn7LV9498L2MzxSa9ZW0/lNs+867Vf5f8Aer7V/ZHu/hnrnww/tr4W6FH4a0e+uX+26cg8uWG6i+V1lXc/zfd/4AUqc/nU/s18/N738yj/AOTcup10+XnPZvhL/wAgzVv+wref+ja6Xxb/AMi3rH/XpL/6A1c38Jv+QZqv/YUvP/RtdJ4t/wCRb1j/AK9Jf/QGr7/h3/kXUP8ACjhxXxSPJPhR/wAkx8I/9gy3/wDRVavirwlo/jTQrvR9d0+31XSrpfKnsrtVlidf92sr4Uf8kx8I/wDYMt//AEVXlXx91748eC/F+n638MtC0nxf4UjtNmo6DdSpFdvLvf54G/3dn97/AHK+6qbyPIp/DE7/AODHwM8I/s/eG7rRPBtjcWOmXl2+oSQzXTXH711RPvN/sqlP8c8/En4b/wDX3f8A/pLXlHws/bq8H+NPGFp4K8V6RrXw88d3UqW8ej69aMqSyv8AIqRS/wC033d6LXq/jnj4k/Df/r7v/wD0lp0eX7AVeblO+xgV5Z8Z/wBmT4bfHwWkvjPw+uoXdn/qL6CVre4Vf+eXmr8zL/stXp0ytLbOivsl2vsf/ar5C/4aA/aA+A8lwvxV+Gn/AAm3hpXb/ipPB/7yVI93y+bEv/oW1aiXL9ouB9fWsKW6QxJ9yPYiVwvwT/5E66/7DWpf+lD1S+Bv7Qfgf4/6Jcan4M1KS8W1lSK7t54Wiltmf+Flb/2WrvwT/wCROuv+w1qX/pQ9bR+EmX8SJ2t3Z2+oW9xaXdvHc2kyvFJDMqskqv8AfRk/iWvOvhP+zf4B+CWueINV8GaI2j3GtbPtcKTM0Xys7okUTfLGvzN92sr9omb4x6fZaDqfwii0e+ls5ZX1LSNY+VLyNlTYkTfwt97+Nfv15l4b/b30rQ9cXw58Y/B+sfCnxBIfKSa+haXT5m/2JV/h/wBr5l/2qxlKPN7xXvHt3xi/5A3hz/sZ9L/9Kkrt/G/jrw/8ONH/ALY8S6xa6Lpvmpb/AGq6bbF5jfdT/gVcR8X50k8P+GpUfcreJdIdH/v/AOkJXX/ET4beGvinof8AYvijSo9Y0rzo7j7NI7KvmJ91vkr8V499l9aw/wBY+H+6elgN5Hwp8Xfgv8CNY+Kni3W9V/aM1Lw3rt9fSy32n21+q/Zn3/6r7u7au6vTf2Qvhx8LfCfxKu73wb8bNS+I2sNpksT6XdXiyLFF5sW6Xb/s/Kv/AAKuB/aR8T/BXw18W9Y8O6L8Apvit44V/tGsSafDKyRSy/PsZk3tu/i+7Xo/7FuvfCDxjrmuy+Ffhr/wrP4haXa+VqOl3UbrceRKyfOu77y7kX+D+5WONnNZRzPm5eXtHtp52O2PL7U+qvD3/JTr3/sHRf8AoT133cfSuC0L/kpt7/2Dov8A0J673uPpXv8AB/8AyK4/MnGfxf8At08K8C/8jZ8SP+xif/0niqjrH7PXwv8AEmq3ep6t8PPDOp6heSvLPdXemRSyys/33ZnX52q94E/5Gj4kf9jHL/6TxVh/tDJ8Vv8AhELK4+EUuk/8JHa6glxPb6x/qru18l90X+9u8r+79z71fqT+A8CmdP4g+GXhbxR4L/4RLU9Etbnwv5UUX9lbdsXlRfcTav8ACn92sP4520Vn8EvEtvbxLBbx2KRRwp9xFSWJESvCtL/b1l+H+oW+ifHD4f658NNTZvKTVEt2utMlb++sq/Nt/wBzfXtvxn1i11z4D67q2n3Ed5p99p8VxBcQ/clilaJ0df8AeVqISjOUeUVTn5ZHd+IfDGk+LNHu9K1vTLfWNKuF2T2V7CssUv8AH86t96uW8N/Ar4c+C9Yt9V0HwL4d0PVbff5F9p2lxRSxb12PtZU/u13X8HWvmb4r+O/2gvhf8SNY1jRPB+m/Eb4aSMrwafYy+Vqdmvkp5uz+98299u1qU+UpHvT/AA88PyeOU8YNpVu/iWGy/s9NTfc0qW+7f5S/3Vrn9AH/ABezxd/2CtN/9Clrhfgj+2T4F+NniD/hGLeHVPC/jWNGeTw3rdo0c6bV3Ptb7jbf+AvXdaAf+L2eLv8AsFab/wChS1dPl5ZchNT4olrxV8EPh/451h9V8R+CfD+uanIqRPdahp8VxK6p8iJvda1tM+HvhzS/CVx4X0zRLPTfD80UsT6XYxeVb7Zf9am1fu7qpfFu18W3fw/1iL4f3FnaeLvKR7GbUP8AVJKjJ8jf7LLvSvme3/bV8d/BvybT49/CzUtBgU+U/inw3F9q0+T/AGnXd8v+5v8A+AVEpRiX70z6bk8K6V4K+G97omiafDpulWen3EVra267Yol8p/kWrfw71K30f4QeHL29lW2srXRoLieab7sUSw72Zv8AgNZOnePdC+JnwruvE3hrUI9V0S+0+4eC6RWXf+6dH+VvnX5q1vh9p1vrnwb8P6be26z2V5oUFvPC/wDy0jeHYy/981+U8f8AL9UoX/mO/BfxZHyx+09oXwP+PHiDwp4t1v45N4SWLT3TTX027VYp4vOdHlVmX727en/AK4v4UfCH4H2HxL8O3uj/ALS+q+IdVt9QgltdJkvFZLmXd8sTL/Furu/2ntH+AvwI8N+FdE1D4Vr401i4iktNA0DT45ZJUi83zZc/PuVd0p/vPueuM+AHib4K6n8W9C8Oa1+z7N8LfGE0vm6Nd36Sqks6/OiqzbNjfL8v3q8jCu2V/uebk5Zcvw7a/M9CXxn3V4n/AOQ/4T/7Cf8A7RevT4u9eYeJ/wDkP+E/+wn/AO0Xr0+LvWvAn+6VP8X6E4r7J81fFP8A5Lfe/wDYFt//AEolrivHXhTT/G/hDWvD+q7l03VLSW3ndG27FZfv/wDAfv12vxT/AOS33v8A2Bbf/wBKJa8i/aIs3vPgh46t4tQj0p20qREuppfLRP8Afb+Hd93/AIHXu1f99kfC0f4sv8T/ADPnr4W+BfD/AMM/GGseKNY+OHh/xF4lh0h9F0V769VUs127U83597bNv3F/2694/Z38IWPgP4J6Po+n67a+J4bdJ2Op6fJut5pJZXZtv/fVfO/gn4X/ALJ9x4Q0eXUNQ0ue+ksopZ3vtdnim8xk+bcqyoqNu/gr6l+FOkeDND+HdvZfD94W8Lr5/wBle1uGuItzM/m/MzO7fNWuLnzw+1/4Cd2Kl+7Nj4df8iP4f/68oq8m/ae+Flv4oi0fxLaePbX4d67psUtlHqtzKsMUsEq/vYm+evWfh1/yI/h//ryir50/ah8M+B9c+N/w6T4i63bweF20y8SSymu2t9kn34nbb8+1vmTf/sJXHgv45w4DaP8AhM/Rfh74EtvC/wAK/A+j/FDw3Ppvh/XotZvv9LVrjU7rduVYkVvlXc2z/vivpXxP/wAjJ4S3f8/0/wD6Kevnjw38M/2V7PxJpVxol3ov9sQ3Mclps12dm89WTytq+b83zba+h/E//IyeEt//AD/T/wDop62xU+eX2vmLMpe5H/FH8zo/7lfG/iD4A+EtD+Lluut/F3S9O8FafrDa3H4RvblY3t7pm3MnzN93cn/fNfZf+r2Cvgz4W/D39n/VY/EsvxI13TdT8UR67eJJPPrEsKSr529Xi2Mm9WV/++t9aZdePNI9Ch9o+hvgppOmXPxI+Jvi238W6L4o1DxBcQO8Ojy+clnBErpErf7X/wARX1d+zR/x4eMP+w/cf+gR18s/ALwr8IvDdxrT/C2bT55ZIoxffYtSluvlVn8rdud9n8VfUv7M/wDyDPF//Yfn/wDQI66sL/vZzx/32n8zzb9su+mj1jw95csifup/uPt/iSvm/wDtW7/5+pv+/rV9FftpL/xNNB/65T/+hJXzaa/dsmhT+qRP7N4Lw9GeS0G0r+9+Y+aWW4k3MzM399zX1J+yN8RPPhuvCtxKd8WZ7Te33om+8v8AwFv/AEIV8sOfLrU8FeJbjwZr9hq9pxNbSb9v95f4k/4EtdmZYSOKwskepxNk9PNMtlR+0tY+p+iXxCu9V0/wF4mu9Ci+067b6dcS2MO3dvuFidol/wC+ttflp+zD+wFpP7YHwzPxN8d/FDXr7xPqV3cJdW1syyy2c6Sumy4aXe27+Pb8vyulfqTFq66z4Te9+0yWFvcWLS+f914VaLdv/wB5a/N74W/8E2/CXxo8Ny+NfBX7QXiTVdM1S6kzqI0xomuJUba7PulV2bd/FX5I17M/kaUXCXLI9B/4J6ad4r+Gnxv+LvwnTxhdeOPAXhdLf7Jqh3NFbXT4/wBHX5n2ts37lRtu6I1+htflN4X/AOCbHgfUPiJ4k+H/AIf+PuuW3irQxHd6npMWlNC6JKqbX/1qq/3l+df79fpR8OfBn/Cu/h/4Z8L/ANoXWq/2Pp1vp/8AaF3/AK248pUTe/8AtNtpEHY0UUUAFFFFABRRRQAV+b3xl8B/tNfDz9rTxr8QPgl4HsZdE1i3tbe6mmureSHV2SJP3ssUsqMkiNuT5dv3P9uv0hr80fiHf/tFftOftT/FDwP4F+I//CtPDnglre3S2jllt3l81fkb90vmtv8Amff91U2UAef+LvB/7bvjz4oeFfHfiD4f6Xfan4XWR9H06Se1+w20jZ3zeX9o+aT7vzM38CV9WeD/ABD8a9c/Zw8aS/HLRNP0PxAs+y0hsfK2Pb7E+Ztkjr97d3Fct8D/ANlH9o3wH8WPD+u+M/j7N4q8M2sztfaK97dyrcptddu2X5fvMtfVnxU0CfxV8Pta0q18v7VdQbYt/wB3durpw0o068Zy/mR6GXVY08bSqy+GMo/mfna/36iXzq9q/wCGR/Hckv3bL/wKb/4muW+IfwS8R/DeyS51VrURyyCNPIl3NuKlv7v+zX6vSzDD1ZcsZR5j+ssNxLlVepGhSrxlKRwdlbS3c8VlbxNPLIUijhT7zM9foT8HvAMXw/8ABFhpfy/aFHmTsn8Ujfe/+Jr5g/Zd+G//AAlPjBtZuIt2n6Z84J+68zf/ABP3vxSvt0qgfNfHcRYznqRoQ+z8R+N+IOc/WcRHA0Ze7HWX+I8U1T/k43X/APsXLP8A9Hy1R+NNz42s/hvrEvw5t7O58Z+VEmnQ6jt8rc8qI7tu/urvf/gFXtU/5ON1/wD7Fyz/APR8tcN+17Drdx+zX8QovD+of2Zq39mO8cyS+U+1GR5URv4WaJXX/gdeMto/4T8QjvL/ABHz3Yfsma78Wb37X+0B8df+Ejizvfw1oWpRWtqrf3W+4n/fCf8AAq+sfA3gvwp8O/hlF4f8GW8Nn4cs7WcWsME/2hPn3u/zbn3tuZq+OfBX7CP7M+qeENBu7vxa17cXVjb3Uk8niKCFpWaFHb5P4fmf7tfW3wl+HvhT4V/B6Dw14JuPtnhqziuntZvtS3G/ezu/71PvfMzUqXxGsy/8D/8Akjvgr/sD2/8A6BXkv7TOl/HPxJ4p03Svh14q0fwB4Paxzqmvaj5X2jz3lf8AdRbt7/d2fc2/f+9XrXwO/wCSO+Cv+wPb/wDoNfNH7W/wl8P/ABg/aV+HWi/EDxHJpXgibQryWGzivlgR7+KXdtff9zdE/wB7/pltq63xyMqe0TY+Fn7HXwx8N+L9M8V+K/Gs3xN8fW80MsGparq6siXCNuXyoll/hb7qM7V9Ka3/AMjh4S/6+bj/ANEvXy34E/Yg/Z38J+M9C1vRNe8/WNN1GC7sYf8AhI4JN9xFMjxLt3fP8yfdr6k1v/kcPCX/AF83H/ol6+J4s/5E1f5Hr4L/AHiPz/I7eaLzLZovu7l2V+dPwz/ad1L9jHw3cfCrxf8AC/xJfXel3109hqmkRo0WoxyyvKsu5/4vn+8u6v0Wmm8uNnf7ipur4B8M+Ev2gP2wLOX4i6V8WJPhv4XurueLQ9H09ZfkjimeLfLs2fNuVvvV+L8NezlTqxxHL7L3fibXvdNvmejV5vsHr37GmleJdcvPiP8AErxF4dk8IP481iO9s9Fufllijii2K7fInzN9/wC7833q+kvhUP8AkZf+wxP/AOgpXhH7JHxD8ba3B468CfEW4h1Lxh4J1OLT59WgXat5FLF5sUv+9tr3f4VH/kZf+wxP/wCgpX0OV+0/1klzfy/Z+Hlt7v4ET/gHcXH+pm/3TXz/APAf/kj/AIV/68U/9CevoC4/1M3+6a+f/gP/AMkf8K/9eKf+hPX7rhPhl8j5yv8AxInnP7Tdh8bdc1jRNK+GXiXR/BPh2SGR9Y8Q6p5XmxS7tiwxbt/8P9xf+B1xPww/Y0+HOj+KNN8V+N/Hs3xT8cW8sUsF7qmrr5UU6NvTyoll3/e+6jPTf2wfhfonxY+Nnwl0Lxx4lbSPA91b6l5lsl2sHm3iqkqq2/7m5Vb5/wDY2/xVS8I/sO/s5eG/FGj6ro/iDdqtjdxXVon/AAkcEu+VJUaL5d3zfMq/LV/aNOh9GfEn/kZPhz/2Hf8A23lrvT1SuC+Jf/I2fDr/ALDr/wDpPLXfnqldU/hicsPikfDupfCD45/GTXLhPin8ZbP4feGmuJPJ8O+Hp4obh7fd8qOysu35f77tX0H+z58CPhp8D9L1C08BJHPcXnlPqN8+ofapZ2Tfs835vk++/wDdr5J+Fn7Jvwk+Kkni3W/in4zkvvHH/CR39veI+t29uqKsv7rb8/zK0TK//A9v8NfUP7NX7P8A8L/gX/wkH/Ct9T/tH+0vs/27/iZre7PK37Pu/d++9ca3OmR6/wCBP+Qp4r/7CH/tJK8q/bT8Ea740+C8Uvh3T/7c1jw/rVnr0OleXu+2LBLvaLb/ABfK33f9ivUPAf8AyE/FP/YS/wDaSVw37WHxV1v4R/Cj7d4Xhhl8Va1qFroWlPc/6qKedtiu3+78zV/MH7z+35ey+L2n6n1NT+F/26vyPmH4hftz6r8fPAWu/Dfw78HPE7eKvENpJpTw6gE+z2zSrtZmbb/D975ttfWkfhaXwR+zxp+gXUonutJ0K3spHRtyvLFCiN/48tfK/in4L/tNfBDw3qfxI/4Xh/wlV7osMmq6joN6sv2S5iiXfLEu/wCX7u/+Ff8AY219X3nixfHnwDt/EsUPkJq2jxah5O77nmoj7f8Ax6vXz6NONCjGhy+y5/styfN8zHDX9pHnPebb/j3T6V5Z+0t/yIemf9h3Tv8A0oSvU7b/AI90+leWftLf8iHpn/Yd07/0oSv3TB/DD5Hh4j4ZGhJ99/8Afr43+Jvw++OvxU+IGvWusfFPTfhX8OftckWnW2nyxQ6heWqfdl3bkfc4/vP/AMBr7Ik++/8Av18BX/7Nvw6+NH7QnxhuPi34tZtTs9Tt002yTWordIrOWLfFs3f7Ssmz+HZ/tV7FU5YH0H+zz+zd8LPgnqt3qHhS7bX/ABReW7xXesXup/ariVd25/kRti/N/sV3fh7/AJLR44/7B+l/+168u/Z4/Ze+DnwX8bXet/D/AFj7ZrElk9vJD/bEV7+6dkf7i/7q/PXqPh7/AJLR44/7B+l/+162o/DImp8US58Y7rxnb/DbWpfh5b29z4w8pU06G+2/Ztzsm923f3V3PXyZYfsn678WLj7X+0B8cv8AhIIt29/DGialFa2it/cf7n/jif8AAq+iP2s4dYuP2cvH8Wiah/ZmpNpkvl3Pm+V/tuit/AzrvSvmLwX+wj+zPrHhPRL248XNfXF1ZW9xJO/iO3iaZnRHf5P4ev3a5qnxG0T6a8Q+DPC/w/8A2avEWheD7eGz8OWej3SWqW832hPuvv8An3Pv+avVtJ/5A9l/17w/+g14w/w88L/C/wDZW1/w14PuPtnhyz0q8+yzfaluN+/e7/vV+981ez6T/wAgey/694f/AEGuv/l1E5/tSPmT9onw38ePGnxBuNK8K+O9H+Gnw3WGBP7YuPKW6uJXX96i/wAfy/8AAal+CP7I3wv+GfjOy8V3Hiabx/8AEOGXfHrGq6qssvm7du+KJW/u/wB/dXA/H/4KeD/jR+2DLpnxQ8VtY+F4/C8V3o9kmpxW6eekuyVG3fdb59/+0jf7Ndd8If2OPgJ8N/iHoPiPwjrv2nxHp83m2kP9vRXG9trr/ql+/wDKzVy/aOlbHu3iLj40/Dr/AK46t/6JirvPEmlf8JB4f1XTEm8h7yylt0m/ub0dd3/j1cH4g5+NHw6/64ap/wCioq7/AF7U4fD+hahqsyM0Wn2st2UT+JYl3/8Astfg/HXN/a9Ll/lj+Z6WX/wpf4j8+/hP+2FrH7LHgPTfhZ4w+D/iV9f8Oq1lBJo53W9/+9d1ZW2/xb/vJu319FfsV+F/EGleD/FXivxNpTeHL3xn4huNej0d12vbRSqiorL/AHm27q8E8IfDv9o/9p/w3afEtfjF/wAK+tNXV7nSPD2meb5VvBu2xbtn97b/ABbn/wDQK+kf2TPib4o8f+CvEGj+OPKn8ZeFdan0HUrqD7ty0SoyzfL/AHlaozm31Sr9X5faXXtLNv8APz7HZT+M9r+Ev/IL1X/sK3n/AKNrpfFv/It6x/16S/8AoL1zXwl/5Beq/wDYVvP/AEbXS+Lf+Rb1j/r0l/8AQXr9H4d/5F9D0RwYr4pHkfwn/wCSY+Ev+wZb/wDoqvGv2ltK+OHijxbp+lfD/wAW6P4A8Etab9R16+8r7T9odn/cxbvn+7t+7t/3q9l+E/8AyTHwl/2DLf8A9FV8u/tXfCbw58YP2nfh/ovxA8RyaV4Km8P3ksFol8kHm38TK2xt/wBzdE+7f/H5W2vu6m8jyaHwRN34T/sffDHwp4w0zxb4l8ZTfEr4gW8sUsGparqyt5Vwjbl8qJZf4W+6jbq9w8df8lJ+G/8A193/AP6S18//AA9/Ym/Z68F+OPD+u+H9d8/XdNu4rqxh/wCEhim3So29P3X8Xzfw19B+Ov8AkpPw3/6+7/8A9JaigFY7i5d47aZ0+aXa2xP9qvh+6+C/xw+Mmqv/AMLg+M1j4E0JnZ/+EX8OXMUUvlfwo7K6bfl/vu1fcc2/yn2P5D7fkd/4P9uvzh+C/wCyN8H/AIsaBrGu/FDxhJeeO212/t9RQ67Bb+W0Uzqm35vmVl2Pv/26mqaxPsn4A/BH4b/A/Rr7T/h/FDtuJY5b6f7d9qlkZPuvK275P4/7tbXwT/5E+6/7DWpf+lD1yX7NPwH+GnwPstbt/h1qH26K+lt3u/8AiYLe7GTfs+7937zV1vwT/wCRPuv+w1qX/pQ9bU/4ZlL+Kcf+04nxgvNM0XT/AIT6hpPh/wC0NP8A2xr2q+VssI0VPK27v4mbf/C1eNeEf2K/BOuajb678ZfinN8VtfVt6Q3eqrb2MLf3Ei83dt/75/3K6n9uzwPafEBPhbomveIG0HwPfeI/s+s+TdrG8sbr+6f5vvLu+X/Y81GriLf/AIJ/fswx7XXxB+9Vtw/4qi3/APiq5ZfEbR+E+nvi8kUegeF0i2+SviPSETZ/d+0JXrp715F8W4Yrfw54VhifdFH4i0hEf/Z+0JXrp71+JeIf8Wh6M9DAfFL5HwPqvxk1j9ij4zfE99d8Ba14j8MeMtY/t6y17R13bN67Hik3fL8rf7X/AKHXY/sy6t4g+PX7R3iD41ah4Pv/AAV4dj0FPD1jHqQ2z3jeb5rSt8qfKu3b/wB8VheMU+Mv7U/xc8daN4K+Iv8AwrTwV4O1L+xne1VvPv7pV3Ss2zY23/ge2uv/AGZ/FHxN8AfGjWvgx8UPEa+NbiHRk17R/EP/AC1eDzfKdJf4/vf3/wC5WOJv/Z8pQ5fb8kebV35dOm2x3R+L+6fT+gf8lOvf+wbF/wChPXdj/WfhXCaB/wAlOvf+wbF/6E9d2P8AWfhX1XB//Irj8zLF/wAT/t08M8Bf8jP8SP8AsY5f/SeKuY/aSm+K3/CDWVv8IZdLs/EFxqCRXeo6rt8qwtfKld5fm+Tdu8r+Bvv10/gL/kZ/iR/2Mcv/AKTxV4z+35oNx4k+C+laf/bzaBoNx4j0231yaGZY3lsWZ4pdu7723cku3/Yr9OfwHgUzzzw/+xjonjTUItY+N/xjk+JWpK3mppcOsLb2ETf7K7t3/fG2vov4u6Vp+h/s/wCsafo8UcGk2emW9vZQwtuiit0aJIkRv7u1Fr5uH/BPv9l+OPb/AMJNu2/x/wDCUQfPX0V8T9E0/wAN/s3Xuj6PL5+lafo9va2U3m+bvt4vKSJ938Xyqvz06MfeiOt8Mj1f/llXyZ8bvCHx++IHxL1jTNP+Iui/C74YxyxxWl6GiXUL9fJTzX/v8PuX7619Z/8ALKvg74nfs/eDfjZ+2B8QIvix4raDR7PStOuNA09NWit0SJ12Sp833WVl+58u/wA3dRV2HA9g+Af7Kvws+EfieLxBp+tyeL/HrLLv1vU9VS4uJd67JXWJG/u/71eoaB/yWzxd/wBgfTv/AGrXjvwO/ZD+BPwn+I+n+JfBWt/avEdrFcJBH/bsV1vV4nR/3S/e+V69i0D/AJLZ4u/7A+nf+1aKHwyJq/FEv/GC58YW/wAN9bm+H9vb3PjDykTTob3b5XmuyfO+75PlXc9fJWn/ALJ/iD4qXn2v9oD46/8ACQRb97+GtE1OK1tV/wBmX7i/98J/wOvo39rOHVbj9m/4hw6Je/YdS/sqV45vN8p9v8aI38LMu9a+XvA37CP7Mms+D9F1G48VtfXF5YwXElxL4igt3lZ0R3fyv4fv/drKp8RtH4T6/wDD/gzwv8P/AIPz6F4Pt4bbw5Z6fcJapbzfaE+67v8ANufd81df8Kf+SY+Ef+wVb/8AopK898A/D3wv8L/gXL4a8H3H2zw5Z2F79lm+1Lcb96yu/wC9T73zNXoXwp/5Jj4R/wCwVb/+ikr8r8Qv9yp/4juwP8WR81/tVar4i+Cfxq8FfGLT/B99410Kz0e50LUbXTvmuLPzZVdJV+Vv92vP0+OWsftp/FP4a6f4a+HuvaH4f8L67Hr194h1iJV8tYlf90u35fm+79/5q9V/ag8U/Evxb8SPDXwi+GPiCHwdqGrafPq2q+IXH763tUdYkWL/AGmb+78/+7XAeGrD41/sofEfwPF4v+JX/Cy/AninVYtCnS9R/tFncSo7xMu/e33l/vf8Ar5nAW+oQc+X2/LLl9535dem19z0JfF5H2H4k/5GDwl/2E//AGi9eojrXl3iT/kYPCX/AGE//aL16iOtezwN/ulT/EZYveJ80/FT/kt95/2Bbf8A9KJa4D4rp4a/4V54jfxhbrP4ajtGlvoXZvniT59ny/P95Urv/ip/yW+8/wCwLb/+lEtec/GLwJL8S/hh4o8MW8q21xqli1vA7/cST76bv9nci17db/fZHwlH+LL/ABP8z5B+E3hf4WfFfxBrGk2/wHk0V4dCl13TP7T1O7V9RiSVIkRP7u5n+/8ANX0z+zlqnh3WPgfol94V0T/hHNHuEutmlee8v2aXzXWVdz/e+Za+Zk+LPxg0P4kWVx/wp/VE8S2fhT/hFY9m5rR5ftCSpcK+zbt+X7m7/gdfUHwB+HF78K/gnonhnVWVtVt4p5bt0bciSSs8rJ/wHdtrqxn8L3vzO/FfCdh8Of8AkSPD/wD15RV4P+1zcfD+z1Pw5/wkHw/uPiJ4wvIpYtN0yxuJVdIlbczt5X8O5/7le7fD3/kSNB/69Iq8k+O+ieKvCfxM8KfFDwr4ak8XS6TYz6bfaPCdsrxS/P5sX3/utvrhwf8AvByYD4I+h5X4X8PfCLTNG+EvjVfhVb6Zb+J9WSyhuE1S4Z9OuvOfymZGb5/mir6q8T/8jJ4P3/f+33H/AKKevjX4O6R8Q/inp3wy8D6h4N1Dwr4X8G6r/bOoapqCtE9zJHLLLEiq6p/z12fxf3q+yPE/7zxJ4S/6/wC4/wDRL1vjPdly83czzT+FH/EvzOm/1gSvhGRPgx4g+LFv4f0r4Ozanot1rP8AY0niia/uFt3umZ9235vm+6/8fz193DotfCPjCP4i/BE6T4UT4dal4q0HRfGP/CR6drGmbmS5iZmbym2o+1vm+9UYFfF/nY9DDHvX7O2leDPC/jf4keGvD/hKPwjrehzQW995N7LcJeRsryxSrv8AufxfJX1t+zJ/yDPF3/Yfn/8AQI6+R/2a/C3ie41vx38RfF+lf2DrHi6aDy9KdtzW1rEuxd3+9ur64/Zn/wCQb4u/7D8//oEdelh/97Ml/vdP5nlf7aUc39s6F7xT7fzjr5yIzX2P+0N8H/EPxLu9Jm01rU/ZRKknny7fvsn+yf7teOt+yN4783G2w/8AApv/AImv2rKsdhaOEjGrKPMf1dwpxDluDyqnQxFaMZRueLf7Fd/8EvAL/EDx3ZWbLmxg/f3L/wCyv8P/AAJvlrnfG/gi/wDBOty6RqXl/alCM/lt8nzLX2B+zH8Pl8GeBYr6WLbqOofvZNyfMi/wp/3z/wChV2ZpjY4fCc1KXxfCexxVn9LB5V7fCy96ppH5/aMj9r34L/Ev4w+B9K0/4aeP5vAt1Zyyvd+S0qi/iaLYsWU//Z+Y18R/s7fsI/tO2/w0tE0/4q6l8Kbf7RLs8MS3M6tF83+t2xPs+b71fqzqmnjUNMu7Te0T3ETRean3k3Lt3V+ej/8ABKHxVltn7RXir/wFl/8Akivys/lxnsX7IP7G2tfs7+OPFvjXxl46uvHfjXxJGtpLfTKyokSNv+Z5HdpGbYv+4qV9d1+ff/BO/Qbv4V/Gf4wfDHxP4r1TxL4x0n7LL50181xYyWf3lliVmZ4pf3q7lb/Yr9BKBBRRRQAUUUUAFFFFABXwP8f/ANir41/EP9oPUviV4F+K9h4J+0W0Vlb/AGZZbe6igVU3xSyRL+9G/e3zV9BftU/sz2X7Vnw3tfCOo+IL7w9b2+oR6l9osolZ2ZFlTYyt/D+9z/wCvkz/AIcn+FP+ipeIP/AGL/4qgD0X4I/srftG+A/iv4c13xl8epPFXhizmeW+0Xz52+0r5Trt2v8AL95lr7jwK+EvgR/wS28P/Aj4seHfHdj8QNa1W40ed7hbK4tYokl3RPFtZ1b/AGq+7qAIQleA/tbWk134O0yC3iaeebUIoo40/jZt3y1700lYWveG7TXLjTZb5fN+wzrcxp/tqrru/wDH66cLU+r141f5Tty/F/UcRGv/AC6nO/BvwGnw/wDBNjpxVRcbQ87r/FIfvfrXoXX5v0qNJ+meaeCPwrGrKVarKrL7Rz4ivLF1ZV6nxS1PEdV/5OM8Qf8AYuWX/o+WqPxp8H+FPiB8Ltf0fxw/keEpIfN1GTzvI8qKJkl3+b/Dt21e1X/k4zxB/wBi5Zf+j5a4b9sDwZrXxA/Zq8f+H/D8Uk+q3mn74IYfvy+VMkrxL/vKrLXo/Zj/AITx4by/xH52tr/7EP8AbH2FfCnjxtM+0eV/awupfK/39u7f+GzdX6U/CDwh4P8Ah/8ABPTNK+H8zT+D/sM93p0zzNL5sU++Xfub73zPXyrYf8FBfglp/wAGrfwvL4S1RdVj0xNNfwn/AGOu15dvlbN33fvfxff/AOBV71+yB4J1j4d/sn+EtC8QRSR6rDp9xcSQTffgWVpZUib/AHVZKmhy8x0VfhPRfgb/AMkg8E/9ge3/APQK+dv27vDn7P8Ap8mj+KvjFb6pfasbd7DS7HSrlobmeJHd3+Vfl2q0v32/v19E/Az/AJI/4I/7A9v/AOg186ftTeLLL4H/ALTnw8+Kfi7w/da14Ht9CutFe7tYFuP7OvWl3rLtb/Y+X8HratvIww+0Txn9l/RP2SviJ8XNHt/C+heKPDPjPT7qLUtLg16+bbLLAySps2M6s3ybtj/er9B9Z/5HDwl/19XH/ol6+LfE/wAffCP7Xnxv+EWlfC3SNSu73w/4ii13U/EU1j9nS2solfzYt338N/tV9paz/wAjh4S/6+rj/wBEvXxHFn/Inq/I9jB/7zH/ALe/ItfEL4jeGvhZ4WuvEHivWIdD0W32o95P9x3b7qKq/MzN/dWvg34YeEfHviC412L9l/456Pc+BJL6S6k0HV4miuNKaVtzbYpYHbbu+6/y/wDfdep/t6XfhST4m/AXSviHfW9r8P7jVNTutVS7ZvJl8qCLyvN2/wAO59n/AAOvM7D4n/s+/Cr9rfwP4q8A+JtD0Hw1eaHqFlr/APZoaG0SRdj2+5f7zN/6Kr81yPDfVsBzUoylKpFy+Hmj7t9PXsd1SXvH1n+zX8Cbj4F+F9X/ALb1+bxT4w16+Oo61rEv/LeTbtRV3fwqter/AAr5/wCEm/7DE/8A6Clcp8M/jL4K+MkGoXHg3xFa+ILexZEumtd37pn+5u3f7rflXV/C8f8AI0f9hif/ANBSufh+rique82L+PlfkVU5fY+6dxdf6qb/AHDXz/8AAf8A5I/4V/68U/8AQnr6An/1U3+6a+f/AID/APJH/Cv/AF4p/wChPX9BYT4JfI+ar/xInh/7dvhj4GQaNonir4wQ6pc3FuJbLS7TSrpopZ/m3siov/oT/dr55/Zq0f8AZE+InxU0TTfD/h/xZ4f8Ww3Ud3pUOvXjKs9xE3moq7Wdf4fuv96vef2vNf0/4R/G/wCFvxT8TeHbjxB4K0m1v7G4e1h+0NY3Eux4rjY3yf3q4Hx9+0Z4J/a5+Inwv8KfDLRdS1XWtN8R2usXWvTWP2dbC1ibdKm773zL8vPyU5cvMbx+A+ufiR+88UfDr/sO/wDtvLXoR6pXAfEv954s+Hn/AGHX/wDSeWu9PVK65/DE4ofFI/Lj42aT+x18MviJqWj33h/xd4h1u1lkbUDod8zW1vLu3Om52T7u7+D7tfV37EHhT4KWfhTWPEfwa/tCC11R47TUYdSummuLeWLe6RMrfc/1rf79eKfBr9p7wF+yP/wlvgH4kaJqmg+LYdav7mfVBpnmpq8csrvE+77/AN1l/wBivUv2JdRi+IHjX4wfE7RPD9x4Z8GeKNQtU0q0ng+zvL5UWyW42r8vzM38H8dcMeW52y+E+m/Af/IY8Uf9hD/2kleH/trfED4R3HgtvAXj3x7H4T1q7eC90+aCGWa4s54m3RTusSttXd/e217d4J/5C3iv/sIf+0kr4isbz4CTftGfHW8+NV3otzrDa7Hp+nQ68jS7LVIl/wBUv8P93f8A7Ffz1gcLCtm+Jqz5v3cnL3d/iPfqy9yMf7q/I09K/Z//AGhfjh4btdJ8R/HPStX+FuqRJ5t/ov7641G1/ubvKT73+03+9ur7A8W6FaeGPhBcaRp6+XYabp8drAj/AMEcSoi/+OrXyF+xh+078IvhZ4L8ZeEr/wCIGn6bo9j4tv8A+wYbou27Tn2NE6fL93dur698aa5Y+KPhPe6xptxHeabeWK3EE6fdljfYyvWHEH12OLVKrHloxd4+7bf9QwvLeJ7Rbf8AHun0ryz9pb/kQ9M/7Dunf+lCV6nbf8e6fSvLP2lv+RD0z/sO6d/6UJX71g/hh8jw8R8Mi/P/AK1/9+vzi/a10L9lTwH8XdV/4TDRPFHiPxtqk327UbTRLtv3TS/P8/zIi9fupX6Oz/61/wDfr4Tsfjj4S/ZL/aM+LUXxO0XUIJvFGqLqum+Jbax+0LLaNEirFu+98rf3K9ipsYQOi/YW8O/s+anqGq+KvhJFrFj4gt7X7FfadrF00lzFFKwdG2t8jKzJ95elfRnh7/ktHjj/ALB+l/8AtevnT9mvxrpnx8/aw8YfE7wZoV1pHgq38OR6PNqF1arB/al19o3ebtX+6v8AwL5E3V9F+Hv+S0eOP+wfpf8A7Xq6HwyMqvxxLPxm8H+F/HHwz8QaJ41byfCklr5uozJP9n2RRfvd+7+H7tfl7Lrv7Eiax9kXwp48bTPO8r+10um8r/e27t//AI7ur9Gf2tPB+sePP2c/H2haDFJNq15pj+RDD9+XYyO8S/7yqy180WP/AAUH+CNn8G4vC8vhTVE1KPT/AOz38If2Om17jyfK2bvu7d3/AAOsanLzG0T6At/CPhLwP+yVqumeApWl8H/2FcXGnSPP9o82KVXl37v4vvV7VpP/ACBrL/r3i/8AQa+aPhB4P1jwF+wPDomt28lpqcfh26le1mX54FlZ5URv91XWvpfSf+QNZf8AXvF/6DXXH+EjmX8WR8Wftx+GP2b/AA34rtfE3xQsta1XxbqlvGkGn6JdssssEXyI+37qr/Dub71cz+xt4c/Zc8c/Fey1D4f6V4k0HxxoLPe2tjrd229127GdV3Orbd33K6r42eP9E/Zr/bIl+Ivj3w/eX/hXXvDMGm6dr1ra/aP7OuIn/ept/h3/APfXz/71UNB+L/hz9rT9rj4X638NNH1D+z/Bq3lzrfiO5tPs6yxSxeVFF/fb5v739+uH3eY7fsH1f4hP/F5/hz/1w1T/ANFRVq/Fz4n+DPhP4OutW8d63a6Pok2+2fz9zNPuX/VIq/Ozbf7tZXiH/ks/w5/64ap/6Kir56/bKvPAMn7R/wAHbH4p3VrB4LhsdUvZI9Q3/Z5Z18pYvNVfvV+PcT4SGMzynSlzcvLze78Xu3eh2YKXJSl/iPNfhL8Pfilq+h3Wn/s5fHrSdU+GUczxQW2pxOt7pKy/Ns2SxO6febb93dX2P+zl8EE+BHw//sJ9Vk8Qa7fXsupavqsy/Nc3Uv32/wB35dtfI3gT4x/AT4N/tdzav4H8T6LofgbWPCzJqIsUZbRLyKZdqqu35GZR/P8AvV9v/Db4t+Evi/pdxqfhDXbTxBZWs32eSe13bUk279v/AHy1fNcSVMZycqhKNKXLLm5eWX/bz7npUuU6j4S/8gvVf+wref8Ao2ul8W/8i3rH/XpL/wCgvXNfCX/kF6r/ANhW8/8ARtdL4t/5FvWP+vSX/wBBev1bh3/kX0PRHm4r4pHkfwn/AOSY+Ev+wZb/APoqvmr9vHw9+z5p8+keJfjBb6pfaxNC9lpenaPdNDczxI29vlX5dqs/3m676+lfhP8A8kx8Jf8AYMt//RVfM/7UPizT/gf+1J4F+KfjDw/daz4HXw/caT9ttbVZ/wCy71pd6y7W/wBj5f8Avuvua28jyqPwxPI/2VNK/ZP+Inxc0WLwponirw94402dNR0uDXrttsskH735NrOrNxv2N96vuDx1/wAlI+G//X3f/wDpLXyfrXx98I/tcfHz4S6f8L9H1C+u/DuuprOp+Ip7H7OkFlFE++Ld9/5v9qvrDx1/yUj4b/8AX3f/APpLSoFVvhO9mhSSNoX+5Mmyvys+LenfsX/DbxxqXh+bw54w8R6hZyul3Lot+Wt4pd3zpuZk3bfVflr9UJU8yNkR9rsuxH/uV+fnwA/an+Hn7KfhvXfhz8S9F1bQfF2m6reS3V3/AGZ5n9r+bM7JLu+/93Z975ayqFQPeP2J/Cvwd0vwXe698H/t39latcIl9DqMzS3EUsX/ACyZW+63z/8AA69S+Cn/ACJ13/2GtS/9KHrxL9hq4/4TDVPir8Q9M0K48NeEfFWuW9xo+mTxLC7rFDsll2r8vzN/dr234Kf8idd/9hrUv/Sh66aXwGNT+KeZ/to+D/g5rPgCy8QfGD7d/Y+hyv8AYk0+doriaWXYnkqq/eb5f+AbK+L/AIXWP7F/xE8aaf4f/wCEc8ZeHLrUGSK0uNYvmW2eVm+RdyM+3d/tfLX1j+3On/CPyfC34gXuizeJfCXg/XnvdZ0u3t1mZ4pYtiS7W+Vtrf3v79eOftE/tUfDz9q3wPp/w0+Gmhat4h8YatqFn9kmm0zyU07ZMjO2776/KrL8ny1xy5eY6Y/CfZXxdgS38P8Ahe3i+5D4l0iJP+AXCV6R4h1/TfDGj3usaxew6dpVnE1xcXk8m2KKNf4mavN/i1C8egeF4Xbz3XxHpCO/9/8A0hPnrzv/AIKJ3lvbfs7tb3tw1ppV9runWuozI23ZatOvm/8Ajq1+ScZYb65mWFw8/tf5nXgJcvNI8Ma8HxQ+MfivXf2YPjbpdjrWvSfa9Y8L6pBLbxTyIu17iLzYvm/2tqf8Cr6E/Zs/Zx8V/D/xXrfj34leLl8beP8AWLVNPe6hTbb2lqjb/Ki+Vf4tv8K/cr5g+L/i/wDZq8D+KPhJ4r+FWpeHdK1vRfE1tFfT6VvXfpzK6yvP/f8A9/79fb3gH9pD4a/FfXJdI8IeLdO8QaqsL3DwWpZnSJGRWf7v+0teBnjxVPDRjh4S9nKPvXj73u9JS7Ho0+Xm947vQP8Akpl5/wBg6L/0J67s/e/CuE0D/kpl5/2Dov8A0J67s/e/Cvs+D/8AkVx+ZnjP4n/bp4Z4A/5Gn4kf9jHL/wCk8VcP+1r4O+GXiT4R3F38W5bqDwlosyai721w0Mvn7XiRF2/M7N5rLt/267jwB/yNPxI/7GOX/wBJ4q8a/b58PalrPwg0HWLLTbjXrHwz4msNd1XSIRue8s4mfzU2/wAX36/Tn8B8/RPivwpe/sT+I/FFjpkvhrxpoNvcSiKPVNUvitp97ZudlZ3Vf9r+Gv0X+KugWPhf9nfU9F0pGXTNN0qCytUeXd/o8XlJF838XyqvzV8ofHT9t34T/HT4Oar8P/B/hzWPEPivXrX7Dp2kPo6RfY52+427d/D/ALNfT/jfRbrw3+yt/Y+oS+fqFjoNna3U27dvliWJH/8AHlpYfl548ppX+CR7J2r4J/bX8N/sxeD/AIm3Gt/EjTNe1rxxrnl3EljoN22/aqJEruvyIv3P+BV97dq+H/GvxS0L9lf9sX4geLviLomoT6D4u02w/sPxDBY/aFs/Ki2Sxf7Pz/3P9mirsOmUP2H/AA5+zP4s8eP4g+GWn65pHjbQ4ZHfTteu2aVImXymdV+dG+/t/wBnfX1f4f8A+S2+Lf8AsD6d/wC1q+ZvhZ8TdE/ad/bH8P8Ajb4f6FfWfhzwvol5a6xrdzZLbrftL8sMX+1t/wBr56+mfD//ACW3xb/2B9O/9rVVD4ZGdf4ol74x+EvC/jT4Z+I9H8ay+R4UktXl1Gbzvs/lW8X71383+H7lfl9Prv7Eiay9knhTx02mLN5X9ri6byv97bu3/wDjm6v0X/az8Jar48/Zz+IGi6FFJJqt1pkvkRQ/fl2bHeJf95VZa+bNO/4KB/A/S/g/b+F5fCmqRarDp66e/hH+x02PL5PleVu+7t3fxffrKpy85rE+nfhl4T8H+C/2f4tN8AytL4P/ALKuLjTpnmafzY5Ynl37m/3q9F+FH/JM/CP/AGCLf/0UleF/sveD9Y8B/sf+H9H1qKS01JdFu5XtZPvQLL5sqRN/uqyV6Ul9caV+zE19aTMt3b+EnuIJk/gZbV3Vq/L+PIe2w9CP947sF/FkfM37S/j/AMBfFD4saAnw/wDjVp/gr4zeH2l061uHilaxuVlb5rWWfb5X3v8Aerovhr+zJ8YPEfxI8NeK/jl48tfE1v4XuPtumaLpMX+jvcbdiyy/ukT5f9zdXzLosf7Mj/sYS2V9feH/APhaLaFPe/aX3/2gmo/O6Ju/3tq7Pu19j/s8/tgfDLxB8Ovh7ot1490268W3WmWFrPZOX81rrykR0b5fvbq+dx9DE4LAcmCpy93mjzSj73rF/wAr1O2PJKfvHvHif/kYPCP/AGE//aL16jH0ry7xP/yMHhH/ALCf/tF69Rj6V6HAn+6VP8X6Dxf2T5t+Kv8AyWu7/wCwLb/+lEtfLnx/8YeOvGHxE0z4VfDXUI9D1C6099R1XWnfa9tb7tiIr/w7v++6+o/ir/yWu7/7Atv/AOlEtfH/AMYn+LXgz496l4n+HvgVfEVrfaHbadNc3P8AqkaNmdtv7xPm+7X0y/3uZ8Nh/wCLU/xSOauf2bPjh8LLO48S+F/i1feI9Ss4nuJNJ1Bp9tyq/My7ZZHV2/75/Wvo74PfEmL4v/CTRfFSxfZpr62fz40/gnTekq/7u5a+fP8AhdX7Vf8A0RzT/wDvh/8A5Ir1v9lPwlrfgf8AZ/0rR/EemSaRrEMt+ZLWbbvTdK7p93/eqMTzzpc9Xl5v7p04rm9l7x6D4Gmit/h/olxK2yKGwSWR/wC4qLXyhpXhL4wftdR3HipfHsnw+8DzTSxaVp9jJL5txHEzLvdFZN3+8zf7i19P6PbXF58H7e3t4mnuJtElijRP42eJ0RK+Uvh540/ab+G/gzSPC+n/AAlt7qy0uH7PHNOn711/2tsorPC80YSnDl5v7xjgP4MeT+VHXeD5Pih+zH8RPCuheM/Ff/CceBfEl8mlWuoTlmuLO6f/AFS/Nvba3HybmT/vjn6O8Uf8jH4P/wCv64/9EvXyR4i1L9oL4yax4M0/xX8L49P0rTfEFhqUl1aL86LE3zfflf5drtX1x4q/5Gnwl/1/3H/op6jGRvyzl8X90wzT4I/4kcT+0j8TNY+G/gvT7fwrbx3Pi3Xr5NJ0pHTciSS/eb/gKrivEk/ZE+Mtz/xO7j45alB4j/1rwiWfykl/ub/N+7/wD/gFel/tWaL44uB4C1vwF4cbxHrGi6rLevB/yyRfKZfn+Zf71edf8Lq/ao/6JFp//ft//kiuzD3hSj7LlPSp35PcPW/2bPiL4o8V2Xijwv41ijXxr4Tu0tr6aP8A5bxyrvil/wCBbP8A9VfVP7Mn/IM8X/8AYfuP/RcdfFf7MGj/ABFn+JHxF8YfELwr/wAI3d69BYCNE2+U/lK6fL8zfw7a+0f2Zf8AkGeL/wDsYJ//AECKtsPGMcX7pzf8xdP5nuVFFFfRH0Z8lePvAb+N/wBpY28sYawSCC4mz/dUfd/4E3y19U28aW9uqL8qrWLZ+F7TT/El/rMS/wClX3lrI/8Asou1f/Zv++q2wARxXdicVKvGnH7MUezmWZSx0aNL7NOKic9441rRPC/hTUrvXdYtfD+meU8cmo3cywpFuXbu3N/FX5V2XwC+FWoagtlb/txXjys2xEmumVH/AOBtcba9c/aS+Gtx+2J+3pafCfxBrF9pngfwf4fj1ie1spdr3DS7N+zd8u9vNjXft+VUevVr/wD4JQ/s73GlvaReH9Ws7jZgXUOsTtKv+1tZmT/x2uE8Y6X9j39i/wAL/syW2ra3pviK48ba74iiTz9dulUJJb/fVY1Vn+V2O9m3tu+Wvqmvz9/YKstY+B/x8+Lv7Puoa3N4h8O+HYotV0eSf70UcuwsuP4dyyxbl+7vR2/jr9AqACiiigAooooAKKKKACiiigAooooAKTApaKACiiigDwnVP+Th/EH/AGLln/6UTV5WPGfi3xZ+1/d+EtP12TSPBnhfQbfUtRsoYYmfUZ52dIkZmV2VV2/wsteqap/ycP4g/wCxcs//AEomr59/aY+EHxQ0v4kaf8XfgpcQ3PiiOxXTdV0G6dfK1GBW3p990RmXd935f9ivUl8MfkcNP45Ht3xH+HdvrHh/Wr7QfsPh7xa1rLLZeII9PgluIZUXejb5Ym3L/frlv2Z/ine/Gj9mfw14u1VvM1i80+4ivpMKvmzwNLFK+1P7zLur5w1jx/8Ati/Gi3fwpF8OtP8AAdpeL9lvtembb5UTfIzK7St/D/cVq+tfhV8LrH4L/BfSvBOmzNPb6Tp8sXnOu3zZdrvLL/wJnZqcZc0ip/CU/h1rCeG/2d9C1V03Jp/hxLp0/v8AlQu//stc/wDsrXvij4ifA/SvEfj3Vf8AhKL3xQjakltPDF9ms4G/1VuqKq7tq8/Nuaus+Elhb6p8D/CljcRefb3WhW9vOn99Xi2P/wChV8k6bpH7Tn7Jclx4V8GeGrP4n/D23neTSppv9bZxM29Im2ujrt/4En9yqqe5Izo/BE9o+MWsX/wL+Knwl1Dw1d2+leD/ABFrsXhrVfD1nYQRRSyyq/lXCusW7crfe+bZ9yvbdW/5HHwf/wBfNx/6Jevk/wCF/wAMfjh8fPi34a8cfGvT7Pwn4a8K3X23SvDttt3y3X8ErKrt93++7fwfdr6w1b/kcfB//Xzcf+iXr43i7/kT1/keng/40f8At4q/FX4DeBfjemmxeOvDtv4iTTDI9ok8sq+V5m3f9x1+9sXr/drgv+GAv2fB/wA0y03/AMCrj/47X0L1oIr+bKOaY3Dw9lSqyjH/ABM9rljI87+GHwR8CfBSDUofA/h+Hw/FfFGuo4JZW81l3bPvs395q7T4W9fFH/YYn/8AQUq8COMVnfCwceKP+wzP/wCgpX1/CWIq4rNfa1Zc0uVmNb+Edvdf8e83+41fPHwcv00v4F+H7113RWulPcOn99Yt7/8AstfQ9x/qpv8AcNfPXwPhiuPgv4Xt5U3RSaf5UiP/ABq+9HSv6Nwn8KXyPm6/8WJwX7HniHxX8WPgfD4w8d63/bz+KLi4u7XTJoIvs9hapM8UUSqqpu+7/Fu/gql8d7/UvgV4o+GXiLwjLa6R4X1LxFb6Frmg2OnwRRX6zs6RS7li3Kyt/davFbPwl+0n+x3eah4f+HXh21+Jvwx897jS4ZP9bYrK+/ZtV0dfmb/aT+KtvwD8O/jz+0h8UPDHiX4zaVb+CfBXhe9TVbHw7Bs33l0n+qdl3O/y/wB9v+AJV3lblNT6g+JP7vxT8Ov+w6//AKTy1wH7VPjnxh4eHw08L+CtV/4R/WPF3iaLTZtWSKKZ7eBYnaXasquu5l/2K7z4k/8AI0/Dr/sPf+28tcp+1Z8C9T+OHgLT08Oal/Y3jPw7qEetaDeu+1EuIk+6z/wq39//AGErqqfw4nLS+KR6hqPg/RPEFvaJrGmWeuS26bI5tUtoriX/AH/mX5W/3a8b/Z08Y+KI/iR8Xfh94o1tvEf/AAiuoWkum3rwwRNFYXMXmxRMsSqu5dleGL8b/wBtCyt/7Bb4OaXd6vt2JrCKvlN/t/LP5Ve5/skfAvxR8KtD8TeIPiBqy6x8Q/F18mpaxNC25Idq7YoUb+Lb8/3fk/hT7lc7lzP3Tb4Ins3gf/kM+K8f9BD/ANpJXB+K/wBjn4N/EHxHf+INe8AWmoaxqUv2i6uprifdNJ/f+WXbXfeBP+Qx4q/7CH/tJK7ArgDiv5PzHF4jB5lXlh5yj70vh9T6qUYyjHm/lj+R8/Q/sDfs/g/8ky07/gN1cf8Ax2vQ/Fnh+y8MfCe70fSrVbTTbGxS3tbYM21I12qqfNXfbQcZrkvif/yIet/9cf8A2auF4/FYycIVaspa/aY6cYxceU9Ztf8Aj3j+leV/tLf8iHpn/Yd07/0oSvVLX/j3j+leV/tLf8iHpn/Yd07/ANKEr+qMFtD5HzeI+GR5D+2F8S/EHwv+Ceoah4Yu1sfEt9qFnpWnXUwVkglnlRN21t6fKu6vSLDwXFceE9M0rxW8PjK7tYUSe91W0gl+0XH8cu3bsT/gKVzX7SHwZtfj58J9d8IS3bafLdMtxaXX/PCeJt8Tf99f+OPXyrYfFb9s34dWaeHNQ+GWm+Nri3XyoPEKfN56r8iu7LKqt/wJVr15S5Wcq+E9v+HniTxB4P8A2rvFfw3vdYW+8K3Xh+LX9Dsfs0EX9l/vniliXylTcv8Avf7FeieHv+Sz+OP+wfpf/tevJP2Uvgp8Q9L8ZeJfix8YL2Ofx14gto9Pg0yDa0WnWqtv8r5Pk/ufIn3P9969e8Pf8lo8cf8AYP0v/wBr1vR+GRNT4onAnxt4w8UftkXHhHT9dk0rwV4X8OW+pajYQxRNJf3U8rpEjMyuyoqn+F1+5/t13nxL+HtvrHh/W7vQvsPh7xa1rLLY+IRp8EksEqLvRt8sTbl/v14t+0v8GfihpfxQ034wfBS4hufFcenppWq6DdsvlajAjb0+86IzL/c3L9xNleY638QP2xvjRZy+EYvh1p/gC0vE+y32tyNt8qN/kdlZ5W/h/uIz1hflNuU9q8A/EvU/i7+w8/ijWJVl1u68O3cV9KgVfNni3xM/y/L823d/wOvTfip45m+GfwK8R+K7dN1xougy3sCf35Ui+T/x7ZXJP8MbX4L/ALJeoeCbKZrm30nw9cRPO67Xml2u8sv/AAJnavSPEPhKy+IPw2u/Dmqpu0/VtM+xT7P7ssWx63972Rj/AMvTj/gJpWta78D/AA1L8QNYXxrrGrWkWoXk17aweV+9XekSxKiJtVa4nxbr2rfB79pj4Y6DpV7bweAvGkV7p83h62tIIYrO9ii81JYmWJG+b7uxnrw3Qr79rX9mPT18GaZ4Psfin4X0/wD0fStV3bpUi/gVtsqP8v8AdZfk/vV3XwE+Enxm+Jnxp0/4sfHCK10V9Bt5YvDvhi027LeWVdjysis+z5f7z73/ANnZXNzfZOk+ifEPHxo+HPH/ACw1T/0VFUvxS/Z8+HXxrvNPuPHXhi38QXFijxW0k8sq7FZt7L8jL/dqHxF/yWj4df8AXHVv/RMVeqL0r8K46xFXC5lTq4eXLLl/zPQwHvU5f4j5+/4YB+AH/RMdO/8AAq4/+O16T8L/AIMeC/gppd1pvgrQofD9heTfaJYIJZXSWTbt3fOzfwrXd7RRuANfmlbNMbWh7KrVlKP96R63LFFH4R/8gzVv+wref+jTXQ+Lf+Ra1j/r0l/9Aaue+Ef/ACDNW/7Ct5/6NNdD4t/5FrWP+vSX/wBAav6N4e/5FtD/AAnjYr4pHh3hrxCnhP4B2Wtum5NL8OfbXT+/5Vu8v/slcv8AssXXiXx58CtE8QfEDWP+EsvfFEX9peTPaxfZra3b/VW6oqruVV/vbm312nw90q31z4N6Fp13F5tpeaLFbzw/34nh2On/AHy1fH+k6V+1H+yX9o8KeEvDVn8VPh/ayv8A2Vczf622iZvkibY6uu3+58yf3K+4re4zyqPwxPbPizqmofA/4ufCq78OXcOmeDPEmtJ4a1Xw3a2NvDFLcSxM0VwrLFu3bvvfNt+5XpXjn/kpHw3/AOvu/wD/AElr5w+FPw1+Ofxw+MmheO/jbZWPhrw54Vle50fw5Ay75bpl2pMyq7/d/vs38HyJX0f45/5KR8N/+vu//wDSWrofEKscH+03498W6P4t+EngTwfrreGtT8Za69vPqkNvFM0VrFF5sqqsquu5t9ew6x4M0TxBHF/aulWOqyxxbI5761illT/bVnX71eUftWfAvWvjB4T0S98H6qujeO/Ct/8A2rod677U8zbseJn/AIFb5P8Avivn9vjh+2nHb/2J/wAKc0t9a27f7Y2r5Tf7f+v8qsnLkl7xqvfie8/sy+NvE1z4r+KHgHxRrbeI73wfrsVvaag9vFbu9nLCksUTLEqruX7tdx8Ev+RPn/7DWpf+lT1yH7JnwO134P8AhLWNQ8Z6qus+PfFWof2rrN0j7kSXbsSJX/i211/wQ/5FC4/7DWpf+lD1tT/hmMv4p59+yx4w8W/FiT4h+KPEeutfeH5PEV5pWh6D5MSxWdvBL5TO7Ku92b/advuf7dZ37WE1/wDAr4bxfEDwFLY+HJdH1O1l1Wys9PgVdUtZZUiliZ/K3q3z/eV/79eY+K/h98ff2ZPiH4l1b4O6PZ+PfAXiK+l1WfQZ9vm2M8v3tqb0fb/tp9/+Ost/BX7Rv7XniDStH+Jvh+1+G/wys72C+vrGH/W37RNuWL7zO3/jqL96ubm93l+0b/a5j60+Ltylx4f8L3EX+pm8R6Q6f7r3CV1nxL+Gfhj4r+HG0DxbpEetaQ0q3D2szuivIn3X+Rlrk/jAnl6P4cRE2p/wk2kbE/uf6UletH/W81+MeIFadDEUJ0pcsuU7sD8Uv+3T5+P7Af7Ppxn4Z6b/AOBNx/8AHa634a/swfDP4Oa3Lq/grwrbaDqrQvbSTwSyszxuyOy/O7f3Vr1jaKCuK/Jqmb5hVj7KrVlKP+Jnt8kDH8P/APJTL3/sGxf+hPXeN94f7prg/D//ACUy9/7BsX/oT13h+/8A8Br924P/AORZH5nn4z+J/wBunhngL/kbPiR/2MMv/pPFXmfwU8ZeLfiR8cfjBd6h4gkXwZ4d1NfDul+Hkii2pIkSNLK7bfNb73yfPt+d69M8Bf8AI2fEj/sYZf8A0nir5o+LPwx+NvwP+LviP4h/BS0t/FWj+KpUuNY8L3W391Oi7PNi3Mm/ft++nz/PX6c9oHgUz1D9p3RLr4f/AAf8UeNfh/LY+EPFGgxf2q93aaZB/pkUX+tilZovusv935t9bnxF8SJ41/ZmuPECQ+QmraFa6gkP9zzfKl2f+PV8x61YftQftaRL4P8AFXhez+GHgK8Kf2xdr/rZ41bftTe7u33fu/c/2q+qfjBo9v4b+AWsaTYxeRZafpkFrBD/AHIomiRE/wC+Vp0feqRCp8Ehv7TnxIvvhH8AvG3ivSm8jVbGwb7FNt3eVPKyRRP8/wDdZq1Ph14Vvbz4V6Fp/j3UI/GusTWsVxfXuo2kTJLO6732xKu1VTdsX5f4K0vi18OrL4ufDXxH4P1OVorTWLSW1eZE3NEzfcl/4C21q+N9I8YftgfAvT4vCTfD/T/iJp9iv2TTtchfe80S/d3OkqN93++tTKXLIqB7aPEWt/C/9rTw54Jt9Tjl8CeMNGvLqx0SGyit1066ttjv5TxKjbWX+9ur0bQP+S2eMP8AsD6d/wChy14l+zX8H/ir4k+LFx8XfjbLb2PiCGxl07RPD9rs2WEcv+tdtjMqM/pvZ/nffXtugf8AJbPGH/YH07/0OWt6fwyJqfFE4QeOfFXiz9sS78GafrsmkeD/AAr4et9V1GyhiiaTUZ52/dIzMrsqqu37rL0r0H4j/Du31zw/rF3oX2Hw94taF3sfEMemQS3EEqLvRv3sTbl/v14j+0x8G/ihpfxQ0/4wfBe4hl8Wx2KadquiXTL5WowI29PvbEZl/u71+4myvMdY+IH7ZHxkgl8JQfDrT/ANveJ9mvtedtvlRv8AI7K7St/D/cRnrlvy/Ebcp9FfAL4l6l8Xf2V9H8S6rL5usXWj3EV9JhV82eJZYpZfk+T5mXf/AMDr0/4fafb658G/D+mXsK3NleaFBbzxv/y0ieHYy/8AfNch4B+GNj8GPgHa+CrGVp7fR9FuInuHG3zZfKd5Zdv8O5mZq9A+FHHwz8In/qEW/wD6KSvyvxAcoYSh/iO7BfxZHkp/YD/Z9/6Jlp3/AIE3H/x2r2gfsT/BPwprmn6ro3gKy07VbGZLi2uYbifdDKnzK/8Ara92wAaK/GZ5zmMo8k6sv/Amex7OH8pzHif/AJGDwj/2E/8A2i9enp9+vMPE/wDyMHhH/sJ/+0Xr09Pv1+r8Cf7pU/xfocWN+yfN3xY/5LVef9gO3/8ASiWsjZWv8WP+S1Xn/YDt/wD0olrIr2cb/HkfDQ+OX+JilOBUFx/x73H/AFyf/wBAqY9BTLn/AI9rj/rk/wD6DXnhV+Awfh9/yI+hf9ekVdEE4Nc98Ov+RH8P/wDXlFXQDoauXxGeF/hx/wAIbK5jxR/yMfg//r+uP/RL109cx4o/5GPwf/1/XH/ol6ImOL+D/t5HSU/ZRRUHaMf/AFdeifszf8eHi/8A7D9x/wCgRV52/wDq69E/Zm/48PF//YfuP/QIq9zLP4wqX+90/wDt49vooor6w+pCkwKWigD4d/bG/Z0+Jdx8XNC+NfwMuo4vHul2X2G+024ZV/tCBd+zaZfkb721lbbu+Ta25a8pm/av/bivD/Y9v8ClttTb919uGj3HlK39/e8vlf8Aj22v04pNtAHxt+wr+zJ46+GeseM/ib8WL1bz4leNGT7UiSrJ9liU7trMvy7mbb8ifIqxIor7KoooAKKKKACiiigAooooAKKKKACiiigAooooAKQ9KWkPSgDwnVf+TjPEH/YuWf8A6US11R61yuq/8nGeIP8AsXLP/wBKJa6o9a9qG0fQ86PxyE2VV1f/AJA99/1wm/8AQHq1VXVP+QZff9cJf/QHq0M5X4H/APJIPBP/AGB7f/0Cu1CcGuK+B/8AySDwT/2B7f8A9ArtR0NEvikZU/hiA61ga3/yOHhH/r6uP/RL1vjrWDrX/I4eEf8Ar6uP/RL18Pxj/wAiir8j1MB/Gj/28d3RRRX8qn0LGN/q6o/Cr/maP+wvN/6ClXm/1dUfhV/zNH/YXm/9BSv0Dgr/AJGkf8Mjmr/wTtbn/US/7rV4B8B/+SP+FP8ArxT/ANDevoC5/wBQ30avn/4D/wDJH/Cn/Xin/ob1/SuE+CXqj5qr/Fid7RRRXWScF8Sf+Rk+HP8A2Hf/AG3lrvz90VwHxJ/5GT4c/wDYd/8AbeWvQE+4KqfwxMY/FIZspw6U2nDpUM2MfwN/yFfFX/YQ/wDaSV2v8NcV4E/5Cvir/sIf+0krtf4a/jzOf+RlX/xS/M+t+zH/AAx/IQ9BXJ/FL/kQdb/64f8As1dYegrlPih/yIOt/wDXD/2avMo/H8y47o9Tg+4n0ryz9pT/AJEfTP8AsO6b/wClCV6nB9xPpXln7Sn/ACI+mf8AYd03/wBKEr+ucF8MPkfNV/hkX3/1j/71N2U5/wDWP/vU2veOQcOprgPD3/JafHH/AGD9L/8Aa9d+OprgPD3/ACWnxx/2D9L/APa9VD4ZGU/iid7RsooqTU4v43f8kd8bf9ge4/8AQa6vR/8AkC2P/XCL/wBBSuU+N3/JHfG3/YHuP/Qa6rSf+QTZf9cY/wD0FKr/AJdmX2y1soooqTU4XxJ/yWj4c/8AXLV//RMVeqfw15X4k/5LR8Of+uWr/wDomKvVP4a/nbxC/wCRhH/Cj2Mu+CX+Ikooor8qPYKHwk/5Bmrf9hW8/wDRtdF4s/5FrWP+vOX/ANAaud+En/IM1b/sK3n/AKNrovFn/Itax/15y/8AoDV/UXDv/Itof4UeJivikeSfCb/kmXhL/sGW/wD6KrqynNcp8Jv+SZeEv+wZb/8AoqurPWvvnvI8aHwRFauB8df8lJ+G/wD193//AKS13zVwPjr/AJKT8N/+vu//APSWin8YVPgO8o2UUVJoOT/Wr/v1598Ev+RPu/8AsNaj/wClD16Cn+tX/frz74Jf8ifd/wDYa1H/ANKHqofDIj7UT0FqFoahaktnn3xk/wCQP4d/7GfS/wD0qSvXa8i+Mn/IH8O/9jPpf/pUleu1+EeI38Wh/hZ6eA+OXyCiiivxY90x9A/5Kde/9g2L/wBCeu7b/Wj/AHDXCaB/yU69/wCwbF/6E9d23+tH+4a/o7g//kWR+Z5uK/if9unhngb/AJGz4j/9jG3/AKTxV2h71xXgb/kbPiR/2Mbf+k8Vdqe9fp8fgPnaYBOK89+P3/JHvFf/AF6r/wCjUr0IdK89+P3/ACR7xX/16r/6NStafxRFU+CR6HSFOKWkPSpZQDqa890H/kuHjH/sE6d/6FLXoQ6mvPdB/wCS4eMf+wTp3/oUtVD4ZEy+OJ6BRsooqTUyvFX/ACKet/8AXhcf+iXqx8KP+SZ+EP8AsFW//opKr+Kv+RT1v/rwuP8A0S9T/Cj/AJJf4Q/7BNv/AOikr8i8RP8Ac6f+I9DAfxJHWUUUV/Ph9Acx4n/5GDwj/wBhP/2i9enp9+vMPE//ACMHhH/sJ/8AtF69Qj+8a/dOBP8AdKn+L9Dzcb9k+bfix/yWu9/7Adv/AOlEtZFa/wAWP+S13v8A2A7f/wBKJayK9fG/x5Hw0fjl/ikA6Gm3H/Hrcf8AXJ//AEGnDoabcf8AHrcf9cn/APQa4SKvwGD8O/8AkR/D/wD15RV0Fc/8O/8AkR/D/wD15RV0FXL4jPC/wY/4RWrl/FP/ACMnhD/r+uP/AES9dQ1cv4p/5GTwh/1/XH/ol6EZ4v8Ahf8AbyOnoooqDuGP/q69E/Zm/wCPDxf/ANh+4/8AQIq87f8A1deifsx/8eHjD/sYLj/0CKvcyz+MKl/vdP8A7ePb6KKK+sPqQooooAKKKKACiiigAooooAKKKKACiiigAooooAKKKKACiiigAooooA8H1ED/AIaN8QDt/wAI5Z/+lEtdXXHeNtK8W6X8X7/xBo/hK68TabeaPb2W+2vrW38qWKWV2/1sqN/GtKdZ+IQ/5pPqX/g607/47XqQ5eWPvfieX8Mpe7+B2GTVTVD/AMSu9/64S/8AoL1zP9t/EL/ok+pf+DnTv/jtVLzV/iLcWdxbp8KtQXzoni3/ANs6b/Ev/XWt/wDt6P8A4Ehc392RP8Ef+SPeCf8AsD2//oNdqeteW+A4viR4P8FaFok3wvvrmXTbKK1eVNasFSVkX7/+troP7a+If/RJ9S/8HOnf/HaqVm5e9H/wJEU5cqj7svuOyxisDWuPF/hLP/Pzcf8Aol6yf+Ej+IY4/wCFVal/4OdO/wDjtV1Xx1rGr6VfXHw/vNMTTZZZdj6rZy+bui2bF2y/JXxXFVOdXK6kKXvS092Op6uAlH20efzPWcH1owfWuW/tPxh/0JV1/wCDC1/+Lpf7T8Yf9CTd/wDgytf/AIuv5r/sfMP+fEv/AAFn0n/by+9HTdAdvFZ3wrxt8S/9hif/ANBSso6l4y/6Eq6/8D7X/wCLrV+Gmm6lplnq02q2TafLeahJc+S8qy4VlTuv+7X3HCOX4vD5lGdWnKMeV/FGxx4m3s/iR3dwP9Hl/wB1q+ffgPz8H/Cn/Xin/oT19BSfvI2RPvYr5k+HsPxF8F+B9H0KX4X315LY2/2d5E1qxVZfm+9/ra/oHDSilKLPna696Mj1fBowa4v+2/iH/wBEm1L/AMHOm/8Ax2j+2/iH/wBEm1L/AMHOm/8Ax2u7/t6P3ow5v8RW+JXHij4df9h3/wBt5a75D+7zXlXii0+JGv6x4Zu4vhffQJpOofbSj61YtuXynTYv73/aroP7c+If/RKdS/8AB7p3/wAdrWXLyx96P/gSM4y96Xuy+47Xmjn1riv7b+If/RJ9S/8ABzpv/wAdpf7b+If/AESbUv8Awc6b/wDHaxf+KP3o0v8A4jY8Ek/2z4n/AOwh0/7ZJXYKCSea888NDxhpkupXNx4IvFa+uvtHk/2ha/uvkRNu/wA35vuV0I1XxgP+ZKusf9hC1/8Ai6/lLNMrxtXH15woSlHmf2T7ONuWPvR+FdUdRgnviuQ+KP8AyIetY/54f+zVP/a3jMdPBFxj/sIWv/xdZPiiPxd4k8P6hpieDLiB7qLYHfULVlT/AMfrzqeU5h7RfuJf+As0VoOLco/ej2i3/wBWn0ryv9pI/wDFD6X/ANh3Tv8A0oSvU4fkiT6V5l8fPD+t6/4Lt4tC09tVv4NQtbv7IksUTOsUu9vmlZVr+ocJ7qhzHy9f4ZFtyfMf/epuTXFvr/xDk3/8Wq1L/wAHum//AB2j+3PiH/0SnUv/AAe6b/8AHa92396P3o8/m/uy+47X3rgfDn/JafG//YP0v/2vVk678Q/+iU6l/wCD3Tv/AI7XOaVafEjT/HviDXW+F980WpW9pbpCmtWO6LyN/wA3+t/i3Vcbe970fvREpe9H3ZfcesZFGRXFf258Q/8AolOp/wDg807/AOO0f258Q/8AolOp/wDg807/AOO0v+3o/wDgSL5v7svuE+N//JH/ABtz/wAwe4/9BrqtGGNLsef+WMf/AKClecePIfiR4w8F67osXwvvraXUrSW0SV9asWSLev3/APW1rWer/EW3s7e3b4U6g3kxJFv/ALa03+Ff+utaacvLzR+9Ec3vc3LL7jvMj0oyPSuM/tr4h/8ARJtS/wDB1pv/AMdo/tr4h/8ARJtS/wDB1pv/AMdrL/t6P3ovm/xfcQeJP+S0fDn/AK5av/6Kir1GU4HA5rxma0+IGsfETwvrcvw9vLG10mK8SRH1izbf5sSIm3bL/s16D/ani2QZHge89j/aFr/8XX4Dx3gsVicwjKhGUo8q+FXPay34Jf4vtaHVZFGRXLf2n4w/6Eq6/wDBha//ABdH9p+MP+hKuv8AwYWv/wAXX5v/AGNj/wDnxL/wFnt2/vL/AMCRsfCI/wDEs1X/ALCt5/6NNdN4t/5FrVx/06S/+gtXPfDTS77S9Duv7TtWs7u4vZ7jyXlSXYrtu+8vy10PiK2e80PU7WBd0s1tIka/3mZWr+kMjp1aWBoUqseVxijxMV7zlynkfwn/AOSZeEf+wZb/APoqurrzXwe3xD8L+E9H0d/hfqF01naxW7yJrVgqS7E27v8AW1s/218RD/zSfUv/AAc6d/8AHa+5labl70fvR4UZcsY+7L7jsSc1wXjn/kpHw3/6+7//ANJasnXfiH/0SnUv/B7p3/x2uc8RWvxI1fxT4X1aL4X3yQ6TLcSyIdasdz+bD5Xy/vaUbc3xR/8AAkFSXu/DL7j1jIoyK4r+3PiH/wBEp1P/AMHmnf8Ax2j+3PiH/wBEp1P/AMHmnf8Ax2l/29H/AMCRfN/dl9x2iHMi/wC/Xn3wTOPB93/2GtS/9KHq7/bnxD/6JVqX/g707/47XP8AgK1+JHg/Q7ixl+F99cvJfXV1vTWrFflnmeXZ/rf4d1ae7b4o/wDgSI5ve+GX3HquD60YPrXF/wBt/ET/AKJPqX/g503/AOO0f238RP8Aok+pf+DnTf8A47WX/b0f/AkXzf4vuKXxj/5A3hw/9TPpf/pUlesOfn6ZFeJ+MrT4i+MLfR7dPhpfWKWusWeoSTTa1Yt8sUySunyy/wCxXo51bxbJ/wAyRdf+DC1/+Lr8U49wlbF1afsIyl7r+FXPay73uaX/AKVodVkelJmuW/tPxh/0JN1/4MrX/wCLpf7R8Yf9CTdf+DK1/wDi6/I1k2P/AOfEv/AWe3b+8v8AwJGh4ef/AIuTev8A9QyL/wBGvXonTvXmfg+x1iXxZd6nqWjyaRC1olvGk11FLvZW3fwMa9KYn8a/deFKFTDZfGlVjKMrv4jysTbm908F8CY/4Sf4kf8AYxy/+k8Vdp2rz+Kx8e+E/F/jBrT4f3mvWOqar9tguodTsoldfJRPuyy7v4avf218Rh/zSfUv/B1p3/x2v06NmviX3nhxly/Z/A7PHPrXnvx+/wCSP+K/+vVf/RqVf/tn4h/9En1L/wAHOnf/AB2ua+Itj8SPGngfWNBt/hffWc15F5SSPrNgyp8yP/z1/wBmt42i4+9H/wACRhUnzxlHll9x6xuo3Vxv9ufEb/olOpf+DrTf/jtM/tz4h/8ARKdS/wDB7pv/AMdqLf3o/eiub+7L7jtOnWvPtA4+OHjD/sE6b/6FLV0678Q/+iU6l/4PNO/+O1zmnWvxItPHut+IH+F988V9aWtskP8AbNhui8jf83+t/i3VUbe970f/AAJEyl8Puy+49YwfWjB9a4v+2/iJ/wBEn1L/AMHOm/8Ax2j+2/iJ/wBEn1L/AMHOm/8Ax2p/7ej/AOBIvm/xfcb3ir/kU9b/AOvC4/8ARL0/4WMf+FZ+EsD/AJhVv/6KSuQ1jVPiFqmj31kvws1BXuLeW3R/7Z075N6On/PWtnwbB4w8P+D9C0q48D3jXFnYxW8jpqFr95F2/wDPWvyvjzDV8Th6cKEeb3vs6/kepl/vTl/7doei0mBXLf2n4w/6Eu6/8GFr/wDF0f2n4w/6Eq6/8GNr/wDF1+G/2NmH/PiX/gLPof8At5f+BId4mfHiPwh/2E//AGi9eogc5ryBo/EuueI9Ca48NTaZb2d39oknmu4JPl2On3Vbd/FXr6Nxj8q/Y+DcNWwuElGvGUfe+0rHm4vllynzd8VB/wAXqvP+wLb/APpRLWPW/wDFbwp4svPiXLrGieGZNZ0+bTIrTfDdwRbGSWV2+WVl/v1z48O/EMn/AJJ1ef8Ag1s//jtezi8NXnXlOMT8/wCblqyjyy+J/ZYuB6025/49rj/rk/8A6DS/8I18Rf8Aonl5/wCDWz/+O1HN4V+Ijxun/CAXfzJt/wCQpZf/ABVcX1St/wA+pCnW0+GX/gLMT4df8iP4f/68oq6Csvwv4G+IWh+HtPsm+H95K1rCsTumq2fz/wDkWtP/AIRv4heVkfD28x/2E7P/AOO0Swdf+WROHqctOMZRl8P8rHcelcv4oP8AxUfg/wD6/rj/ANEvXTf8I38Qif8Aknl5/wCDSz/+O1k6z4B+I+oaxok6fD+6VbGaWV0OpWfz74nT/nr/ALVEcHX/AJZGOJqe1p8saUviX2Wa+B60YHrS/wDCN/EX/ond3/4NbP8A+O0v/CN/EP8A6J3d/wDg0s//AI7R9UrfyyOv2392X/gLI2/1degfs0hv7L8X/N/zH7j5f+2UVcAfC/xF/wCie3f/AINLP/47Xo/wE8M694Z0jXZdb01tIn1DVZbtbd5kmwrJGv3lZl/havWy3DVaVXmlE0w0pSxEfdl/4C0e0jpS0g6UtfTH1gUUUUAFFFFABRRRQAUUUUAFFFFABRRRQAUUUUAFFFFABRRRQAUUUUAFFFFABRRRQAUUUUAJgUYFLRQAmBRgUtFABSYFLRQAUmBS0UAJgUYFLRQAUUUUAJgUYFLRQAmBRgUtFACYFGBS0UAFFFFABRRRQAUUUUAFFFFABRRRQAUUUUAFFFFACYFGBS0UAFFFFABRRRQAUUUUAFFFFABRRRQAUUUUAFFFFACYFGBS0UAJgUtFFABRRRQAUUUUAFFFFABRRRQAUUUUAFFFFACYFGBS0UAJgUtFFABRRRQAUmBS0UAFFFFABSYFLRQAUUUUAFFFFABRRRQAUUUUAFFFFABRRRQAUUUUAFFFFABRRRQAUUUUAFFFFABRRRQAUUUUAFFFFABRRRQAUUUUAFFFFABRRRQAUUUUAFFFFABRRRQAUUUUAFFFFABRRRQAUUUUAFFFFABRRRQAUUUUAFFFFABRRRQAUUUUAFFFFABRRRQAUUUUAFFFFABRRRQAUUUUAFFFFABRRRQAUUUUAFFFFABRRRQAUUUUAFFFFABRRRQAUUUUAFFFFABRRRQAUUUUAFFFFABRRRQAUUUUAFFFFABRRRQAUUUUAFFFFABRRRQAUUUUAFFFFABRRRQAUUUUAFFFFAH/2Q==)"
      ]
    },
    {
      "cell_type": "code",
      "source": [],
      "metadata": {
        "id": "ry4u6wm_idrD"
      },
      "execution_count": null,
      "outputs": []
    },
    {
      "cell_type": "code",
      "source": [
        "def block(x, n_convs, filters, kernel_size, activation, pool_size, pool_stride, block_name):\n",
        "  \"\"\"\"\n",
        "  Defines a block in the VGG network\n",
        "\n",
        "  Args:\n",
        "    x (tensor) -- input image\n",
        "    n_convs(int) -- number of convoolution layers to apppend\n",
        "    filters(int) -- number of filters for the convolution layer\n",
        "    activation(string or object) -- activation to use\n",
        "    pooling_size(int) -- size of the pooling layer\n",
        "    pooling_stride(int) -- stride of the pooling layer\n",
        "    block_name (string) -- name of the block\n",
        "\n",
        "    Returns:\n",
        "      tensors containing the max-pooled ouputs of the convolution\n",
        "  \"\"\"\n",
        "\n",
        "  for i in range(n_convs):\n",
        "    x = tf.keras.layers.Conv2D(filters = filters, kernel_size = kernel_size, activation = activation, padding = \"same\", name = \"{}_conv{}\".format(block_name,i+1))(x)\n",
        "    x = tf.keras.layers.MaxPooling2D(pool_size = pool_size, strides = pool_stride,name=\"{}_pool{}\".format(block_name, i+1 ))(x)\n",
        "    return x\n"
      ],
      "metadata": {
        "id": "FRsHYt5pid1R"
      },
      "execution_count": null,
      "outputs": []
    },
    {
      "cell_type": "markdown",
      "source": [],
      "metadata": {
        "id": "vm4FApGeieEK"
      }
    },
    {
      "cell_type": "code",
      "source": [
        "def VGG_16(image_input):\n",
        "  \"\"\"\n",
        "  This function defines VGG encoder\n",
        "\n",
        "  Args:\n",
        "    image_input(tensor) -- batch of images\n",
        "  \n",
        "  Returns:\n",
        "    tuple of tensors -output of all encoder blocks plus final convolution layers\n",
        "  \n",
        "  \"\"\"\n",
        "\n",
        "  # everything ramains same except the filter size, as we go deeper, the filter size is going to increase, save the \n",
        "  # save the blocks in p1 to p5\n",
        "\n",
        "  x = block(image_input, n_convs = 2, filters = 64, kernel_size = (3,3), activation = \"relu\", pool_size = (2,2), pool_stride = (2,2), block_name =\"block1\")\n",
        "  p1 = x\n",
        "\n",
        "  x = block(x, n_convs = 2, filters = 64, kernel_size = (3,3), activation = \"relu\", pool_size = (2,2), pool_stride = (2,2), block_name = \"block2\")\n",
        "  p2 = x\n",
        "\n",
        "  x = block(x, n_convs = 2, filters = 128, kernel_size = (3,3), activation = \"relu\", pool_size = (2,2), pool_stride = (2,2), block_name = \"block2\")\n",
        "  p2 = x\n",
        "\n",
        "  x = block(x, n_convs = 2, filters = 256, kernel_size = (3,3), activation = \"relu\", pool_size = (2,2), pool_stride = (2,2), block_name = \"block3\")\n",
        "  p3 = x\n",
        "\n",
        "  x = block(x,n_convs=3, filters=512, kernel_size=(3,3), activation='relu',pool_size=(2,2), pool_stride=(2,2), block_name='block4')\n",
        "  p4 = x\n",
        "\n",
        "  x = block(x,n_convs=3, filters=512, kernel_size=(3,3), activation='relu',pool_size=(2,2), pool_stride=(2,2), block_name='block5')\n",
        "  p5 = x\n",
        "\n",
        "  # create the vgg model \n",
        "  vgg = tf.keras.Model(inputs = image_input, outputs = p5)\n",
        "  # load the pretrained weights we downloaded earlier\n",
        "  vgg.load_weights(vgg_weights_path)\n",
        "  # number of filters for the output convolutional layer\n",
        "  n = 4096\n",
        "  # lets chain two more conv layers to get more features\n",
        "  c6 = tf.keras.layers.Conv2D(n, (7,7), activation = \"relu\", padding = \"same\", name = \"conv6\")(p5)\n",
        "  c7 = tf.keras.layers.Conv2D(n, (1,1), activation = \"relu\", padding = \"same\", name = \"conv6\")(c6)\n",
        "\n",
        "  # return the output at each stage\n",
        "  return (p1, p2, p3, p4, c7)\n",
        "\n"
      ],
      "metadata": {
        "id": "IIqT2Oe9ieLW"
      },
      "execution_count": null,
      "outputs": []
    },
    {
      "cell_type": "markdown",
      "metadata": {
        "id": "45pH17d__KUW"
      },
      "source": [
        "### Define FCN 8 Decoder\n",
        "\n",
        "Next, you will build the decoder using deconvolution layers. Please refer to the diagram for FCN-8 at the start of this section to visualize what the code below is doing. It will involve two summations before upsampling to the original image size and generating the predicted mask."
      ]
    },
    {
      "cell_type": "code",
      "metadata": {
        "id": "hX2V0E2gs-ZQ"
      },
      "source": [
        "def fcn8_decoder(convs, n_classes):\n",
        "  '''\n",
        "  Defines the FCN 8 decoder.\n",
        "\n",
        "  Args:\n",
        "    convs (tuple of tensors) - output of the encoder network\n",
        "    n_classes (int) - number of classes\n",
        "\n",
        "  Returns:\n",
        "    tensor with shape (height, width, n_classes) containing class probabilities\n",
        "  '''\n",
        "\n",
        "  # unpack the output of the encoder\n",
        "  f1, f2, f3, f4, f5 = convs\n",
        "  \n",
        "  # upsample the output of the encoder then crop extra pixels that were introduced\n",
        "  o = tf.keras.layers.Conv2DTranspose(n_classes , kernel_size=(4,4) ,  strides=(2,2) , use_bias=False )(f5)\n",
        "  o = tf.keras.layers.Cropping2D(cropping=(1,1))(o)\n",
        "\n",
        "  # load the pool 4 prediction and do a 1x1 convolution to reshape it to the same shape of `o` above\n",
        "  o2 = f4\n",
        "  o2 = ( tf.keras.layers.Conv2D(n_classes , ( 1 , 1 ) , activation='relu' , padding='same'))(o2)\n",
        "\n",
        "  # add the results of the upsampling and pool 4 prediction\n",
        "  o = tf.keras.layers.Add()([o, o2])\n",
        "\n",
        "  # upsample the resulting tensor of the operation you just did\n",
        "  o = (tf.keras.layers.Conv2DTranspose( n_classes , kernel_size=(4,4) ,  strides=(2,2) , use_bias=False ))(o)\n",
        "  o = tf.keras.layers.Cropping2D(cropping=(1, 1))(o)\n",
        "\n",
        "  # load the pool 3 prediction and do a 1x1 convolution to reshape it to the same shape of `o` above\n",
        "  o2 = f3\n",
        "  o2 = ( tf.keras.layers.Conv2D(n_classes , ( 1 , 1 ) , activation='relu' , padding='same'))(o2)\n",
        "\n",
        "  # add the results of the upsampling and pool 3 prediction\n",
        "  o = tf.keras.layers.Add()([o, o2])\n",
        "  \n",
        "  # upsample up to the size of the original image\n",
        "  o = tf.keras.layers.Conv2DTranspose(n_classes , kernel_size=(8,8) ,  strides=(8,8) , use_bias=False )(o)\n",
        "\n",
        "  # append a softmax to get the class probabilities\n",
        "  o = (tf.keras.layers.Activation('softmax'))(o)\n",
        "\n",
        "  return o"
      ],
      "execution_count": null,
      "outputs": []
    },
    {
      "cell_type": "markdown",
      "metadata": {
        "id": "yyn3xXSf_Ogl"
      },
      "source": [
        "### Define Final Model\n",
        "\n",
        "You can now build the final model by connecting the encoder and decoder blocks."
      ]
    },
    {
      "cell_type": "code",
      "metadata": {
        "id": "T29n8_dbuZNm"
      },
      "source": [
        "def segmentation_model():\n",
        "  '''\n",
        "  Defines the final segmentation model by chaining together the encoder and decoder.\n",
        "\n",
        "  Returns:\n",
        "    keras Model that connects the encoder and decoder networks of the segmentation model\n",
        "  '''\n",
        "  \n",
        "  inputs = tf.keras.layers.Input(shape=(224,224,3,))\n",
        "  convs = VGG_16(image_input=inputs)\n",
        "  outputs = fcn8_decoder(convs, 12)\n",
        "  model = tf.keras.Model(inputs=inputs, outputs=outputs)\n",
        "  \n",
        "  return model\n"
      ],
      "execution_count": null,
      "outputs": []
    },
    {
      "cell_type": "code",
      "metadata": {
        "id": "_w8qNGG1vQHZ"
      },
      "source": [
        "# instantiate the model and see how it looks\n",
        "model = segmentation_model()\n",
        "model.summary()"
      ],
      "execution_count": null,
      "outputs": []
    },
    {
      "cell_type": "markdown",
      "metadata": {
        "id": "dekOKLw0_Rgg"
      },
      "source": [
        "### Compile the Model"
      ]
    },
    {
      "cell_type": "markdown",
      "metadata": {
        "id": "6cAcCHkyxqt4"
      },
      "source": [
        "Next, the model will be configured for training. You will need to specify the loss, optimizer and metrics. You will use `categorical_crossentropy` as the loss function since the label map is transformed to one hot encoded vectors for each pixel in the image (i.e. `1` in one slice and `0` for other slices as described earlier)."
      ]
    },
    {
      "cell_type": "code",
      "metadata": {
        "id": "ZpWpp8h4g_rE"
      },
      "source": [
        "sgd = tf.keras.optimizers.SGD(lr=1E-2, momentum=0.9, nesterov=True)\n",
        "\n",
        "model.compile(loss='categorical_crossentropy',\n",
        "              optimizer=sgd,\n",
        "              metrics=['accuracy'])"
      ],
      "execution_count": null,
      "outputs": []
    },
    {
      "cell_type": "markdown",
      "metadata": {
        "id": "L9zxLlNZ_XbT"
      },
      "source": [
        "## Train the Model\n",
        "\n",
        "The model can now be trained. This will take around 30 minutes to run and you will reach around 85% accuracy for both train and val sets."
      ]
    },
    {
      "cell_type": "code",
      "metadata": {
        "id": "8HoZwpGWhMB-"
      },
      "source": [
        "# number of training images\n",
        "train_count = 367\n",
        "\n",
        "# number of validation images\n",
        "validation_count = 101\n",
        "\n",
        "EPOCHS = 50\n",
        "\n",
        "steps_per_epoch = train_count//BATCH_SIZE\n",
        "validation_steps = validation_count//BATCH_SIZE\n",
        "\n",
        "history = model.fit(training_dataset,\n",
        "                    steps_per_epoch=steps_per_epoch, validation_data=validation_dataset, validation_steps=validation_steps, epochs=EPOCHS)"
      ],
      "execution_count": null,
      "outputs": []
    },
    {
      "cell_type": "markdown",
      "metadata": {
        "id": "y1luX1e7_bEd"
      },
      "source": [
        "## Evaluate the Model\n",
        "\n",
        "After training, you will want to see how your model is doing on a test set. For segmentation models, you can use the intersection-over-union and the dice score as metrics to evaluate your model. You'll see how it is implemented in this section."
      ]
    },
    {
      "cell_type": "code",
      "metadata": {
        "id": "zENjQuK0luH5"
      },
      "source": [
        "def get_images_and_segments_test_arrays():\n",
        "  '''\n",
        "  Gets a subsample of the val set as your test set\n",
        "\n",
        "  Returns:\n",
        "    Test set containing ground truth images and label maps\n",
        "  '''\n",
        "  y_true_segments = []\n",
        "  y_true_images = []\n",
        "  test_count = 64\n",
        "\n",
        "  ds = validation_dataset.unbatch()\n",
        "  ds = ds.batch(101)\n",
        "\n",
        "  for image, annotation in ds.take(1):\n",
        "    y_true_images = image\n",
        "    y_true_segments = annotation\n",
        "\n",
        "\n",
        "  y_true_segments = y_true_segments[:test_count, : ,: , :]\n",
        "  y_true_segments = np.argmax(y_true_segments, axis=3)  \n",
        "\n",
        "  return y_true_images, y_true_segments\n",
        "\n",
        "# load the ground truth images and segmentation masks\n",
        "y_true_images, y_true_segments = get_images_and_segments_test_arrays()"
      ],
      "execution_count": null,
      "outputs": []
    },
    {
      "cell_type": "markdown",
      "metadata": {
        "id": "Ly1ErxSA_kpb"
      },
      "source": [
        "### Make Predictions\n",
        "\n",
        "You can get output segmentation masks by using the `predict()` method. As you may recall, the output of our segmentation model has the shape `(height, width, 12)` where `12` is the number of classes. Each pixel value in those 12 slices indicates the probability of that pixel belonging to that particular class. If you want to create the predicted label map, then you can get the `argmax()` of that axis. This is shown in the following cell."
      ]
    },
    {
      "cell_type": "code",
      "metadata": {
        "id": "1CpEeUiN7ey9"
      },
      "source": [
        "# get the model prediction\n",
        "results = model.predict(validation_dataset, steps=validation_steps)\n",
        "\n",
        "# for each pixel, get the slice number which has the highest probability\n",
        "results = np.argmax(results, axis=3)"
      ],
      "execution_count": null,
      "outputs": []
    },
    {
      "cell_type": "markdown",
      "metadata": {
        "id": "c-nmUQkp_dc6"
      },
      "source": [
        "### Compute Metrics\n",
        "\n",
        "The function below generates the IOU and dice score of the prediction and ground truth masks. From the lectures, it is given that:\n",
        "\n",
        "$$IOU = \\frac{area\\_of\\_overlap}{area\\_of\\_union}$$\n",
        "<br>\n",
        "$$Dice Score = 2 * \\frac{area\\_of\\_overlap}{combined\\_area}$$\n",
        "\n",
        "The code below does that for you. A small smoothening factor is introduced in the denominators to prevent possible division by zero."
      ]
    },
    {
      "cell_type": "code",
      "metadata": {
        "id": "EobztGe_66sA"
      },
      "source": [
        "def compute_metrics(y_true, y_pred):\n",
        "  '''\n",
        "  Computes IOU and Dice Score.\n",
        "\n",
        "  Args:\n",
        "    y_true (tensor) - ground truth label map\n",
        "    y_pred (tensor) - predicted label map\n",
        "  '''\n",
        "  \n",
        "  class_wise_iou = []\n",
        "  class_wise_dice_score = []\n",
        "\n",
        "  smoothening_factor = 0.00001\n",
        "\n",
        "  for i in range(12):\n",
        "    intersection = np.sum((y_pred == i) * (y_true == i))\n",
        "    y_true_area = np.sum((y_true == i))\n",
        "    y_pred_area = np.sum((y_pred == i))\n",
        "    combined_area = y_true_area + y_pred_area\n",
        "    \n",
        "    iou = (intersection + smoothening_factor) / (combined_area - intersection + smoothening_factor)\n",
        "    class_wise_iou.append(iou)\n",
        "    \n",
        "    dice_score =  2 * ((intersection + smoothening_factor) / (combined_area + smoothening_factor))\n",
        "    class_wise_dice_score.append(dice_score)\n",
        "\n",
        "  return class_wise_iou, class_wise_dice_score"
      ],
      "execution_count": null,
      "outputs": []
    },
    {
      "cell_type": "markdown",
      "metadata": {
        "id": "duS-cSFMy1VH"
      },
      "source": [
        "### Show Predictions and Metrics\n",
        "\n",
        "You can now see the predicted segmentation masks side by side with the ground truth. The metrics are also overlayed so you can evaluate how your model is doing."
      ]
    },
    {
      "cell_type": "code",
      "metadata": {
        "id": "Hkbsk_P1fpRM"
      },
      "source": [
        "# input a number from 0 to 63 to pick an image from the test set\n",
        "integer_slider = 0\n",
        "\n",
        "# compute metrics\n",
        "iou, dice_score = compute_metrics(y_true_segments[integer_slider], results[integer_slider])  \n",
        "\n",
        "# visualize the output and metrics\n",
        "show_predictions(y_true_images[integer_slider], [results[integer_slider], y_true_segments[integer_slider]], [\"Image\", \"Predicted Mask\", \"True Mask\"], iou, dice_score)"
      ],
      "execution_count": null,
      "outputs": []
    },
    {
      "cell_type": "markdown",
      "metadata": {
        "id": "psu5U4jRy5px"
      },
      "source": [
        "### Display Class Wise Metrics\n",
        "\n",
        "You can also compute the class-wise metrics so you can see how your model performs across all images in the test set."
      ]
    },
    {
      "cell_type": "code",
      "metadata": {
        "id": "XqzDRh0e6_8G"
      },
      "source": [
        "# compute class-wise metrics\n",
        "cls_wise_iou, cls_wise_dice_score = compute_metrics(y_true_segments, results)\n"
      ],
      "execution_count": null,
      "outputs": []
    },
    {
      "cell_type": "code",
      "metadata": {
        "id": "7mnS0UPtsMeB"
      },
      "source": [
        "# print IOU for each class\n",
        "for idx, iou in enumerate(cls_wise_iou):\n",
        "  spaces = ' ' * (13-len(class_names[idx]) + 2)\n",
        "  print(\"{}{}{} \".format(class_names[idx], spaces, iou)) \n"
      ],
      "execution_count": null,
      "outputs": []
    },
    {
      "cell_type": "code",
      "metadata": {
        "id": "MVxYk02pJm8O"
      },
      "source": [
        "# print the dice score for each class\n",
        "for idx, dice_score in enumerate(cls_wise_dice_score):\n",
        "  spaces = ' ' * (13-len(class_names[idx]) + 2)\n",
        "  print(\"{}{}{} \".format(class_names[idx], spaces, dice_score)) \n"
      ],
      "execution_count": null,
      "outputs": []
    },
    {
      "cell_type": "markdown",
      "metadata": {
        "id": "nm6399aII-m-"
      },
      "source": [
        "**That's all for this lab! In the next section, you will work on another architecture for building a segmentation model: the UNET.**"
      ]
    }
  ]
}